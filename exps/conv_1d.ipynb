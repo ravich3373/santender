{
 "cells": [
  {
   "cell_type": "code",
   "execution_count": 1,
   "metadata": {},
   "outputs": [],
   "source": [
    "#import gdb"
   ]
  },
  {
   "cell_type": "code",
   "execution_count": 2,
   "metadata": {},
   "outputs": [],
   "source": [
    "import pandas as pd\n",
    "import numpy as np\n",
    "from torchvision import *"
   ]
  },
  {
   "cell_type": "code",
   "execution_count": 3,
   "metadata": {
    "_cell_guid": "79c7e3d0-c299-4dcb-8224-4455121ee9b0",
    "_uuid": "d629ff2d2480ee46fbb7e2d37f6b5fab8052498a"
   },
   "outputs": [],
   "source": [
    "trn = pd.read_csv('../train.csv',index_col='ID_code')\n",
    "tst = pd.read_csv('../test.csv',index_col='ID_code')"
   ]
  },
  {
   "cell_type": "code",
   "execution_count": 4,
   "metadata": {},
   "outputs": [
    {
     "data": {
      "text/html": [
       "<div>\n",
       "<style scoped>\n",
       "    .dataframe tbody tr th:only-of-type {\n",
       "        vertical-align: middle;\n",
       "    }\n",
       "\n",
       "    .dataframe tbody tr th {\n",
       "        vertical-align: top;\n",
       "    }\n",
       "\n",
       "    .dataframe thead th {\n",
       "        text-align: right;\n",
       "    }\n",
       "</style>\n",
       "<table border=\"1\" class=\"dataframe\">\n",
       "  <thead>\n",
       "    <tr style=\"text-align: right;\">\n",
       "      <th></th>\n",
       "      <th>target</th>\n",
       "      <th>var_0</th>\n",
       "      <th>var_1</th>\n",
       "      <th>var_2</th>\n",
       "      <th>var_3</th>\n",
       "      <th>var_4</th>\n",
       "      <th>var_5</th>\n",
       "      <th>var_6</th>\n",
       "      <th>var_7</th>\n",
       "      <th>var_8</th>\n",
       "      <th>...</th>\n",
       "      <th>var_190</th>\n",
       "      <th>var_191</th>\n",
       "      <th>var_192</th>\n",
       "      <th>var_193</th>\n",
       "      <th>var_194</th>\n",
       "      <th>var_195</th>\n",
       "      <th>var_196</th>\n",
       "      <th>var_197</th>\n",
       "      <th>var_198</th>\n",
       "      <th>var_199</th>\n",
       "    </tr>\n",
       "  </thead>\n",
       "  <tbody>\n",
       "    <tr>\n",
       "      <th>0</th>\n",
       "      <td>0</td>\n",
       "      <td>8.9255</td>\n",
       "      <td>-6.7863</td>\n",
       "      <td>11.9081</td>\n",
       "      <td>5.093</td>\n",
       "      <td>11.4607</td>\n",
       "      <td>-9.2834</td>\n",
       "      <td>5.1187</td>\n",
       "      <td>18.6266</td>\n",
       "      <td>-4.9200</td>\n",
       "      <td>...</td>\n",
       "      <td>4.4354</td>\n",
       "      <td>3.9642</td>\n",
       "      <td>3.1364</td>\n",
       "      <td>1.6910</td>\n",
       "      <td>18.5227</td>\n",
       "      <td>-2.3978</td>\n",
       "      <td>7.8784</td>\n",
       "      <td>8.5635</td>\n",
       "      <td>12.7803</td>\n",
       "      <td>-1.0914</td>\n",
       "    </tr>\n",
       "    <tr>\n",
       "      <th>1</th>\n",
       "      <td>0</td>\n",
       "      <td>11.5006</td>\n",
       "      <td>-4.1473</td>\n",
       "      <td>13.8588</td>\n",
       "      <td>5.389</td>\n",
       "      <td>12.3622</td>\n",
       "      <td>7.0433</td>\n",
       "      <td>5.6208</td>\n",
       "      <td>16.5338</td>\n",
       "      <td>3.1468</td>\n",
       "      <td>...</td>\n",
       "      <td>7.6421</td>\n",
       "      <td>7.7214</td>\n",
       "      <td>2.5837</td>\n",
       "      <td>10.9516</td>\n",
       "      <td>15.4305</td>\n",
       "      <td>2.0339</td>\n",
       "      <td>8.1267</td>\n",
       "      <td>8.7889</td>\n",
       "      <td>18.3560</td>\n",
       "      <td>1.9518</td>\n",
       "    </tr>\n",
       "  </tbody>\n",
       "</table>\n",
       "<p>2 rows × 201 columns</p>\n",
       "</div>"
      ],
      "text/plain": [
       "   target    var_0   var_1    var_2  var_3    var_4   var_5   var_6    var_7  \\\n",
       "0       0   8.9255 -6.7863  11.9081  5.093  11.4607 -9.2834  5.1187  18.6266   \n",
       "1       0  11.5006 -4.1473  13.8588  5.389  12.3622  7.0433  5.6208  16.5338   \n",
       "\n",
       "    var_8  ...  var_190  var_191  var_192  var_193  var_194  var_195  var_196  \\\n",
       "0 -4.9200  ...   4.4354   3.9642   3.1364   1.6910  18.5227  -2.3978   7.8784   \n",
       "1  3.1468  ...   7.6421   7.7214   2.5837  10.9516  15.4305   2.0339   8.1267   \n",
       "\n",
       "   var_197  var_198  var_199  \n",
       "0   8.5635  12.7803  -1.0914  \n",
       "1   8.7889  18.3560   1.9518  \n",
       "\n",
       "[2 rows x 201 columns]"
      ]
     },
     "execution_count": 4,
     "metadata": {},
     "output_type": "execute_result"
    }
   ],
   "source": [
    "trn.reset_index(inplace=True)\n",
    "trn.drop('ID_code',inplace=True,axis=1)\n",
    "trn.head(2)"
   ]
  },
  {
   "cell_type": "code",
   "execution_count": 5,
   "metadata": {},
   "outputs": [
    {
     "data": {
      "text/plain": [
       "(20098, 20098)"
      ]
     },
     "execution_count": 5,
     "metadata": {},
     "output_type": "execute_result"
    }
   ],
   "source": [
    "trn_1 = trn.loc[trn.target==1,:]\n",
    "trn_0 = trn.loc[trn.target==0,:][:len(trn_1)]\n",
    "len(trn_1),len(trn_0)"
   ]
  },
  {
   "cell_type": "code",
   "execution_count": 6,
   "metadata": {},
   "outputs": [],
   "source": [
    "val_index = np.append(trn_1.index.values,trn_0.index.values)\n",
    "val_index = np.setdiff1d(trn.index.values,val_index)"
   ]
  },
  {
   "cell_type": "code",
   "execution_count": 7,
   "metadata": {},
   "outputs": [
    {
     "data": {
      "text/plain": [
       "(159804, 159804)"
      ]
     },
     "execution_count": 7,
     "metadata": {},
     "output_type": "execute_result"
    }
   ],
   "source": [
    "len(val_index),len(trn)-2*(len(trn_0))"
   ]
  },
  {
   "cell_type": "code",
   "execution_count": 8,
   "metadata": {},
   "outputs": [],
   "source": [
    "val_index = np.append(val_index,trn_1.index.values[:int(0.2*len(trn_1))])"
   ]
  },
  {
   "cell_type": "code",
   "execution_count": 9,
   "metadata": {},
   "outputs": [],
   "source": [
    "from fastai.tabular import *\n",
    "from fastai.metrics import *\n",
    "import torchvision.models as models"
   ]
  },
  {
   "cell_type": "code",
   "execution_count": 10,
   "metadata": {},
   "outputs": [],
   "source": [
    "def basic_blk(n_in,n_out):\n",
    "    return  nn.Sequential(nn.Conv1d(n_in,n_out,3),\n",
    "                               nn.BatchNorm1d(n_out),\n",
    "                               nn.ReLU(inplace=True),\n",
    "                               nn.Conv1d(n_out,n_out,3),\n",
    "                               nn.BatchNorm1d(n_out))\n",
    "def begin_blk(n_in,n_out):\n",
    "    return nn.Sequential(nn.Conv1d(n_in,n_out,3),\n",
    "                        nn.BatchNorm1d(n_out),\n",
    "                        nn.ReLU(inplace=True),\n",
    "                        nn.MaxPool1d(3,stride=2))\n",
    "def head(n_in,n_out):\n",
    "    return nn.Sequential(nn.AdaptiveAvgPool1d(1),\n",
    "                        #nn.AdaptiveMaxPool1d(1),\n",
    "                        Flatten(),\n",
    "                        nn.BatchNorm1d(n_in),\n",
    "                        nn.Dropout(0.2),\n",
    "                        nn.Linear(n_in,n_out),\n",
    "                        nn.ReLU(inplace=True),\n",
    "                        nn.BatchNorm1d(n_out),\n",
    "                        nn.Dropout(0.2),\n",
    "                        nn.Linear(n_out,2))"
   ]
  },
  {
   "cell_type": "code",
   "execution_count": 11,
   "metadata": {
    "_kg_hide-input": false
   },
   "outputs": [],
   "source": [
    "class conv_struct(nn.Module):\n",
    "    def __init__(self,lyrs):\n",
    "        super().__init__()\n",
    "        self.bk = begin_blk(1,lyrs[0])\n",
    "        self.body_lyrs = [basic_blk(lyrs[i],lyrs[i+1]) for i in range(0,len(lyrs)-2)]\n",
    "        self.body = nn.Sequential(*self.body_lyrs)\n",
    "        self.head = head(lyrs[-2],lyrs[-1])\n",
    "        self.net = nn.Sequential(self.bk,\n",
    "                                self.body,\n",
    "                                self.head)\n",
    "    def forward(self,A,B):\n",
    "        return self.net(B.view(-1,20,10))"
   ]
  },
  {
   "cell_type": "code",
   "execution_count": 12,
   "metadata": {},
   "outputs": [],
   "source": [
    "data = (TabularList.from_df(trn,cont_names=tst.columns,procs=[Normalize])\n",
    "       .split_by_idx(val_index)\n",
    "       .label_from_df(cols='target')\n",
    "        .add_test(TabularList.from_df(tst))\n",
    "       .databunch(num_workers=16))"
   ]
  },
  {
   "cell_type": "code",
   "execution_count": 29,
   "metadata": {},
   "outputs": [],
   "source": [
    "_ = models.resnet34(True)"
   ]
  },
  {
   "cell_type": "code",
   "execution_count": 35,
   "metadata": {},
   "outputs": [
    {
     "data": {
      "text/plain": [
       "ResNet(\n",
       "  (conv1): Conv2d(3, 64, kernel_size=(7, 7), stride=(2, 2), padding=(3, 3), bias=False)\n",
       "  (bn1): BatchNorm2d(64, eps=1e-05, momentum=0.1, affine=True, track_running_stats=True)\n",
       "  (relu): ReLU(inplace)\n",
       "  (maxpool): MaxPool2d(kernel_size=3, stride=2, padding=1, dilation=1, ceil_mode=False)\n",
       "  (layer1): Sequential(\n",
       "    (0): BasicBlock(\n",
       "      (conv1): Conv2d(64, 64, kernel_size=(3, 3), stride=(1, 1), padding=(1, 1), bias=False)\n",
       "      (bn1): BatchNorm2d(64, eps=1e-05, momentum=0.1, affine=True, track_running_stats=True)\n",
       "      (relu): ReLU(inplace)\n",
       "      (conv2): Conv2d(64, 64, kernel_size=(3, 3), stride=(1, 1), padding=(1, 1), bias=False)\n",
       "      (bn2): BatchNorm2d(64, eps=1e-05, momentum=0.1, affine=True, track_running_stats=True)\n",
       "    )\n",
       "    (1): BasicBlock(\n",
       "      (conv1): Conv2d(64, 64, kernel_size=(3, 3), stride=(1, 1), padding=(1, 1), bias=False)\n",
       "      (bn1): BatchNorm2d(64, eps=1e-05, momentum=0.1, affine=True, track_running_stats=True)\n",
       "      (relu): ReLU(inplace)\n",
       "      (conv2): Conv2d(64, 64, kernel_size=(3, 3), stride=(1, 1), padding=(1, 1), bias=False)\n",
       "      (bn2): BatchNorm2d(64, eps=1e-05, momentum=0.1, affine=True, track_running_stats=True)\n",
       "    )\n",
       "    (2): BasicBlock(\n",
       "      (conv1): Conv2d(64, 64, kernel_size=(3, 3), stride=(1, 1), padding=(1, 1), bias=False)\n",
       "      (bn1): BatchNorm2d(64, eps=1e-05, momentum=0.1, affine=True, track_running_stats=True)\n",
       "      (relu): ReLU(inplace)\n",
       "      (conv2): Conv2d(64, 64, kernel_size=(3, 3), stride=(1, 1), padding=(1, 1), bias=False)\n",
       "      (bn2): BatchNorm2d(64, eps=1e-05, momentum=0.1, affine=True, track_running_stats=True)\n",
       "    )\n",
       "  )\n",
       "  (layer2): Sequential(\n",
       "    (0): BasicBlock(\n",
       "      (conv1): Conv2d(64, 128, kernel_size=(3, 3), stride=(2, 2), padding=(1, 1), bias=False)\n",
       "      (bn1): BatchNorm2d(128, eps=1e-05, momentum=0.1, affine=True, track_running_stats=True)\n",
       "      (relu): ReLU(inplace)\n",
       "      (conv2): Conv2d(128, 128, kernel_size=(3, 3), stride=(1, 1), padding=(1, 1), bias=False)\n",
       "      (bn2): BatchNorm2d(128, eps=1e-05, momentum=0.1, affine=True, track_running_stats=True)\n",
       "      (downsample): Sequential(\n",
       "        (0): Conv2d(64, 128, kernel_size=(1, 1), stride=(2, 2), bias=False)\n",
       "        (1): BatchNorm2d(128, eps=1e-05, momentum=0.1, affine=True, track_running_stats=True)\n",
       "      )\n",
       "    )\n",
       "    (1): BasicBlock(\n",
       "      (conv1): Conv2d(128, 128, kernel_size=(3, 3), stride=(1, 1), padding=(1, 1), bias=False)\n",
       "      (bn1): BatchNorm2d(128, eps=1e-05, momentum=0.1, affine=True, track_running_stats=True)\n",
       "      (relu): ReLU(inplace)\n",
       "      (conv2): Conv2d(128, 128, kernel_size=(3, 3), stride=(1, 1), padding=(1, 1), bias=False)\n",
       "      (bn2): BatchNorm2d(128, eps=1e-05, momentum=0.1, affine=True, track_running_stats=True)\n",
       "    )\n",
       "    (2): BasicBlock(\n",
       "      (conv1): Conv2d(128, 128, kernel_size=(3, 3), stride=(1, 1), padding=(1, 1), bias=False)\n",
       "      (bn1): BatchNorm2d(128, eps=1e-05, momentum=0.1, affine=True, track_running_stats=True)\n",
       "      (relu): ReLU(inplace)\n",
       "      (conv2): Conv2d(128, 128, kernel_size=(3, 3), stride=(1, 1), padding=(1, 1), bias=False)\n",
       "      (bn2): BatchNorm2d(128, eps=1e-05, momentum=0.1, affine=True, track_running_stats=True)\n",
       "    )\n",
       "    (3): BasicBlock(\n",
       "      (conv1): Conv2d(128, 128, kernel_size=(3, 3), stride=(1, 1), padding=(1, 1), bias=False)\n",
       "      (bn1): BatchNorm2d(128, eps=1e-05, momentum=0.1, affine=True, track_running_stats=True)\n",
       "      (relu): ReLU(inplace)\n",
       "      (conv2): Conv2d(128, 128, kernel_size=(3, 3), stride=(1, 1), padding=(1, 1), bias=False)\n",
       "      (bn2): BatchNorm2d(128, eps=1e-05, momentum=0.1, affine=True, track_running_stats=True)\n",
       "    )\n",
       "  )\n",
       "  (layer3): Sequential(\n",
       "    (0): BasicBlock(\n",
       "      (conv1): Conv2d(128, 256, kernel_size=(3, 3), stride=(2, 2), padding=(1, 1), bias=False)\n",
       "      (bn1): BatchNorm2d(256, eps=1e-05, momentum=0.1, affine=True, track_running_stats=True)\n",
       "      (relu): ReLU(inplace)\n",
       "      (conv2): Conv2d(256, 256, kernel_size=(3, 3), stride=(1, 1), padding=(1, 1), bias=False)\n",
       "      (bn2): BatchNorm2d(256, eps=1e-05, momentum=0.1, affine=True, track_running_stats=True)\n",
       "      (downsample): Sequential(\n",
       "        (0): Conv2d(128, 256, kernel_size=(1, 1), stride=(2, 2), bias=False)\n",
       "        (1): BatchNorm2d(256, eps=1e-05, momentum=0.1, affine=True, track_running_stats=True)\n",
       "      )\n",
       "    )\n",
       "    (1): BasicBlock(\n",
       "      (conv1): Conv2d(256, 256, kernel_size=(3, 3), stride=(1, 1), padding=(1, 1), bias=False)\n",
       "      (bn1): BatchNorm2d(256, eps=1e-05, momentum=0.1, affine=True, track_running_stats=True)\n",
       "      (relu): ReLU(inplace)\n",
       "      (conv2): Conv2d(256, 256, kernel_size=(3, 3), stride=(1, 1), padding=(1, 1), bias=False)\n",
       "      (bn2): BatchNorm2d(256, eps=1e-05, momentum=0.1, affine=True, track_running_stats=True)\n",
       "    )\n",
       "    (2): BasicBlock(\n",
       "      (conv1): Conv2d(256, 256, kernel_size=(3, 3), stride=(1, 1), padding=(1, 1), bias=False)\n",
       "      (bn1): BatchNorm2d(256, eps=1e-05, momentum=0.1, affine=True, track_running_stats=True)\n",
       "      (relu): ReLU(inplace)\n",
       "      (conv2): Conv2d(256, 256, kernel_size=(3, 3), stride=(1, 1), padding=(1, 1), bias=False)\n",
       "      (bn2): BatchNorm2d(256, eps=1e-05, momentum=0.1, affine=True, track_running_stats=True)\n",
       "    )\n",
       "    (3): BasicBlock(\n",
       "      (conv1): Conv2d(256, 256, kernel_size=(3, 3), stride=(1, 1), padding=(1, 1), bias=False)\n",
       "      (bn1): BatchNorm2d(256, eps=1e-05, momentum=0.1, affine=True, track_running_stats=True)\n",
       "      (relu): ReLU(inplace)\n",
       "      (conv2): Conv2d(256, 256, kernel_size=(3, 3), stride=(1, 1), padding=(1, 1), bias=False)\n",
       "      (bn2): BatchNorm2d(256, eps=1e-05, momentum=0.1, affine=True, track_running_stats=True)\n",
       "    )\n",
       "    (4): BasicBlock(\n",
       "      (conv1): Conv2d(256, 256, kernel_size=(3, 3), stride=(1, 1), padding=(1, 1), bias=False)\n",
       "      (bn1): BatchNorm2d(256, eps=1e-05, momentum=0.1, affine=True, track_running_stats=True)\n",
       "      (relu): ReLU(inplace)\n",
       "      (conv2): Conv2d(256, 256, kernel_size=(3, 3), stride=(1, 1), padding=(1, 1), bias=False)\n",
       "      (bn2): BatchNorm2d(256, eps=1e-05, momentum=0.1, affine=True, track_running_stats=True)\n",
       "    )\n",
       "    (5): BasicBlock(\n",
       "      (conv1): Conv2d(256, 256, kernel_size=(3, 3), stride=(1, 1), padding=(1, 1), bias=False)\n",
       "      (bn1): BatchNorm2d(256, eps=1e-05, momentum=0.1, affine=True, track_running_stats=True)\n",
       "      (relu): ReLU(inplace)\n",
       "      (conv2): Conv2d(256, 256, kernel_size=(3, 3), stride=(1, 1), padding=(1, 1), bias=False)\n",
       "      (bn2): BatchNorm2d(256, eps=1e-05, momentum=0.1, affine=True, track_running_stats=True)\n",
       "    )\n",
       "  )\n",
       "  (layer4): Sequential(\n",
       "    (0): BasicBlock(\n",
       "      (conv1): Conv2d(256, 512, kernel_size=(3, 3), stride=(2, 2), padding=(1, 1), bias=False)\n",
       "      (bn1): BatchNorm2d(512, eps=1e-05, momentum=0.1, affine=True, track_running_stats=True)\n",
       "      (relu): ReLU(inplace)\n",
       "      (conv2): Conv2d(512, 512, kernel_size=(3, 3), stride=(1, 1), padding=(1, 1), bias=False)\n",
       "      (bn2): BatchNorm2d(512, eps=1e-05, momentum=0.1, affine=True, track_running_stats=True)\n",
       "      (downsample): Sequential(\n",
       "        (0): Conv2d(256, 512, kernel_size=(1, 1), stride=(2, 2), bias=False)\n",
       "        (1): BatchNorm2d(512, eps=1e-05, momentum=0.1, affine=True, track_running_stats=True)\n",
       "      )\n",
       "    )\n",
       "    (1): BasicBlock(\n",
       "      (conv1): Conv2d(512, 512, kernel_size=(3, 3), stride=(1, 1), padding=(1, 1), bias=False)\n",
       "      (bn1): BatchNorm2d(512, eps=1e-05, momentum=0.1, affine=True, track_running_stats=True)\n",
       "      (relu): ReLU(inplace)\n",
       "      (conv2): Conv2d(512, 512, kernel_size=(3, 3), stride=(1, 1), padding=(1, 1), bias=False)\n",
       "      (bn2): BatchNorm2d(512, eps=1e-05, momentum=0.1, affine=True, track_running_stats=True)\n",
       "    )\n",
       "    (2): BasicBlock(\n",
       "      (conv1): Conv2d(512, 512, kernel_size=(3, 3), stride=(1, 1), padding=(1, 1), bias=False)\n",
       "      (bn1): BatchNorm2d(512, eps=1e-05, momentum=0.1, affine=True, track_running_stats=True)\n",
       "      (relu): ReLU(inplace)\n",
       "      (conv2): Conv2d(512, 512, kernel_size=(3, 3), stride=(1, 1), padding=(1, 1), bias=False)\n",
       "      (bn2): BatchNorm2d(512, eps=1e-05, momentum=0.1, affine=True, track_running_stats=True)\n",
       "    )\n",
       "  )\n",
       "  (avgpool): AdaptiveAvgPool2d(output_size=(1, 1))\n",
       "  (fc): Linear(in_features=512, out_features=1000, bias=True)\n",
       ")"
      ]
     },
     "execution_count": 35,
     "metadata": {},
     "output_type": "execute_result"
    }
   ],
   "source": [
    "_"
   ]
  },
  {
   "cell_type": "code",
   "execution_count": 13,
   "metadata": {},
   "outputs": [],
   "source": [
    "class resnet_mod(nn.Module):\n",
    "    def __init__(self):\n",
    "        super().__init__()\n",
    "        self.net = models.resnet18(pretrained=True)\n",
    "        #self.net.conv1 = nn.Conv2d(1,64,kernel_size=(3,3),stride=(2,2),padding=(3,3),bias=False)\n",
    "        self.net.fc = nn.Sequential(nn.Linear(512,256),\n",
    "                           nn.ReLU(inplace=True),\n",
    "                           nn.BatchNorm1d(256),\n",
    "                           nn.Linear(256,128),\n",
    "                           nn.ReLU(inplace=True),\n",
    "                           nn.BatchNorm1d(128),\n",
    "                           nn.Linear(128,64),\n",
    "                           nn.ReLU(inplace=True),\n",
    "                           nn.BatchNorm1d(64),\n",
    "                           nn.Linear(64,8),\n",
    "                           nn.ReLU(inplace=True),\n",
    "                           nn.BatchNorm1d(8),\n",
    "                           nn.Linear(8,2))\n",
    "        self.mean = [0.485, 0.456, 0.406]\n",
    "        self.std  = [0.229, 0.224, 0.225]\n",
    "    def forward(self,A,B):\n",
    "        #gdb.set_trace()\n",
    "        with torch.no_grad():\n",
    "            self.d = B.view(-1,20,10)\n",
    "            self.e = torch.stack(((self.d-self.mean[0])/self.std[0],\n",
    "                                  (self.d-self.mean[1])/self.std[1],\n",
    "                                  (self.d-self.mean[2])/self.std[1]),dim=1)\n",
    "        return self.net(self.e)"
   ]
  },
  {
   "cell_type": "code",
   "execution_count": 14,
   "metadata": {},
   "outputs": [
    {
     "name": "stderr",
     "output_type": "stream",
     "text": [
      "Downloading: \"https://download.pytorch.org/models/resnet34-333f7ec4.pth\" to /home/ravi/.torch/models/resnet34-333f7ec4.pth\n",
      "87306240it [00:24, 3525460.39it/s]\n"
     ]
    }
   ],
   "source": [
    "learn = Learner(data,resnet_mod(),metrics=[accuracy,Precision(),Recall(),FBeta(beta=1)])"
   ]
  },
  {
   "cell_type": "code",
   "execution_count": 15,
   "metadata": {
    "scrolled": true
   },
   "outputs": [
    {
     "data": {
      "text/plain": [
       "resnet_mod(\n",
       "  (net): ResNet(\n",
       "    (conv1): Conv2d(3, 64, kernel_size=(7, 7), stride=(2, 2), padding=(3, 3), bias=False)\n",
       "    (bn1): BatchNorm2d(64, eps=1e-05, momentum=0.1, affine=True, track_running_stats=True)\n",
       "    (relu): ReLU(inplace)\n",
       "    (maxpool): MaxPool2d(kernel_size=3, stride=2, padding=1, dilation=1, ceil_mode=False)\n",
       "    (layer1): Sequential(\n",
       "      (0): BasicBlock(\n",
       "        (conv1): Conv2d(64, 64, kernel_size=(3, 3), stride=(1, 1), padding=(1, 1), bias=False)\n",
       "        (bn1): BatchNorm2d(64, eps=1e-05, momentum=0.1, affine=True, track_running_stats=True)\n",
       "        (relu): ReLU(inplace)\n",
       "        (conv2): Conv2d(64, 64, kernel_size=(3, 3), stride=(1, 1), padding=(1, 1), bias=False)\n",
       "        (bn2): BatchNorm2d(64, eps=1e-05, momentum=0.1, affine=True, track_running_stats=True)\n",
       "      )\n",
       "      (1): BasicBlock(\n",
       "        (conv1): Conv2d(64, 64, kernel_size=(3, 3), stride=(1, 1), padding=(1, 1), bias=False)\n",
       "        (bn1): BatchNorm2d(64, eps=1e-05, momentum=0.1, affine=True, track_running_stats=True)\n",
       "        (relu): ReLU(inplace)\n",
       "        (conv2): Conv2d(64, 64, kernel_size=(3, 3), stride=(1, 1), padding=(1, 1), bias=False)\n",
       "        (bn2): BatchNorm2d(64, eps=1e-05, momentum=0.1, affine=True, track_running_stats=True)\n",
       "      )\n",
       "      (2): BasicBlock(\n",
       "        (conv1): Conv2d(64, 64, kernel_size=(3, 3), stride=(1, 1), padding=(1, 1), bias=False)\n",
       "        (bn1): BatchNorm2d(64, eps=1e-05, momentum=0.1, affine=True, track_running_stats=True)\n",
       "        (relu): ReLU(inplace)\n",
       "        (conv2): Conv2d(64, 64, kernel_size=(3, 3), stride=(1, 1), padding=(1, 1), bias=False)\n",
       "        (bn2): BatchNorm2d(64, eps=1e-05, momentum=0.1, affine=True, track_running_stats=True)\n",
       "      )\n",
       "    )\n",
       "    (layer2): Sequential(\n",
       "      (0): BasicBlock(\n",
       "        (conv1): Conv2d(64, 128, kernel_size=(3, 3), stride=(2, 2), padding=(1, 1), bias=False)\n",
       "        (bn1): BatchNorm2d(128, eps=1e-05, momentum=0.1, affine=True, track_running_stats=True)\n",
       "        (relu): ReLU(inplace)\n",
       "        (conv2): Conv2d(128, 128, kernel_size=(3, 3), stride=(1, 1), padding=(1, 1), bias=False)\n",
       "        (bn2): BatchNorm2d(128, eps=1e-05, momentum=0.1, affine=True, track_running_stats=True)\n",
       "        (downsample): Sequential(\n",
       "          (0): Conv2d(64, 128, kernel_size=(1, 1), stride=(2, 2), bias=False)\n",
       "          (1): BatchNorm2d(128, eps=1e-05, momentum=0.1, affine=True, track_running_stats=True)\n",
       "        )\n",
       "      )\n",
       "      (1): BasicBlock(\n",
       "        (conv1): Conv2d(128, 128, kernel_size=(3, 3), stride=(1, 1), padding=(1, 1), bias=False)\n",
       "        (bn1): BatchNorm2d(128, eps=1e-05, momentum=0.1, affine=True, track_running_stats=True)\n",
       "        (relu): ReLU(inplace)\n",
       "        (conv2): Conv2d(128, 128, kernel_size=(3, 3), stride=(1, 1), padding=(1, 1), bias=False)\n",
       "        (bn2): BatchNorm2d(128, eps=1e-05, momentum=0.1, affine=True, track_running_stats=True)\n",
       "      )\n",
       "      (2): BasicBlock(\n",
       "        (conv1): Conv2d(128, 128, kernel_size=(3, 3), stride=(1, 1), padding=(1, 1), bias=False)\n",
       "        (bn1): BatchNorm2d(128, eps=1e-05, momentum=0.1, affine=True, track_running_stats=True)\n",
       "        (relu): ReLU(inplace)\n",
       "        (conv2): Conv2d(128, 128, kernel_size=(3, 3), stride=(1, 1), padding=(1, 1), bias=False)\n",
       "        (bn2): BatchNorm2d(128, eps=1e-05, momentum=0.1, affine=True, track_running_stats=True)\n",
       "      )\n",
       "      (3): BasicBlock(\n",
       "        (conv1): Conv2d(128, 128, kernel_size=(3, 3), stride=(1, 1), padding=(1, 1), bias=False)\n",
       "        (bn1): BatchNorm2d(128, eps=1e-05, momentum=0.1, affine=True, track_running_stats=True)\n",
       "        (relu): ReLU(inplace)\n",
       "        (conv2): Conv2d(128, 128, kernel_size=(3, 3), stride=(1, 1), padding=(1, 1), bias=False)\n",
       "        (bn2): BatchNorm2d(128, eps=1e-05, momentum=0.1, affine=True, track_running_stats=True)\n",
       "      )\n",
       "    )\n",
       "    (layer3): Sequential(\n",
       "      (0): BasicBlock(\n",
       "        (conv1): Conv2d(128, 256, kernel_size=(3, 3), stride=(2, 2), padding=(1, 1), bias=False)\n",
       "        (bn1): BatchNorm2d(256, eps=1e-05, momentum=0.1, affine=True, track_running_stats=True)\n",
       "        (relu): ReLU(inplace)\n",
       "        (conv2): Conv2d(256, 256, kernel_size=(3, 3), stride=(1, 1), padding=(1, 1), bias=False)\n",
       "        (bn2): BatchNorm2d(256, eps=1e-05, momentum=0.1, affine=True, track_running_stats=True)\n",
       "        (downsample): Sequential(\n",
       "          (0): Conv2d(128, 256, kernel_size=(1, 1), stride=(2, 2), bias=False)\n",
       "          (1): BatchNorm2d(256, eps=1e-05, momentum=0.1, affine=True, track_running_stats=True)\n",
       "        )\n",
       "      )\n",
       "      (1): BasicBlock(\n",
       "        (conv1): Conv2d(256, 256, kernel_size=(3, 3), stride=(1, 1), padding=(1, 1), bias=False)\n",
       "        (bn1): BatchNorm2d(256, eps=1e-05, momentum=0.1, affine=True, track_running_stats=True)\n",
       "        (relu): ReLU(inplace)\n",
       "        (conv2): Conv2d(256, 256, kernel_size=(3, 3), stride=(1, 1), padding=(1, 1), bias=False)\n",
       "        (bn2): BatchNorm2d(256, eps=1e-05, momentum=0.1, affine=True, track_running_stats=True)\n",
       "      )\n",
       "      (2): BasicBlock(\n",
       "        (conv1): Conv2d(256, 256, kernel_size=(3, 3), stride=(1, 1), padding=(1, 1), bias=False)\n",
       "        (bn1): BatchNorm2d(256, eps=1e-05, momentum=0.1, affine=True, track_running_stats=True)\n",
       "        (relu): ReLU(inplace)\n",
       "        (conv2): Conv2d(256, 256, kernel_size=(3, 3), stride=(1, 1), padding=(1, 1), bias=False)\n",
       "        (bn2): BatchNorm2d(256, eps=1e-05, momentum=0.1, affine=True, track_running_stats=True)\n",
       "      )\n",
       "      (3): BasicBlock(\n",
       "        (conv1): Conv2d(256, 256, kernel_size=(3, 3), stride=(1, 1), padding=(1, 1), bias=False)\n",
       "        (bn1): BatchNorm2d(256, eps=1e-05, momentum=0.1, affine=True, track_running_stats=True)\n",
       "        (relu): ReLU(inplace)\n",
       "        (conv2): Conv2d(256, 256, kernel_size=(3, 3), stride=(1, 1), padding=(1, 1), bias=False)\n",
       "        (bn2): BatchNorm2d(256, eps=1e-05, momentum=0.1, affine=True, track_running_stats=True)\n",
       "      )\n",
       "      (4): BasicBlock(\n",
       "        (conv1): Conv2d(256, 256, kernel_size=(3, 3), stride=(1, 1), padding=(1, 1), bias=False)\n",
       "        (bn1): BatchNorm2d(256, eps=1e-05, momentum=0.1, affine=True, track_running_stats=True)\n",
       "        (relu): ReLU(inplace)\n",
       "        (conv2): Conv2d(256, 256, kernel_size=(3, 3), stride=(1, 1), padding=(1, 1), bias=False)\n",
       "        (bn2): BatchNorm2d(256, eps=1e-05, momentum=0.1, affine=True, track_running_stats=True)\n",
       "      )\n",
       "      (5): BasicBlock(\n",
       "        (conv1): Conv2d(256, 256, kernel_size=(3, 3), stride=(1, 1), padding=(1, 1), bias=False)\n",
       "        (bn1): BatchNorm2d(256, eps=1e-05, momentum=0.1, affine=True, track_running_stats=True)\n",
       "        (relu): ReLU(inplace)\n",
       "        (conv2): Conv2d(256, 256, kernel_size=(3, 3), stride=(1, 1), padding=(1, 1), bias=False)\n",
       "        (bn2): BatchNorm2d(256, eps=1e-05, momentum=0.1, affine=True, track_running_stats=True)\n",
       "      )\n",
       "    )\n",
       "    (layer4): Sequential(\n",
       "      (0): BasicBlock(\n",
       "        (conv1): Conv2d(256, 512, kernel_size=(3, 3), stride=(2, 2), padding=(1, 1), bias=False)\n",
       "        (bn1): BatchNorm2d(512, eps=1e-05, momentum=0.1, affine=True, track_running_stats=True)\n",
       "        (relu): ReLU(inplace)\n",
       "        (conv2): Conv2d(512, 512, kernel_size=(3, 3), stride=(1, 1), padding=(1, 1), bias=False)\n",
       "        (bn2): BatchNorm2d(512, eps=1e-05, momentum=0.1, affine=True, track_running_stats=True)\n",
       "        (downsample): Sequential(\n",
       "          (0): Conv2d(256, 512, kernel_size=(1, 1), stride=(2, 2), bias=False)\n",
       "          (1): BatchNorm2d(512, eps=1e-05, momentum=0.1, affine=True, track_running_stats=True)\n",
       "        )\n",
       "      )\n",
       "      (1): BasicBlock(\n",
       "        (conv1): Conv2d(512, 512, kernel_size=(3, 3), stride=(1, 1), padding=(1, 1), bias=False)\n",
       "        (bn1): BatchNorm2d(512, eps=1e-05, momentum=0.1, affine=True, track_running_stats=True)\n",
       "        (relu): ReLU(inplace)\n",
       "        (conv2): Conv2d(512, 512, kernel_size=(3, 3), stride=(1, 1), padding=(1, 1), bias=False)\n",
       "        (bn2): BatchNorm2d(512, eps=1e-05, momentum=0.1, affine=True, track_running_stats=True)\n",
       "      )\n",
       "      (2): BasicBlock(\n",
       "        (conv1): Conv2d(512, 512, kernel_size=(3, 3), stride=(1, 1), padding=(1, 1), bias=False)\n",
       "        (bn1): BatchNorm2d(512, eps=1e-05, momentum=0.1, affine=True, track_running_stats=True)\n",
       "        (relu): ReLU(inplace)\n",
       "        (conv2): Conv2d(512, 512, kernel_size=(3, 3), stride=(1, 1), padding=(1, 1), bias=False)\n",
       "        (bn2): BatchNorm2d(512, eps=1e-05, momentum=0.1, affine=True, track_running_stats=True)\n",
       "      )\n",
       "    )\n",
       "    (avgpool): AdaptiveAvgPool2d(output_size=(1, 1))\n",
       "    (fc): Sequential(\n",
       "      (0): Linear(in_features=512, out_features=256, bias=True)\n",
       "      (1): ReLU(inplace)\n",
       "      (2): BatchNorm1d(256, eps=1e-05, momentum=0.1, affine=True, track_running_stats=True)\n",
       "      (3): Linear(in_features=256, out_features=128, bias=True)\n",
       "      (4): ReLU(inplace)\n",
       "      (5): BatchNorm1d(128, eps=1e-05, momentum=0.1, affine=True, track_running_stats=True)\n",
       "      (6): Linear(in_features=128, out_features=64, bias=True)\n",
       "      (7): ReLU(inplace)\n",
       "      (8): BatchNorm1d(64, eps=1e-05, momentum=0.1, affine=True, track_running_stats=True)\n",
       "      (9): Linear(in_features=64, out_features=8, bias=True)\n",
       "      (10): ReLU(inplace)\n",
       "      (11): BatchNorm1d(8, eps=1e-05, momentum=0.1, affine=True, track_running_stats=True)\n",
       "      (12): Linear(in_features=8, out_features=2, bias=True)\n",
       "    )\n",
       "  )\n",
       ")"
      ]
     },
     "execution_count": 15,
     "metadata": {},
     "output_type": "execute_result"
    }
   ],
   "source": [
    "learn.model"
   ]
  },
  {
   "cell_type": "code",
   "execution_count": 28,
   "metadata": {},
   "outputs": [
    {
     "data": {
      "text/plain": [
       "[Sequential(\n",
       "   (0): Conv2d(3, 64, kernel_size=(7, 7), stride=(2, 2), padding=(3, 3), bias=False)\n",
       "   (1): BatchNorm2d(64, eps=1e-05, momentum=0.1, affine=True, track_running_stats=True)\n",
       "   (2): ReLU(inplace)\n",
       "   (3): MaxPool2d(kernel_size=3, stride=2, padding=1, dilation=1, ceil_mode=False)\n",
       "   (4): Conv2d(64, 64, kernel_size=(3, 3), stride=(1, 1), padding=(1, 1), bias=False)\n",
       "   (5): BatchNorm2d(64, eps=1e-05, momentum=0.1, affine=True, track_running_stats=True)\n",
       "   (6): ReLU(inplace)\n",
       "   (7): Conv2d(64, 64, kernel_size=(3, 3), stride=(1, 1), padding=(1, 1), bias=False)\n",
       "   (8): BatchNorm2d(64, eps=1e-05, momentum=0.1, affine=True, track_running_stats=True)\n",
       "   (9): Conv2d(64, 64, kernel_size=(3, 3), stride=(1, 1), padding=(1, 1), bias=False)\n",
       "   (10): BatchNorm2d(64, eps=1e-05, momentum=0.1, affine=True, track_running_stats=True)\n",
       "   (11): ReLU(inplace)\n",
       "   (12): Conv2d(64, 64, kernel_size=(3, 3), stride=(1, 1), padding=(1, 1), bias=False)\n",
       "   (13): BatchNorm2d(64, eps=1e-05, momentum=0.1, affine=True, track_running_stats=True)\n",
       "   (14): Conv2d(64, 64, kernel_size=(3, 3), stride=(1, 1), padding=(1, 1), bias=False)\n",
       "   (15): BatchNorm2d(64, eps=1e-05, momentum=0.1, affine=True, track_running_stats=True)\n",
       "   (16): ReLU(inplace)\n",
       "   (17): Conv2d(64, 64, kernel_size=(3, 3), stride=(1, 1), padding=(1, 1), bias=False)\n",
       "   (18): BatchNorm2d(64, eps=1e-05, momentum=0.1, affine=True, track_running_stats=True)\n",
       "   (19): Conv2d(64, 128, kernel_size=(3, 3), stride=(2, 2), padding=(1, 1), bias=False)\n",
       "   (20): BatchNorm2d(128, eps=1e-05, momentum=0.1, affine=True, track_running_stats=True)\n",
       "   (21): ReLU(inplace)\n",
       "   (22): Conv2d(128, 128, kernel_size=(3, 3), stride=(1, 1), padding=(1, 1), bias=False)\n",
       "   (23): BatchNorm2d(128, eps=1e-05, momentum=0.1, affine=True, track_running_stats=True)\n",
       "   (24): Conv2d(64, 128, kernel_size=(1, 1), stride=(2, 2), bias=False)\n",
       "   (25): BatchNorm2d(128, eps=1e-05, momentum=0.1, affine=True, track_running_stats=True)\n",
       "   (26): Conv2d(128, 128, kernel_size=(3, 3), stride=(1, 1), padding=(1, 1), bias=False)\n",
       "   (27): BatchNorm2d(128, eps=1e-05, momentum=0.1, affine=True, track_running_stats=True)\n",
       "   (28): ReLU(inplace)\n",
       "   (29): Conv2d(128, 128, kernel_size=(3, 3), stride=(1, 1), padding=(1, 1), bias=False)\n",
       "   (30): BatchNorm2d(128, eps=1e-05, momentum=0.1, affine=True, track_running_stats=True)\n",
       "   (31): Conv2d(128, 128, kernel_size=(3, 3), stride=(1, 1), padding=(1, 1), bias=False)\n",
       "   (32): BatchNorm2d(128, eps=1e-05, momentum=0.1, affine=True, track_running_stats=True)\n",
       "   (33): ReLU(inplace)\n",
       "   (34): Conv2d(128, 128, kernel_size=(3, 3), stride=(1, 1), padding=(1, 1), bias=False)\n",
       "   (35): BatchNorm2d(128, eps=1e-05, momentum=0.1, affine=True, track_running_stats=True)\n",
       "   (36): Conv2d(128, 128, kernel_size=(3, 3), stride=(1, 1), padding=(1, 1), bias=False)\n",
       "   (37): BatchNorm2d(128, eps=1e-05, momentum=0.1, affine=True, track_running_stats=True)\n",
       "   (38): ReLU(inplace)\n",
       "   (39): Conv2d(128, 128, kernel_size=(3, 3), stride=(1, 1), padding=(1, 1), bias=False)\n",
       "   (40): BatchNorm2d(128, eps=1e-05, momentum=0.1, affine=True, track_running_stats=True)\n",
       "   (41): Conv2d(128, 256, kernel_size=(3, 3), stride=(2, 2), padding=(1, 1), bias=False)\n",
       "   (42): BatchNorm2d(256, eps=1e-05, momentum=0.1, affine=True, track_running_stats=True)\n",
       "   (43): ReLU(inplace)\n",
       "   (44): Conv2d(256, 256, kernel_size=(3, 3), stride=(1, 1), padding=(1, 1), bias=False)\n",
       "   (45): BatchNorm2d(256, eps=1e-05, momentum=0.1, affine=True, track_running_stats=True)\n",
       "   (46): Conv2d(128, 256, kernel_size=(1, 1), stride=(2, 2), bias=False)\n",
       "   (47): BatchNorm2d(256, eps=1e-05, momentum=0.1, affine=True, track_running_stats=True)\n",
       "   (48): Conv2d(256, 256, kernel_size=(3, 3), stride=(1, 1), padding=(1, 1), bias=False)\n",
       "   (49): BatchNorm2d(256, eps=1e-05, momentum=0.1, affine=True, track_running_stats=True)\n",
       "   (50): ReLU(inplace)\n",
       "   (51): Conv2d(256, 256, kernel_size=(3, 3), stride=(1, 1), padding=(1, 1), bias=False)\n",
       "   (52): BatchNorm2d(256, eps=1e-05, momentum=0.1, affine=True, track_running_stats=True)\n",
       "   (53): Conv2d(256, 256, kernel_size=(3, 3), stride=(1, 1), padding=(1, 1), bias=False)\n",
       "   (54): BatchNorm2d(256, eps=1e-05, momentum=0.1, affine=True, track_running_stats=True)\n",
       "   (55): ReLU(inplace)\n",
       "   (56): Conv2d(256, 256, kernel_size=(3, 3), stride=(1, 1), padding=(1, 1), bias=False)\n",
       "   (57): BatchNorm2d(256, eps=1e-05, momentum=0.1, affine=True, track_running_stats=True)\n",
       "   (58): Conv2d(256, 256, kernel_size=(3, 3), stride=(1, 1), padding=(1, 1), bias=False)\n",
       "   (59): BatchNorm2d(256, eps=1e-05, momentum=0.1, affine=True, track_running_stats=True)\n",
       "   (60): ReLU(inplace)\n",
       "   (61): Conv2d(256, 256, kernel_size=(3, 3), stride=(1, 1), padding=(1, 1), bias=False)\n",
       "   (62): BatchNorm2d(256, eps=1e-05, momentum=0.1, affine=True, track_running_stats=True)\n",
       "   (63): Conv2d(256, 256, kernel_size=(3, 3), stride=(1, 1), padding=(1, 1), bias=False)\n",
       "   (64): BatchNorm2d(256, eps=1e-05, momentum=0.1, affine=True, track_running_stats=True)\n",
       "   (65): ReLU(inplace)\n",
       "   (66): Conv2d(256, 256, kernel_size=(3, 3), stride=(1, 1), padding=(1, 1), bias=False)\n",
       "   (67): BatchNorm2d(256, eps=1e-05, momentum=0.1, affine=True, track_running_stats=True)\n",
       "   (68): Conv2d(256, 256, kernel_size=(3, 3), stride=(1, 1), padding=(1, 1), bias=False)\n",
       "   (69): BatchNorm2d(256, eps=1e-05, momentum=0.1, affine=True, track_running_stats=True)\n",
       "   (70): ReLU(inplace)\n",
       "   (71): Conv2d(256, 256, kernel_size=(3, 3), stride=(1, 1), padding=(1, 1), bias=False)\n",
       "   (72): BatchNorm2d(256, eps=1e-05, momentum=0.1, affine=True, track_running_stats=True)\n",
       "   (73): Conv2d(256, 512, kernel_size=(3, 3), stride=(2, 2), padding=(1, 1), bias=False)\n",
       "   (74): BatchNorm2d(512, eps=1e-05, momentum=0.1, affine=True, track_running_stats=True)\n",
       "   (75): ReLU(inplace)\n",
       "   (76): Conv2d(512, 512, kernel_size=(3, 3), stride=(1, 1), padding=(1, 1), bias=False)\n",
       "   (77): BatchNorm2d(512, eps=1e-05, momentum=0.1, affine=True, track_running_stats=True)\n",
       "   (78): Conv2d(256, 512, kernel_size=(1, 1), stride=(2, 2), bias=False)\n",
       "   (79): BatchNorm2d(512, eps=1e-05, momentum=0.1, affine=True, track_running_stats=True)\n",
       "   (80): Conv2d(512, 512, kernel_size=(3, 3), stride=(1, 1), padding=(1, 1), bias=False)\n",
       "   (81): BatchNorm2d(512, eps=1e-05, momentum=0.1, affine=True, track_running_stats=True)\n",
       "   (82): ReLU(inplace)\n",
       "   (83): Conv2d(512, 512, kernel_size=(3, 3), stride=(1, 1), padding=(1, 1), bias=False)\n",
       "   (84): BatchNorm2d(512, eps=1e-05, momentum=0.1, affine=True, track_running_stats=True)\n",
       "   (85): Conv2d(512, 512, kernel_size=(3, 3), stride=(1, 1), padding=(1, 1), bias=False)\n",
       "   (86): BatchNorm2d(512, eps=1e-05, momentum=0.1, affine=True, track_running_stats=True)\n",
       "   (87): ReLU(inplace)\n",
       "   (88): Conv2d(512, 512, kernel_size=(3, 3), stride=(1, 1), padding=(1, 1), bias=False)\n",
       "   (89): BatchNorm2d(512, eps=1e-05, momentum=0.1, affine=True, track_running_stats=True)\n",
       "   (90): AdaptiveAvgPool2d(output_size=(1, 1))\n",
       "   (91): Linear(in_features=512, out_features=256, bias=True)\n",
       "   (92): ReLU(inplace)\n",
       "   (93): BatchNorm1d(256, eps=1e-05, momentum=0.1, affine=True, track_running_stats=True)\n",
       "   (94): Linear(in_features=256, out_features=128, bias=True)\n",
       "   (95): ReLU(inplace)\n",
       "   (96): BatchNorm1d(128, eps=1e-05, momentum=0.1, affine=True, track_running_stats=True)\n",
       "   (97): Linear(in_features=128, out_features=64, bias=True)\n",
       "   (98): ReLU(inplace)\n",
       "   (99): BatchNorm1d(64, eps=1e-05, momentum=0.1, affine=True, track_running_stats=True)\n",
       "   (100): Linear(in_features=64, out_features=8, bias=True)\n",
       "   (101): ReLU(inplace)\n",
       "   (102): BatchNorm1d(8, eps=1e-05, momentum=0.1, affine=True, track_running_stats=True)\n",
       "   (103): Linear(in_features=8, out_features=2, bias=True)\n",
       " )]"
      ]
     },
     "execution_count": 28,
     "metadata": {},
     "output_type": "execute_result"
    }
   ],
   "source": [
    "learn.layer_groups"
   ]
  },
  {
   "cell_type": "code",
   "execution_count": 17,
   "metadata": {},
   "outputs": [],
   "source": [
    "trn_l = []\n",
    "val_l = []\n",
    "met = []"
   ]
  },
  {
   "cell_type": "code",
   "execution_count": 18,
   "metadata": {},
   "outputs": [],
   "source": [
    "def collect_vals():\n",
    "    trn_l.extend(learn.recorder.losses)\n",
    "    val_l.extend(learn.recorder.val_losses)\n",
    "    met.extend(learn.recorder.metrics)"
   ]
  },
  {
   "cell_type": "code",
   "execution_count": 26,
   "metadata": {},
   "outputs": [
    {
     "data": {
      "text/plain": [
       "False"
      ]
     },
     "execution_count": 26,
     "metadata": {},
     "output_type": "execute_result"
    }
   ],
   "source": [
    "requires_grad(learn.model.net.fc)"
   ]
  },
  {
   "cell_type": "code",
   "execution_count": 25,
   "metadata": {},
   "outputs": [
    {
     "data": {
      "text/plain": [
       "False"
      ]
     },
     "execution_count": 25,
     "metadata": {},
     "output_type": "execute_result"
    }
   ],
   "source": [
    "requires_grad(learn.model.net.layer4[0].conv1)"
   ]
  },
  {
   "cell_type": "code",
   "execution_count": 201,
   "metadata": {},
   "outputs": [],
   "source": [
    "def freeze_mod(x=False):\n",
    "    requires_grad(learn.model.net.conv1,x)\n",
    "    \n",
    "    requires_grad(learn.model.net.layer1[0].conv1,x)\n",
    "    requires_grad(learn.model.net.layer1[0].conv2,x)\n",
    "    requires_grad(learn.model.net.layer1[1].conv1,x)\n",
    "    requires_grad(learn.model.net.layer1[1].conv2,x)\n",
    "\n",
    "    requires_grad(learn.model.net.layer2[0].conv1,x)\n",
    "    requires_grad(learn.model.net.layer2[0].conv2,x)\n",
    "    requires_grad(learn.model.net.layer2[0].downsample[0],x)\n",
    "    requires_grad(learn.model.net.layer2[1].conv1,x)\n",
    "    requires_grad(learn.model.net.layer2[1].conv2,x)\n",
    "\n",
    "    requires_grad(learn.model.net.layer3[0].conv1,x)\n",
    "    requires_grad(learn.model.net.layer3[0].conv2,x)\n",
    "    requires_grad(learn.model.net.layer3[0].downsample[0],x)\n",
    "    requires_grad(learn.model.net.layer3[1].conv1,x)\n",
    "    requires_grad(learn.model.net.layer3[1].conv2,x)\n",
    "\n",
    "    requires_grad(learn.model.net.layer4[0].conv1,x)\n",
    "    requires_grad(learn.model.net.layer4[0].conv2,x)\n",
    "    requires_grad(learn.model.net.layer4[0].downsample[0],x)\n",
    "    requires_grad(learn.model.net.layer4[1].conv1,x)\n",
    "    requires_grad(learn.model.net.layer4[1].conv2,x)"
   ]
  },
  {
   "cell_type": "code",
   "execution_count": 202,
   "metadata": {
    "scrolled": true
   },
   "outputs": [],
   "source": [
    "#learn.model.net"
   ]
  },
  {
   "cell_type": "code",
   "execution_count": 261,
   "metadata": {},
   "outputs": [],
   "source": [
    "freeze_mod(True)"
   ]
  },
  {
   "cell_type": "code",
   "execution_count": 315,
   "metadata": {},
   "outputs": [],
   "source": [
    "data1 = (TabularList.from_df(trn,cont_names=tst.columns,procs=[Normalize])\n",
    "       .split_by_rand_pct(0.2,seed=42)\n",
    "       .label_from_df(cols='target')\n",
    "        .add_test(TabularList.from_df(tst))\n",
    "       .databunch(num_workers=16))"
   ]
  },
  {
   "cell_type": "code",
   "execution_count": 316,
   "metadata": {},
   "outputs": [],
   "source": [
    "learn.data = data1"
   ]
  },
  {
   "cell_type": "code",
   "execution_count": 339,
   "metadata": {},
   "outputs": [
    {
     "data": {
      "text/html": [],
      "text/plain": [
       "<IPython.core.display.HTML object>"
      ]
     },
     "metadata": {},
     "output_type": "display_data"
    },
    {
     "name": "stdout",
     "output_type": "stream",
     "text": [
      "LR Finder is complete, type {learner_name}.recorder.plot() to see the graph.\n"
     ]
    }
   ],
   "source": [
    "learn.lr_find()"
   ]
  },
  {
   "cell_type": "code",
   "execution_count": 340,
   "metadata": {},
   "outputs": [
    {
     "data": {
      "image/png": "[encoded data removed]",
      "text/plain": [
       "<Figure size 432x288 with 1 Axes>"
      ]
     },
     "metadata": {
      "needs_background": "light"
     },
     "output_type": "display_data"
    }
   ],
   "source": [
    "learn.recorder.plot()"
   ]
  },
  {
   "cell_type": "code",
   "execution_count": 341,
   "metadata": {},
   "outputs": [
    {
     "data": {
      "text/html": [
       "Total time: 10:19 <p><table border=\"1\" class=\"dataframe\">\n",
       "  <thead>\n",
       "    <tr style=\"text-align: left;\">\n",
       "      <th>epoch</th>\n",
       "      <th>train_loss</th>\n",
       "      <th>valid_loss</th>\n",
       "      <th>accuracy</th>\n",
       "      <th>precision</th>\n",
       "      <th>recall</th>\n",
       "      <th>f_beta</th>\n",
       "      <th>time</th>\n",
       "    </tr>\n",
       "  </thead>\n",
       "  <tbody>\n",
       "    <tr>\n",
       "      <td>0</td>\n",
       "      <td>0.309570</td>\n",
       "      <td>0.302990</td>\n",
       "      <td>0.897700</td>\n",
       "      <td>0.526316</td>\n",
       "      <td>0.012204</td>\n",
       "      <td>0.023855</td>\n",
       "      <td>00:59</td>\n",
       "    </tr>\n",
       "    <tr>\n",
       "      <td>1</td>\n",
       "      <td>0.310656</td>\n",
       "      <td>0.316922</td>\n",
       "      <td>0.893150</td>\n",
       "      <td>0.377931</td>\n",
       "      <td>0.066878</td>\n",
       "      <td>0.113646</td>\n",
       "      <td>01:00</td>\n",
       "    </tr>\n",
       "    <tr>\n",
       "      <td>2</td>\n",
       "      <td>0.342163</td>\n",
       "      <td>0.340874</td>\n",
       "      <td>0.897550</td>\n",
       "      <td>0.000000</td>\n",
       "      <td>0.000000</td>\n",
       "      <td>0.000000</td>\n",
       "      <td>01:01</td>\n",
       "    </tr>\n",
       "    <tr>\n",
       "      <td>3</td>\n",
       "      <td>0.334626</td>\n",
       "      <td>2.851115</td>\n",
       "      <td>0.689200</td>\n",
       "      <td>0.101387</td>\n",
       "      <td>0.258726</td>\n",
       "      <td>0.145684</td>\n",
       "      <td>01:00</td>\n",
       "    </tr>\n",
       "    <tr>\n",
       "      <td>4</td>\n",
       "      <td>0.317758</td>\n",
       "      <td>0.354283</td>\n",
       "      <td>0.897575</td>\n",
       "      <td>nan</td>\n",
       "      <td>0.000000</td>\n",
       "      <td>0.000000</td>\n",
       "      <td>01:01</td>\n",
       "    </tr>\n",
       "    <tr>\n",
       "      <td>5</td>\n",
       "      <td>0.319217</td>\n",
       "      <td>0.340365</td>\n",
       "      <td>0.897575</td>\n",
       "      <td>nan</td>\n",
       "      <td>0.000000</td>\n",
       "      <td>0.000000</td>\n",
       "      <td>01:02</td>\n",
       "    </tr>\n",
       "    <tr>\n",
       "      <td>6</td>\n",
       "      <td>0.322541</td>\n",
       "      <td>0.330452</td>\n",
       "      <td>0.897575</td>\n",
       "      <td>nan</td>\n",
       "      <td>0.000000</td>\n",
       "      <td>0.000000</td>\n",
       "      <td>01:02</td>\n",
       "    </tr>\n",
       "    <tr>\n",
       "      <td>7</td>\n",
       "      <td>0.318575</td>\n",
       "      <td>0.328144</td>\n",
       "      <td>0.897575</td>\n",
       "      <td>nan</td>\n",
       "      <td>0.000000</td>\n",
       "      <td>0.000000</td>\n",
       "      <td>01:02</td>\n",
       "    </tr>\n",
       "    <tr>\n",
       "      <td>8</td>\n",
       "      <td>0.312607</td>\n",
       "      <td>0.327907</td>\n",
       "      <td>0.897575</td>\n",
       "      <td>0.500000</td>\n",
       "      <td>0.000732</td>\n",
       "      <td>0.001462</td>\n",
       "      <td>01:03</td>\n",
       "    </tr>\n",
       "    <tr>\n",
       "      <td>9</td>\n",
       "      <td>0.332569</td>\n",
       "      <td>0.326186</td>\n",
       "      <td>0.897575</td>\n",
       "      <td>nan</td>\n",
       "      <td>0.000000</td>\n",
       "      <td>0.000000</td>\n",
       "      <td>01:04</td>\n",
       "    </tr>\n",
       "  </tbody>\n",
       "</table>"
      ],
      "text/plain": [
       "<IPython.core.display.HTML object>"
      ]
     },
     "metadata": {},
     "output_type": "display_data"
    }
   ],
   "source": [
    "learn.fit_one_cycle(10,max_lr=0.15)\n",
    "collect_vals()\n",
    "#learn.fit_one_cycle(10,max_lr=0.03)\n",
    "#collect_vals()\n",
    "#learn.fit_one_cycle(20,max_lr=0.06)\n",
    "#collect_vals()"
   ]
  },
  {
   "cell_type": "code",
   "execution_count": 342,
   "metadata": {},
   "outputs": [],
   "source": [
    "met_ = np.array(met)"
   ]
  },
  {
   "cell_type": "code",
   "execution_count": 343,
   "metadata": {},
   "outputs": [
    {
     "data": {
      "image/png": "[encoded data removed]",
      "text/plain": [
       "<Figure size 864x288 with 2 Axes>"
      ]
     },
     "metadata": {
      "needs_background": "light"
     },
     "output_type": "display_data"
    }
   ],
   "source": [
    "learn.recorder.plot_lr(show_moms=True)"
   ]
  },
  {
   "cell_type": "code",
   "execution_count": 344,
   "metadata": {},
   "outputs": [
    {
     "data": {
      "text/plain": [
       "[<matplotlib.lines.Line2D at 0x7f18852a0d68>]"
      ]
     },
     "execution_count": 344,
     "metadata": {},
     "output_type": "execute_result"
    },
    {
     "data": {
      "image/png": "[encoded data removed]",
      "text/plain": [
       "<Figure size 432x288 with 1 Axes>"
      ]
     },
     "metadata": {
      "needs_background": "light"
     },
     "output_type": "display_data"
    }
   ],
   "source": [
    "plt.plot(trn_l)"
   ]
  },
  {
   "cell_type": "code",
   "execution_count": 345,
   "metadata": {},
   "outputs": [
    {
     "data": {
      "text/plain": [
       "[<matplotlib.lines.Line2D at 0x7f18bd6f74a8>]"
      ]
     },
     "execution_count": 345,
     "metadata": {},
     "output_type": "execute_result"
    },
    {
     "data": {
      "image/png": "[encoded data removed]",
      "text/plain": [
       "<Figure size 432x288 with 1 Axes>"
      ]
     },
     "metadata": {
      "needs_background": "light"
     },
     "output_type": "display_data"
    }
   ],
   "source": [
    "plt.plot(met_[:,2])"
   ]
  },
  {
   "cell_type": "code",
   "execution_count": 324,
   "metadata": {},
   "outputs": [],
   "source": [
    "learn.save('fail')"
   ]
  },
  {
   "cell_type": "code",
   "execution_count": 269,
   "metadata": {},
   "outputs": [
    {
     "name": "stderr",
     "output_type": "stream",
     "text": [
      "/home/ravi/miniconda3/envs/fastpy3/lib/python3.7/site-packages/torch/serialization.py:251: UserWarning: Couldn't retrieve source code for container of type resnet_mod. It won't be checked for correctness upon loading.\n",
      "  \"type \" + obj.__name__ + \". It won't be checked \"\n"
     ]
    },
    {
     "data": {
      "text/plain": [
       "Learner(data=TabularDataBunch;\n",
       "\n",
       "Train: LabelList (160000 items)\n",
       "x: TabularList\n",
       "var_0 -0.5784; var_1 -1.2743; var_2 0.4513; var_3 -0.8328; var_4 0.2363; var_5 -0.5361; var_6 -0.3338; var_7 0.6083; var_8 -1.5607; var_9 -1.4753; var_10 0.4598; var_11 1.0750; var_12 -0.0568; var_13 -1.7158; var_14 0.5622; var_15 -0.0065; var_16 -1.4027; var_17 -0.2292; var_18 -1.3954; var_19 2.2894; var_20 -0.4707; var_21 -0.1286; var_22 -0.6066; var_23 -1.0403; var_24 1.0043; var_25 -0.8242; var_26 -0.1839; var_27 0.4797; var_28 -0.7690; var_29 0.3589; var_30 0.9256; var_31 1.1610; var_32 -1.2979; var_33 0.4892; var_34 -0.4458; var_35 1.3005; var_36 -0.4854; var_37 0.8970; var_38 -1.3957; var_39 0.7880; var_40 0.1812; var_41 -0.3236; var_42 0.5089; var_43 1.5304; var_44 0.4561; var_45 0.2627; var_46 -1.8916; var_47 -0.1637; var_48 0.1181; var_49 -1.4490; var_50 0.2588; var_51 1.9074; var_52 0.3675; var_53 -1.0930; var_54 -0.2235; var_55 0.3654; var_56 -1.5167; var_57 -1.1197; var_58 -0.2717; var_59 1.3892; var_60 0.9533; var_61 1.4514; var_62 0.5934; var_63 -0.2810; var_64 1.5529; var_65 2.2583; var_66 0.0111; var_67 1.4264; var_68 -1.1102; var_69 -0.3468; var_70 -0.2336; var_71 -0.3878; var_72 1.1541; var_73 -1.4385; var_74 1.6715; var_75 0.2508; var_76 -1.0584; var_77 1.1386; var_78 0.5859; var_79 -1.6819; var_80 1.0561; var_81 -0.3828; var_82 0.5696; var_83 0.2291; var_84 -0.3114; var_85 0.7927; var_86 0.4790; var_87 0.9022; var_88 -0.2830; var_89 -1.5269; var_90 -0.3734; var_91 -1.3550; var_92 -0.3943; var_93 -1.0409; var_94 1.3897; var_95 0.4286; var_96 -0.6381; var_97 -0.1815; var_98 0.5883; var_99 -1.4331; var_100 1.7504; var_101 -0.0206; var_102 0.4896; var_103 -0.6922; var_104 1.6266; var_105 2.1050; var_106 0.4868; var_107 -0.0834; var_108 -0.6666; var_109 1.3571; var_110 -0.9103; var_111 0.4151; var_112 0.3742; var_113 -1.9368; var_114 -0.5640; var_115 -0.2678; var_116 0.0899; var_117 -0.0404; var_118 -0.9230; var_119 1.0164; var_120 -0.7014; var_121 -0.9251; var_122 -0.0593; var_123 -1.0267; var_124 -0.0198; var_125 -1.5260; var_126 0.8438; var_127 -0.5056; var_128 -0.2439; var_129 -0.0013; var_130 0.6871; var_131 -0.4072; var_132 1.2697; var_133 -0.6550; var_134 1.6221; var_135 0.9691; var_136 0.6254; var_137 1.5511; var_138 0.3551; var_139 1.0286; var_140 1.0046; var_141 -1.2653; var_142 1.2425; var_143 -0.3643; var_144 0.0552; var_145 0.9053; var_146 0.4858; var_147 -1.7772; var_148 0.1916; var_149 1.2164; var_150 0.6893; var_151 0.1604; var_152 0.4577; var_153 -0.0148; var_154 0.7085; var_155 0.6453; var_156 -1.0826; var_157 -1.4944; var_158 -0.0384; var_159 0.3179; var_160 -0.8067; var_161 -1.4673; var_162 -1.2296; var_163 -1.1353; var_164 1.7496; var_165 -1.3248; var_166 -0.7107; var_167 0.4431; var_168 1.5044; var_169 -0.4013; var_170 -1.0763; var_171 -1.4111; var_172 0.1203; var_173 0.6415; var_174 -0.2313; var_175 -1.3476; var_176 -0.9738; var_177 0.7020; var_178 -0.2930; var_179 -0.3113; var_180 -1.0742; var_181 -0.7775; var_182 0.2622; var_183 1.2534; var_184 1.4036; var_185 2.0873; var_186 0.9018; var_187 -0.8104; var_188 0.5557; var_189 -0.1628; var_190 0.2632; var_191 -1.1486; var_192 0.8184; var_193 -0.4101; var_194 0.1663; var_195 -1.5767; var_196 1.0210; var_197 -0.3744; var_198 -1.0241; var_199 0.2151; ,var_0 0.2692; var_1 -0.6224; var_2 1.1905; var_3 -0.6882; var_4 0.7914; var_5 1.5386; var_6 0.2460; var_7 -0.0038; var_8 0.8607; var_9 0.4177; var_10 -0.1454; var_11 1.8914; var_12 -0.0031; var_13 -0.0263; var_14 -0.9351; var_15 -2.1156; var_16 1.7556; var_17 -1.4741; var_18 -0.9475; var_19 2.0213; var_20 -1.6810; var_21 -1.7733; var_22 1.4933; var_23 0.6680; var_24 -0.9524; var_25 0.7819; var_26 -1.3014; var_27 -0.9327; var_28 -0.6212; var_29 -1.7221; var_30 -0.2031; var_31 -1.1673; var_32 0.6956; var_33 1.0632; var_34 -0.1168; var_35 -0.5991; var_36 0.1956; var_37 -0.0116; var_38 0.0414; var_39 0.7399; var_40 -0.5281; var_41 -1.2500; var_42 -1.9298; var_43 0.6900; var_44 -1.3040; var_45 -1.6235; var_46 -1.3843; var_47 1.1976; var_48 1.7315; var_49 1.1476; var_50 -1.3095; var_51 -0.0240; var_52 -0.3176; var_53 0.8889; var_54 -1.0964; var_55 1.0272; var_56 0.7599; var_57 0.9305; var_58 -0.2943; var_59 -0.0713; var_60 -0.9800; var_61 0.4034; var_62 0.4538; var_63 -0.6346; var_64 1.1685; var_65 0.1471; var_66 -0.3500; var_67 -0.5452; var_68 0.4325; var_69 1.4064; var_70 1.3498; var_71 -0.5864; var_72 0.6394; var_73 0.0670; var_74 -0.8334; var_75 -1.6187; var_76 -0.3508; var_77 1.1574; var_78 0.0784; var_79 -0.4738; var_80 -0.4377; var_81 1.5036; var_82 0.4518; var_83 -0.7063; var_84 -0.4661; var_85 -1.1720; var_86 -2.4740; var_87 -0.0450; var_88 -0.3217; var_89 2.3868; var_90 1.2936; var_91 -0.6707; var_92 -1.1125; var_93 0.7471; var_94 0.2756; var_95 -1.9128; var_96 1.2188; var_97 0.6444; var_98 0.1980; var_99 0.7719; var_100 -0.7746; var_101 -1.0108; var_102 1.5245; var_103 0.7607; var_104 1.8688; var_105 -1.8960; var_106 -0.6744; var_107 1.8810; var_108 -1.5747; var_109 -1.2317; var_110 0.2892; var_111 0.7340; var_112 1.2782; var_113 0.0911; var_114 0.5443; var_115 0.7410; var_116 0.3891; var_117 -0.6210; var_118 -0.7057; var_119 1.0731; var_120 0.5839; var_121 -1.0563; var_122 1.3689; var_123 0.5023; var_124 -1.5194; var_125 0.3292; var_126 1.7617; var_127 0.5046; var_128 0.6036; var_129 0.2618; var_130 0.1964; var_131 -1.5831; var_132 -1.4030; var_133 0.6317; var_134 1.0999; var_135 -0.6215; var_136 -1.2709; var_137 0.0607; var_138 -0.7008; var_139 1.0939; var_140 0.0570; var_141 0.5624; var_142 -2.1589; var_143 -0.0187; var_144 -0.0428; var_145 1.5988; var_146 -0.5633; var_147 2.0360; var_148 1.3418; var_149 -0.9345; var_150 1.5457; var_151 1.1945; var_152 0.5997; var_153 -0.0010; var_154 -1.5208; var_155 0.3911; var_156 -1.0124; var_157 -0.8774; var_158 0.5688; var_159 0.0954; var_160 0.4825; var_161 1.0779; var_162 -1.0853; var_163 0.9192; var_164 -0.3935; var_165 -0.8332; var_166 0.6411; var_167 1.7269; var_168 -0.3378; var_169 0.4428; var_170 1.2534; var_171 1.1005; var_172 0.2537; var_173 1.0368; var_174 1.4102; var_175 -0.3951; var_176 -0.5898; var_177 1.7856; var_178 -0.7396; var_179 3.0282; var_180 -0.5403; var_181 -0.4339; var_182 -1.7451; var_183 0.1493; var_184 1.0501; var_185 -0.1857; var_186 -0.4113; var_187 -0.4833; var_188 -0.5233; var_189 -1.1279; var_190 0.9670; var_191 0.0941; var_192 0.4445; var_193 1.9082; var_194 -0.8197; var_195 1.5225; var_196 1.0664; var_197 -0.1296; var_198 0.8265; var_199 0.5066; ,var_0 -0.6824; var_1 -0.2762; var_2 0.5166; var_3 0.5345; var_4 -0.3046; var_5 -0.5108; var_6 1.7725; var_7 -0.5649; var_8 -1.5605; var_9 -1.3089; var_10 -0.1311; var_11 -1.3436; var_12 0.8864; var_13 -0.2636; var_14 -0.0050; var_15 0.1831; var_16 -0.6484; var_17 0.5912; var_18 -1.3422; var_19 1.0084; var_20 0.7590; var_21 0.1055; var_22 -1.0863; var_23 0.9377; var_24 -1.2960; var_25 -1.5766; var_26 -0.6642; var_27 -1.1588; var_28 0.3997; var_29 0.4152; var_30 -0.4295; var_31 0.9674; var_32 -0.6841; var_33 0.9871; var_34 -0.7174; var_35 0.0513; var_36 0.8045; var_37 0.4735; var_38 0.0591; var_39 0.0574; var_40 -0.8182; var_41 -1.1876; var_42 0.4394; var_43 1.5175; var_44 -0.8205; var_45 0.2211; var_46 -0.0651; var_47 0.6325; var_48 0.5325; var_49 -1.2499; var_50 0.2515; var_51 0.7524; var_52 0.6526; var_53 0.5191; var_54 0.9717; var_55 -1.1360; var_56 -0.2815; var_57 -0.5689; var_58 -0.4854; var_59 0.2998; var_60 0.1048; var_61 0.1344; var_62 -0.0004; var_63 1.6551; var_64 -1.7876; var_65 -0.5495; var_66 1.4033; var_67 -0.2838; var_68 0.5437; var_69 -0.6204; var_70 -1.8462; var_71 0.6847; var_72 1.4478; var_73 -0.9952; var_74 0.0137; var_75 0.4266; var_76 -0.1953; var_77 1.0934; var_78 0.4852; var_79 -1.2192; var_80 0.2253; var_81 0.4619; var_82 1.9831; var_83 1.1018; var_84 1.2915; var_85 0.1814; var_86 -1.2970; var_87 -0.3204; var_88 1.2858; var_89 -0.4453; var_90 -0.4459; var_91 0.6581; var_92 0.3400; var_93 -0.0902; var_94 1.1803; var_95 0.5632; var_96 0.7043; var_97 -0.1198; var_98 -0.0756; var_99 0.3849; var_100 0.6749; var_101 -0.1576; var_102 -0.8599; var_103 -0.9887; var_104 1.7884; var_105 -0.2866; var_106 -1.7150; var_107 -1.2052; var_108 -0.1646; var_109 0.4447; var_110 -0.5971; var_111 -0.5621; var_112 0.7585; var_113 -1.3352; var_114 0.0501; var_115 0.2637; var_116 -0.7473; var_117 0.9511; var_118 -1.3608; var_119 -0.2203; var_120 -0.2764; var_121 -1.3738; var_122 0.3057; var_123 -1.5072; var_124 -0.2131; var_125 -0.0759; var_126 1.2827; var_127 -1.0848; var_128 0.0578; var_129 0.4006; var_130 -0.8597; var_131 -0.9795; var_132 0.6983; var_133 -0.5069; var_134 1.4213; var_135 -0.9796; var_136 0.1521; var_137 -0.2290; var_138 0.5736; var_139 0.1184; var_140 0.8111; var_141 -0.7954; var_142 -0.3095; var_143 -1.6529; var_144 0.5018; var_145 -0.1216; var_146 0.4570; var_147 0.6848; var_148 0.4056; var_149 -0.6309; var_150 -1.0079; var_151 -0.5396; var_152 -1.0763; var_153 -1.2815; var_154 -2.4499; var_155 0.4583; var_156 1.3897; var_157 0.5466; var_158 2.0250; var_159 0.3329; var_160 -1.0135; var_161 0.9673; var_162 -0.4604; var_163 -1.0067; var_164 0.3346; var_165 0.2367; var_166 0.8539; var_167 -0.1847; var_168 0.7694; var_169 0.3592; var_170 -1.6027; var_171 -0.5729; var_172 -1.4517; var_173 -0.8618; var_174 0.7674; var_175 -0.2487; var_176 0.3306; var_177 -1.1549; var_178 -1.0141; var_179 -0.0682; var_180 -0.2934; var_181 -0.5046; var_182 -1.5614; var_183 -1.2507; var_184 1.1083; var_185 -0.2784; var_186 -1.1263; var_187 0.3521; var_188 -1.3153; var_189 -1.6247; var_190 -0.0725; var_191 0.7785; var_192 -0.1734; var_193 -0.4114; var_194 1.1489; var_195 2.2972; var_196 -1.6175; var_197 -0.6958; var_198 -0.3796; var_199 0.3576; ,var_0 0.1243; var_1 -0.1295; var_2 -0.6689; var_3 0.1941; var_4 0.9284; var_5 0.4102; var_6 0.5024; var_7 -0.4744; var_8 -1.8431; var_9 0.5472; var_10 0.3472; var_11 1.0127; var_12 -0.9379; var_13 0.7403; var_14 -0.4801; var_15 0.6443; var_16 0.5497; var_17 0.7865; var_18 0.0897; var_19 0.1634; var_20 1.1924; var_21 -0.5754; var_22 0.8844; var_23 -0.5633; var_24 0.4104; var_25 0.2414; var_26 0.8227; var_27 0.1524; var_28 0.4772; var_29 -0.8464; var_30 -0.9489; var_31 0.0205; var_32 -0.7946; var_33 -1.9899; var_34 -1.5217; var_35 -1.8842; var_36 1.9192; var_37 -1.3416; var_38 -0.3424; var_39 0.0000; var_40 0.3514; var_41 -1.7400; var_42 0.7963; var_43 -0.9263; var_44 -0.1522; var_45 -0.5629; var_46 0.4950; var_47 -2.1433; var_48 -1.2225; var_49 -1.0593; var_50 -0.0826; var_51 -0.4727; var_52 0.8658; var_53 -1.0466; var_54 0.8266; var_55 -0.0623; var_56 -0.6114; var_57 0.3935; var_58 0.0304; var_59 0.6255; var_60 0.8585; var_61 -1.1240; var_62 1.2673; var_63 -1.6244; var_64 1.5338; var_65 1.4068; var_66 -0.1525; var_67 1.5871; var_68 0.4325; var_69 -0.1692; var_70 -1.7053; var_71 -1.5751; var_72 0.1529; var_73 0.6441; var_74 -1.0642; var_75 -0.2373; var_76 0.7098; var_77 1.1954; var_78 -0.6367; var_79 0.6648; var_80 -0.6749; var_81 -1.8155; var_82 0.5995; var_83 -0.7628; var_84 0.6720; var_85 -0.1003; var_86 -1.0212; var_87 0.7555; var_88 -1.6688; var_89 1.0728; var_90 0.6806; var_91 0.3185; var_92 0.3978; var_93 0.4093; var_94 -1.3380; var_95 -1.6241; var_96 -0.3570; var_97 -0.0317; var_98 1.5085; var_99 1.4452; var_100 -1.4463; var_101 1.8416; var_102 -0.4283; var_103 -1.1734; var_104 -1.1078; var_105 0.0454; var_106 0.9341; var_107 -1.4077; var_108 0.5910; var_109 -0.9269; var_110 -0.3220; var_111 0.6137; var_112 -1.0502; var_113 0.7980; var_114 -0.5110; var_115 -1.8129; var_116 1.7819; var_117 1.6531; var_118 1.0085; var_119 0.4959; var_120 0.4993; var_121 -0.0062; var_122 0.5349; var_123 -2.4961; var_124 -0.5751; var_125 -0.4568; var_126 -0.8486; var_127 -0.7078; var_128 1.4617; var_129 -0.3566; var_130 2.4560; var_131 1.1043; var_132 0.7885; var_133 1.0149; var_134 0.5875; var_135 0.8148; var_136 0.4429; var_137 0.7862; var_138 -0.8880; var_139 0.1594; var_140 0.0966; var_141 1.9439; var_142 -0.3449; var_143 -1.5321; var_144 1.4366; var_145 -0.4908; var_146 0.0625; var_147 1.0088; var_148 -1.1520; var_149 -0.2807; var_150 0.5192; var_151 1.7759; var_152 0.0063; var_153 0.7550; var_154 2.0296; var_155 -1.5360; var_156 -1.2133; var_157 0.6447; var_158 0.2620; var_159 0.5235; var_160 0.7029; var_161 1.5369; var_162 1.2992; var_163 -1.3538; var_164 -1.5077; var_165 -0.4120; var_166 -1.0144; var_167 0.1862; var_168 -1.4071; var_169 -0.7933; var_170 -1.6166; var_171 -0.9963; var_172 -0.1845; var_173 2.0751; var_174 -0.7662; var_175 -1.2235; var_176 1.9506; var_177 0.7899; var_178 -1.1038; var_179 1.1080; var_180 -0.1910; var_181 -1.2182; var_182 0.1319; var_183 -0.3339; var_184 -1.4184; var_185 0.8329; var_186 -0.3237; var_187 -0.2151; var_188 -0.7528; var_189 1.1309; var_190 0.2700; var_191 -0.8909; var_192 -0.8178; var_193 -0.4776; var_194 1.6050; var_195 -0.7885; var_196 -0.9590; var_197 1.5028; var_198 0.6983; var_199 -0.5425; ,var_0 0.2612; var_1 -0.1706; var_2 0.7165; var_3 0.8927; var_4 -0.0708; var_5 1.0961; var_6 -1.0111; var_7 -0.3865; var_8 0.9924; var_9 -1.2875; var_10 0.0736; var_11 0.4386; var_12 -2.0342; var_13 -1.5683; var_14 0.2930; var_15 1.0138; var_16 1.0710; var_17 0.6312; var_18 -1.0833; var_19 0.3008; var_20 1.0930; var_21 -0.6449; var_22 -1.1453; var_23 1.6070; var_24 -1.5476; var_25 0.9630; var_26 0.4694; var_27 -2.1262; var_28 -0.4898; var_29 -1.7739; var_30 0.3274; var_31 -2.5445; var_32 0.7960; var_33 0.2002; var_34 -1.3156; var_35 2.1906; var_36 -0.1030; var_37 0.8237; var_38 -1.1936; var_39 0.3843; var_40 1.1343; var_41 0.7874; var_42 0.4009; var_43 0.3830; var_44 0.8733; var_45 -1.4995; var_46 -0.2378; var_47 -1.1538; var_48 1.3443; var_49 -0.3960; var_50 0.7157; var_51 -0.9609; var_52 -1.0536; var_53 -1.0063; var_54 0.6992; var_55 0.4449; var_56 -1.3587; var_57 -0.3944; var_58 0.3682; var_59 -0.8234; var_60 -0.2431; var_61 0.9613; var_62 -1.2256; var_63 1.7407; var_64 -0.2084; var_65 1.1855; var_66 -0.7877; var_67 0.2954; var_68 -1.0963; var_69 -0.5915; var_70 0.9067; var_71 0.0315; var_72 1.9062; var_73 -1.2988; var_74 -0.6380; var_75 -0.3928; var_76 0.8473; var_77 -0.4104; var_78 -0.9882; var_79 1.2256; var_80 -1.5193; var_81 0.2861; var_82 0.6222; var_83 -0.3562; var_84 -0.9191; var_85 0.4607; var_86 -0.3819; var_87 1.5182; var_88 0.3188; var_89 -2.0580; var_90 1.1683; var_91 -0.4404; var_92 -0.9405; var_93 -0.0359; var_94 -0.2856; var_95 2.0272; var_96 -0.0396; var_97 -0.0506; var_98 -1.1580; var_99 0.4469; var_100 -0.1953; var_101 1.2948; var_102 -1.1620; var_103 0.1769; var_104 1.9818; var_105 0.0614; var_106 0.9987; var_107 -0.1806; var_108 -0.4737; var_109 1.2677; var_110 0.3895; var_111 0.8106; var_112 0.3913; var_113 0.4123; var_114 0.6030; var_115 -0.5011; var_116 -0.0632; var_117 -2.5735; var_118 1.5893; var_119 -1.4103; var_120 -1.0924; var_121 -1.3218; var_122 -0.5314; var_123 0.4644; var_124 0.0365; var_125 -0.3764; var_126 -0.2561; var_127 1.3536; var_128 -1.4626; var_129 -0.0962; var_130 0.5579; var_131 0.0693; var_132 -0.4841; var_133 -0.5303; var_134 -0.6511; var_135 0.4288; var_136 0.3079; var_137 -0.6325; var_138 -1.5652; var_139 0.7222; var_140 0.2099; var_141 -0.4391; var_142 1.1833; var_143 0.6211; var_144 1.0990; var_145 -0.5708; var_146 1.0412; var_147 1.0852; var_148 -0.0540; var_149 -0.3696; var_150 1.0946; var_151 -0.6453; var_152 -0.6363; var_153 -0.7421; var_154 1.7082; var_155 -0.0009; var_156 -0.8398; var_157 -2.1555; var_158 0.7983; var_159 -1.2838; var_160 -0.7058; var_161 -1.1894; var_162 0.7645; var_163 0.1063; var_164 0.7794; var_165 -0.8671; var_166 -0.3184; var_167 -0.6333; var_168 -0.3553; var_169 0.9068; var_170 -1.3884; var_171 -0.2231; var_172 -0.1644; var_173 0.3556; var_174 0.2349; var_175 -0.8209; var_176 -0.4953; var_177 -0.4225; var_178 -0.7723; var_179 -0.5610; var_180 1.8888; var_181 0.7578; var_182 0.1684; var_183 -0.5247; var_184 0.8903; var_185 -2.0460; var_186 -1.3161; var_187 0.1235; var_188 -0.0713; var_189 1.7246; var_190 -2.0946; var_191 -0.2760; var_192 2.2763; var_193 -0.7232; var_194 -0.9745; var_195 0.8214; var_196 -1.0866; var_197 0.9325; var_198 -1.0903; var_199 -0.1364; \n",
       "y: CategoryList\n",
       "0,0,0,0,0\n",
       "Path: .;\n",
       "\n",
       "Valid: LabelList (40000 items)\n",
       "x: TabularList\n",
       "var_0 0.1057; var_1 -0.7102; var_2 -0.6257; var_3 -0.1792; var_4 -0.2285; var_5 -1.2989; var_6 -0.3285; var_7 0.0704; var_8 1.1718; var_9 0.6771; var_10 -0.8273; var_11 -1.2713; var_12 1.2132; var_13 -1.1710; var_14 0.3825; var_15 0.3047; var_16 0.0091; var_17 -1.5727; var_18 1.2701; var_19 -0.8914; var_20 2.1134; var_21 1.0910; var_22 -0.4147; var_23 1.5996; var_24 -0.1877; var_25 -1.1556; var_26 0.6360; var_27 -1.1504; var_28 1.3809; var_29 -0.9012; var_30 -0.6588; var_31 -0.0188; var_32 -1.5500; var_33 0.0107; var_34 -1.2842; var_35 -1.8879; var_36 -1.5886; var_37 -1.1423; var_38 1.7363; var_39 -1.0963; var_40 0.9973; var_41 -1.4105; var_42 -0.6416; var_43 0.4731; var_44 -0.6579; var_45 0.6511; var_46 -0.6513; var_47 0.2796; var_48 -0.7805; var_49 -0.2702; var_50 0.6406; var_51 0.2698; var_52 -0.5405; var_53 0.1125; var_54 2.0563; var_55 -0.6020; var_56 -0.6028; var_57 0.4606; var_58 2.2168; var_59 0.3024; var_60 -0.7727; var_61 -0.4363; var_62 -2.5886; var_63 0.9948; var_64 1.1235; var_65 -0.2218; var_66 -0.5317; var_67 0.7655; var_68 -1.2770; var_69 0.9514; var_70 -0.7080; var_71 1.2932; var_72 1.2934; var_73 0.8740; var_74 1.9187; var_75 1.1801; var_76 0.8982; var_77 1.3897; var_78 1.0369; var_79 -1.0562; var_80 0.4029; var_81 -0.9353; var_82 -1.2310; var_83 1.7365; var_84 -0.7557; var_85 0.4797; var_86 -1.1191; var_87 -0.1333; var_88 0.4801; var_89 -0.0795; var_90 0.4798; var_91 -0.7276; var_92 0.1088; var_93 -0.2948; var_94 -0.8552; var_95 1.7867; var_96 0.9082; var_97 0.1509; var_98 -0.9179; var_99 -0.4652; var_100 -1.1595; var_101 0.6172; var_102 -0.7075; var_103 1.8442; var_104 0.6635; var_105 -2.1628; var_106 -0.6060; var_107 -1.2210; var_108 -1.5747; var_109 0.6223; var_110 1.1252; var_111 -1.1966; var_112 -1.4097; var_113 1.7208; var_114 0.1391; var_115 1.1377; var_116 -0.2915; var_117 -0.1204; var_118 0.4619; var_119 -0.7546; var_120 -1.0632; var_121 0.9893; var_122 1.0887; var_123 -1.5209; var_124 0.0742; var_125 -0.4967; var_126 -0.7563; var_127 0.8007; var_128 -0.3782; var_129 0.7098; var_130 2.0554; var_131 0.1990; var_132 1.0322; var_133 -0.4356; var_134 0.3182; var_135 -0.5811; var_136 1.4909; var_137 -0.8603; var_138 -0.3260; var_139 0.8826; var_140 -0.3581; var_141 1.5582; var_142 -1.1283; var_143 0.2200; var_144 0.3093; var_145 -2.2136; var_146 0.0335; var_147 0.0875; var_148 1.7949; var_149 -0.3816; var_150 -0.4194; var_151 -0.0278; var_152 -0.1953; var_153 1.0475; var_154 1.2558; var_155 -0.3879; var_156 -0.7431; var_157 1.5620; var_158 3.1036; var_159 -1.1704; var_160 1.4334; var_161 1.0861; var_162 0.7949; var_163 -0.1496; var_164 0.9098; var_165 0.3809; var_166 0.2322; var_167 0.1518; var_168 -0.5756; var_169 1.5388; var_170 0.1048; var_171 0.1678; var_172 -0.4890; var_173 -0.7093; var_174 0.7125; var_175 -1.2109; var_176 -0.7218; var_177 -1.1362; var_178 -0.4213; var_179 -0.6106; var_180 -1.2011; var_181 -0.0224; var_182 0.9118; var_183 -0.1769; var_184 -1.0549; var_185 0.4531; var_186 -1.4058; var_187 -1.1698; var_188 -1.0946; var_189 -1.2877; var_190 -0.8903; var_191 -1.3655; var_192 0.8180; var_193 0.4423; var_194 0.5468; var_195 -0.0258; var_196 0.6481; var_197 -0.0798; var_198 0.3917; var_199 1.1645; ,var_0 0.7124; var_1 -1.1257; var_2 -1.4542; var_3 -2.3351; var_4 1.0609; var_5 1.9497; var_6 -1.1417; var_7 -0.2495; var_8 -0.2876; var_9 1.0832; var_10 -1.5025; var_11 1.2750; var_12 -0.4236; var_13 -0.1003; var_14 0.5199; var_15 -0.5935; var_16 1.0350; var_17 -1.9035; var_18 1.6364; var_19 -0.1963; var_20 0.3693; var_21 2.6418; var_22 -1.1323; var_23 1.8573; var_24 -0.3587; var_25 0.7353; var_26 -0.3371; var_27 -1.6425; var_28 1.9230; var_29 -1.9791; var_30 0.1434; var_31 -0.0193; var_32 -1.0513; var_33 -0.5309; var_34 2.0228; var_35 -0.2116; var_36 -0.3441; var_37 0.6745; var_38 0.8389; var_39 -1.3116; var_40 0.2328; var_41 0.3535; var_42 -0.0857; var_43 -0.7382; var_44 0.4260; var_45 -0.9689; var_46 -1.0775; var_47 -2.0750; var_48 -0.4689; var_49 -1.7198; var_50 -1.7946; var_51 -1.2760; var_52 -0.9685; var_53 2.1322; var_54 -0.4879; var_55 1.2150; var_56 -1.0185; var_57 1.6520; var_58 -0.0682; var_59 0.2607; var_60 0.3911; var_61 -0.1329; var_62 0.8513; var_63 1.5768; var_64 -0.7700; var_65 0.4293; var_66 0.8059; var_67 0.6629; var_68 0.6688; var_69 -0.8850; var_70 -0.7017; var_71 1.0837; var_72 -0.7570; var_73 -0.2442; var_74 0.6516; var_75 -0.5088; var_76 0.9128; var_77 0.3888; var_78 0.4069; var_79 -1.4654; var_80 0.6570; var_81 -1.7057; var_82 0.9823; var_83 -0.1958; var_84 -1.2245; var_85 2.0182; var_86 -1.0449; var_87 -0.7393; var_88 0.2448; var_89 1.0645; var_90 -1.2308; var_91 -0.5287; var_92 -1.8667; var_93 1.2193; var_94 -0.5749; var_95 0.2941; var_96 0.7759; var_97 -1.9737; var_98 1.2786; var_99 0.9662; var_100 -2.3561; var_101 -0.7282; var_102 -0.9347; var_103 0.0348; var_104 0.8367; var_105 0.0475; var_106 -1.2884; var_107 1.3081; var_108 0.3602; var_109 -1.4550; var_110 -0.5167; var_111 -0.5926; var_112 -0.3878; var_113 -0.7883; var_114 -0.6351; var_115 1.2310; var_116 -0.8523; var_117 1.5901; var_118 0.3434; var_119 1.3286; var_120 1.3711; var_121 0.5228; var_122 -2.3618; var_123 0.9686; var_124 0.8520; var_125 0.0045; var_126 -0.5989; var_127 -0.4137; var_128 -1.9139; var_129 -0.7960; var_130 -0.7937; var_131 1.5062; var_132 -1.4438; var_133 0.4214; var_134 -1.6563; var_135 0.9313; var_136 1.0501; var_137 1.5804; var_138 0.2754; var_139 1.0852; var_140 0.6867; var_141 -1.0569; var_142 -0.4791; var_143 1.0181; var_144 0.2188; var_145 0.3622; var_146 0.7250; var_147 -0.8316; var_148 -0.9074; var_149 -0.0018; var_150 0.3077; var_151 -0.5165; var_152 -0.4582; var_153 0.2546; var_154 -0.6697; var_155 1.5297; var_156 -0.6759; var_157 0.1821; var_158 1.7530; var_159 1.2599; var_160 0.1105; var_161 1.4635; var_162 -1.6290; var_163 0.2801; var_164 -1.2905; var_165 -0.9721; var_166 0.9973; var_167 -0.4148; var_168 1.0770; var_169 -1.2243; var_170 -0.6309; var_171 0.5807; var_172 -0.5070; var_173 -1.6001; var_174 1.4535; var_175 -1.0045; var_176 -0.1839; var_177 0.8203; var_178 0.9753; var_179 -0.4089; var_180 -2.4520; var_181 -0.2889; var_182 0.0686; var_183 -0.6751; var_184 1.8017; var_185 -2.0746; var_186 -1.6982; var_187 -1.9436; var_188 0.0490; var_189 1.3290; var_190 -0.4576; var_191 -1.1692; var_192 1.8503; var_193 1.0701; var_194 -1.7095; var_195 -0.1123; var_196 -1.1982; var_197 0.9093; var_198 -0.3426; var_199 -0.0364; ,var_0 0.8228; var_1 0.1960; var_2 1.0428; var_3 -1.4124; var_4 1.5527; var_5 1.2341; var_6 0.6445; var_7 2.1962; var_8 1.0791; var_9 0.0533; var_10 -0.8481; var_11 -1.1668; var_12 -1.3273; var_13 1.0980; var_14 -1.5938; var_15 0.4809; var_16 -1.3992; var_17 1.1852; var_18 -0.4395; var_19 -1.0301; var_20 1.7040; var_21 1.2596; var_22 -0.5753; var_23 -0.2349; var_24 1.7534; var_25 -0.1804; var_26 -2.8775; var_27 0.3821; var_28 0.7391; var_29 1.2518; var_30 0.8260; var_31 -1.2347; var_32 1.0388; var_33 -0.5191; var_34 1.9798; var_35 -0.3902; var_36 -0.1827; var_37 0.1408; var_38 0.3075; var_39 -0.9575; var_40 1.6271; var_41 -0.0916; var_42 0.9777; var_43 0.6835; var_44 -0.5604; var_45 0.2513; var_46 -0.8162; var_47 1.3566; var_48 0.6736; var_49 -0.0082; var_50 -0.9213; var_51 0.7939; var_52 0.0258; var_53 -1.3131; var_54 1.1254; var_55 -0.5791; var_56 0.9003; var_57 -0.4766; var_58 0.6611; var_59 -1.6302; var_60 -0.8440; var_61 0.7135; var_62 0.8871; var_63 -0.0385; var_64 0.9026; var_65 -1.7022; var_66 -1.2747; var_67 -1.7527; var_68 -1.1658; var_69 2.2768; var_70 0.3226; var_71 -0.2155; var_72 0.8488; var_73 -0.5845; var_74 -1.4198; var_75 -0.6755; var_76 -1.3987; var_77 -0.0299; var_78 0.2147; var_79 -0.4075; var_80 0.8387; var_81 0.5204; var_82 0.3900; var_83 0.0796; var_84 0.4724; var_85 0.7398; var_86 -1.0340; var_87 -0.9635; var_88 -1.1389; var_89 0.2291; var_90 0.1339; var_91 -1.1097; var_92 -0.4637; var_93 0.5469; var_94 -1.1825; var_95 -0.0128; var_96 -0.2852; var_97 0.7473; var_98 1.1550; var_99 0.5403; var_100 -0.0193; var_101 -0.4195; var_102 -1.3578; var_103 -0.2952; var_104 0.6800; var_105 -0.6135; var_106 -1.1272; var_107 -0.7758; var_108 0.0774; var_109 -0.8696; var_110 -0.4518; var_111 -0.5592; var_112 0.3435; var_113 -1.4240; var_114 0.3144; var_115 1.0960; var_116 1.4573; var_117 0.9501; var_118 -0.7012; var_119 -1.6500; var_120 0.0415; var_121 -0.7535; var_122 1.7271; var_123 -0.4347; var_124 0.7051; var_125 -0.3701; var_126 1.5282; var_127 0.5801; var_128 1.5603; var_129 -0.8235; var_130 -0.3574; var_131 -0.8704; var_132 -1.6460; var_133 0.2204; var_134 -1.9752; var_135 0.2090; var_136 -0.9352; var_137 0.9083; var_138 -1.7431; var_139 -0.5387; var_140 1.2247; var_141 0.0207; var_142 1.7261; var_143 0.0463; var_144 -0.2598; var_145 -1.9006; var_146 1.0323; var_147 -1.9430; var_148 -1.7668; var_149 1.4606; var_150 -1.2285; var_151 0.2555; var_152 0.3377; var_153 1.1592; var_154 -0.7295; var_155 1.4181; var_156 0.9786; var_157 -0.0381; var_158 -1.3586; var_159 1.6310; var_160 0.8852; var_161 0.6298; var_162 2.3036; var_163 1.8447; var_164 0.7178; var_165 2.3251; var_166 0.8050; var_167 1.9837; var_168 -0.2865; var_169 0.6584; var_170 0.5390; var_171 -1.9095; var_172 0.1907; var_173 0.8668; var_174 2.4547; var_175 -0.7622; var_176 0.3983; var_177 -1.2427; var_178 1.8767; var_179 -0.7274; var_180 -1.3471; var_181 -0.1703; var_182 -0.7597; var_183 -2.3279; var_184 -0.9256; var_185 -2.1463; var_186 0.7392; var_187 -0.0896; var_188 -0.3581; var_189 -0.5982; var_190 -0.0796; var_191 -0.5103; var_192 -0.7267; var_193 1.3547; var_194 -0.4264; var_195 0.7117; var_196 0.8674; var_197 -0.2887; var_198 1.6080; var_199 -0.1995; ,var_0 -0.8128; var_1 0.7062; var_2 0.1626; var_3 1.2961; var_4 -0.5314; var_5 1.1572; var_6 -0.0102; var_7 1.1424; var_8 0.0036; var_9 -1.0176; var_10 -1.3382; var_11 0.0932; var_12 0.0374; var_13 -1.4105; var_14 -0.6358; var_15 0.4962; var_16 0.2436; var_17 -2.3424; var_18 -1.0771; var_19 -0.2794; var_20 -2.0461; var_21 -0.6712; var_22 1.6334; var_23 -0.1341; var_24 -1.4419; var_25 0.0606; var_26 -0.2250; var_27 1.1210; var_28 -2.0607; var_29 0.4838; var_30 1.6367; var_31 -0.6020; var_32 1.5123; var_33 -0.3474; var_34 0.7592; var_35 -0.9461; var_36 -0.1511; var_37 0.6795; var_38 -0.5829; var_39 0.9347; var_40 -0.9226; var_41 -2.1400; var_42 -0.0224; var_43 1.4581; var_44 -0.1141; var_45 0.0181; var_46 0.8373; var_47 0.1517; var_48 -0.8842; var_49 -0.1172; var_50 0.8351; var_51 0.9870; var_52 -1.1407; var_53 -0.0867; var_54 0.1593; var_55 -0.8725; var_56 -0.2618; var_57 -0.0724; var_58 1.8816; var_59 -0.6473; var_60 0.3237; var_61 -0.1506; var_62 0.5881; var_63 -0.7718; var_64 -1.5174; var_65 -0.3797; var_66 -0.9049; var_67 -0.4671; var_68 0.5854; var_69 -1.2436; var_70 -0.0753; var_71 1.4167; var_72 -0.5203; var_73 0.2832; var_74 -0.4629; var_75 -0.4978; var_76 -0.4421; var_77 0.0237; var_78 -0.9012; var_79 1.2032; var_80 1.8424; var_81 0.0721; var_82 0.1493; var_83 -0.7053; var_84 0.4281; var_85 -0.3814; var_86 -1.4429; var_87 0.8784; var_88 0.1357; var_89 0.6229; var_90 -0.6057; var_91 -0.9566; var_92 0.6571; var_93 -0.6773; var_94 0.2802; var_95 0.7152; var_96 1.1084; var_97 1.9494; var_98 -1.2428; var_99 0.1791; var_100 -0.4447; var_101 -1.0026; var_102 0.2848; var_103 1.1723; var_104 -1.3723; var_105 0.6224; var_106 0.1974; var_107 -0.9352; var_108 -0.0717; var_109 -0.9137; var_110 0.1998; var_111 -0.2401; var_112 -0.7969; var_113 1.1827; var_114 1.2781; var_115 -0.9245; var_116 0.5780; var_117 -0.4000; var_118 1.0193; var_119 -0.0376; var_120 0.3251; var_121 1.9722; var_122 0.6467; var_123 0.2472; var_124 -1.0325; var_125 0.7365; var_126 -1.0910; var_127 0.1754; var_128 1.2119; var_129 0.9237; var_130 1.1612; var_131 -0.5678; var_132 -0.5225; var_133 -1.3535; var_134 0.5654; var_135 -0.0065; var_136 -0.3385; var_137 -1.2995; var_138 0.2319; var_139 0.5393; var_140 -1.4116; var_141 0.2117; var_142 0.8676; var_143 0.9825; var_144 1.0869; var_145 -0.3847; var_146 -0.7148; var_147 -0.6715; var_148 -0.3458; var_149 0.6176; var_150 0.3069; var_151 0.3701; var_152 0.9381; var_153 0.8208; var_154 -0.0833; var_155 -1.0509; var_156 -1.0992; var_157 -0.1017; var_158 -0.7085; var_159 -0.7776; var_160 1.3367; var_161 -1.1540; var_162 0.5910; var_163 0.7662; var_164 -1.1622; var_165 1.3698; var_166 1.1944; var_167 -1.3154; var_168 0.6044; var_169 -1.6843; var_170 0.6051; var_171 -0.1524; var_172 -0.8953; var_173 -0.8457; var_174 -0.3323; var_175 -0.1539; var_176 -0.5850; var_177 0.0727; var_178 -0.5350; var_179 1.0404; var_180 1.4308; var_181 -0.4688; var_182 -0.9029; var_183 -0.4413; var_184 0.3576; var_185 2.0360; var_186 -0.8033; var_187 -1.2315; var_188 -2.1577; var_189 0.2974; var_190 0.7109; var_191 -0.5599; var_192 0.1786; var_193 0.6849; var_194 -2.2502; var_195 -1.3451; var_196 -1.8739; var_197 0.1563; var_198 0.4340; var_199 1.5139; ,var_0 -1.6834; var_1 1.5472; var_2 1.7121; var_3 -1.8198; var_4 0.4562; var_5 -1.2690; var_6 -1.8154; var_7 -1.3249; var_8 0.9066; var_9 -1.0064; var_10 0.0031; var_11 -1.2517; var_12 -0.0515; var_13 -1.0026; var_14 -0.5622; var_15 -1.3798; var_16 -0.5207; var_17 1.0579; var_18 -0.1257; var_19 0.5596; var_20 0.5521; var_21 -1.8034; var_22 2.3703; var_23 -0.1349; var_24 -0.3664; var_25 -0.8445; var_26 -1.1335; var_27 -1.2204; var_28 -1.2598; var_29 0.9916; var_30 -1.7535; var_31 -0.9237; var_32 1.9325; var_33 -1.1183; var_34 -0.1949; var_35 -0.0834; var_36 -1.7046; var_37 -0.7619; var_38 -0.5805; var_39 -0.9867; var_40 1.3206; var_41 -1.3950; var_42 0.8051; var_43 0.4072; var_44 0.9547; var_45 -0.9810; var_46 -0.6692; var_47 -0.6342; var_48 1.2612; var_49 0.6585; var_50 0.0079; var_51 1.4883; var_52 0.3472; var_53 -0.5930; var_54 0.6188; var_55 0.3123; var_56 -1.4440; var_57 -0.6130; var_58 0.7906; var_59 -0.6597; var_60 1.2659; var_61 0.9496; var_62 -1.3486; var_63 -0.5986; var_64 -0.1278; var_65 -0.2013; var_66 0.3541; var_67 0.6179; var_68 -0.5682; var_69 -1.1422; var_70 -0.5564; var_71 -0.1963; var_72 -2.1755; var_73 0.4036; var_74 0.0494; var_75 -0.8113; var_76 -1.3552; var_77 0.1902; var_78 0.6535; var_79 0.0570; var_80 0.2336; var_81 -0.1616; var_82 0.2723; var_83 2.2307; var_84 -1.3694; var_85 -1.0131; var_86 0.7108; var_87 -1.2704; var_88 0.7795; var_89 1.3749; var_90 0.4968; var_91 1.1801; var_92 0.5459; var_93 0.8566; var_94 0.0923; var_95 -0.2607; var_96 1.0960; var_97 0.2493; var_98 1.5611; var_99 0.3834; var_100 -0.8455; var_101 0.0237; var_102 1.0191; var_103 0.4718; var_104 -0.7318; var_105 0.9012; var_106 -1.1456; var_107 0.3903; var_108 -0.9436; var_109 1.4995; var_110 -1.6668; var_111 -0.0393; var_112 -0.3871; var_113 1.0947; var_114 -2.4232; var_115 -0.3119; var_116 1.1918; var_117 -1.4896; var_118 0.9554; var_119 0.9578; var_120 -0.8473; var_121 -0.0675; var_122 0.8514; var_123 1.6364; var_124 0.0591; var_125 -1.5166; var_126 0.9124; var_127 -0.6216; var_128 0.4248; var_129 1.4483; var_130 -0.8164; var_131 -0.5043; var_132 0.4326; var_133 -0.2194; var_134 0.1607; var_135 1.4880; var_136 -1.0294; var_137 -0.9940; var_138 0.2540; var_139 -0.4214; var_140 1.7769; var_141 -1.0594; var_142 0.4446; var_143 -0.6550; var_144 -0.8421; var_145 -0.6942; var_146 -2.3717; var_147 0.0719; var_148 -2.0300; var_149 0.1728; var_150 1.1476; var_151 -2.2138; var_152 -2.3253; var_153 -0.4427; var_154 2.5212; var_155 1.7674; var_156 0.0199; var_157 -0.9880; var_158 0.2469; var_159 -0.0311; var_160 -0.7556; var_161 0.0804; var_162 0.9125; var_163 0.3830; var_164 -1.3166; var_165 0.5530; var_166 -1.8882; var_167 -0.9030; var_168 -1.7355; var_169 1.5109; var_170 -0.9980; var_171 0.4172; var_172 0.5995; var_173 0.5230; var_174 -0.8829; var_175 -0.2491; var_176 -0.5789; var_177 0.2797; var_178 -0.0025; var_179 1.6084; var_180 0.9621; var_181 0.3812; var_182 0.6450; var_183 -1.3643; var_184 0.6917; var_185 0.3385; var_186 0.2139; var_187 0.2721; var_188 0.4753; var_189 0.6647; var_190 0.2071; var_191 -0.6038; var_192 -1.4091; var_193 -0.0571; var_194 -0.1823; var_195 -0.6077; var_196 -1.6167; var_197 -1.0110; var_198 0.8825; var_199 1.4000; \n",
       "y: CategoryList\n",
       "0,0,0,0,1\n",
       "Path: .;\n",
       "\n",
       "Test: None, model=resnet_mod(\n",
       "  (net): ResNet(\n",
       "    (conv1): Conv2d(1, 64, kernel_size=(3, 3), stride=(2, 2), padding=(3, 3), bias=False)\n",
       "    (bn1): BatchNorm2d(64, eps=1e-05, momentum=0.1, affine=True, track_running_stats=True)\n",
       "    (relu): ReLU(inplace)\n",
       "    (maxpool): MaxPool2d(kernel_size=3, stride=2, padding=1, dilation=1, ceil_mode=False)\n",
       "    (layer1): Sequential(\n",
       "      (0): BasicBlock(\n",
       "        (conv1): Conv2d(64, 64, kernel_size=(3, 3), stride=(1, 1), padding=(1, 1), bias=False)\n",
       "        (bn1): BatchNorm2d(64, eps=1e-05, momentum=0.1, affine=True, track_running_stats=True)\n",
       "        (relu): ReLU(inplace)\n",
       "        (conv2): Conv2d(64, 64, kernel_size=(3, 3), stride=(1, 1), padding=(1, 1), bias=False)\n",
       "        (bn2): BatchNorm2d(64, eps=1e-05, momentum=0.1, affine=True, track_running_stats=True)\n",
       "      )\n",
       "      (1): BasicBlock(\n",
       "        (conv1): Conv2d(64, 64, kernel_size=(3, 3), stride=(1, 1), padding=(1, 1), bias=False)\n",
       "        (bn1): BatchNorm2d(64, eps=1e-05, momentum=0.1, affine=True, track_running_stats=True)\n",
       "        (relu): ReLU(inplace)\n",
       "        (conv2): Conv2d(64, 64, kernel_size=(3, 3), stride=(1, 1), padding=(1, 1), bias=False)\n",
       "        (bn2): BatchNorm2d(64, eps=1e-05, momentum=0.1, affine=True, track_running_stats=True)\n",
       "      )\n",
       "    )\n",
       "    (layer2): Sequential(\n",
       "      (0): BasicBlock(\n",
       "        (conv1): Conv2d(64, 128, kernel_size=(3, 3), stride=(2, 2), padding=(1, 1), bias=False)\n",
       "        (bn1): BatchNorm2d(128, eps=1e-05, momentum=0.1, affine=True, track_running_stats=True)\n",
       "        (relu): ReLU(inplace)\n",
       "        (conv2): Conv2d(128, 128, kernel_size=(3, 3), stride=(1, 1), padding=(1, 1), bias=False)\n",
       "        (bn2): BatchNorm2d(128, eps=1e-05, momentum=0.1, affine=True, track_running_stats=True)\n",
       "        (downsample): Sequential(\n",
       "          (0): Conv2d(64, 128, kernel_size=(1, 1), stride=(2, 2), bias=False)\n",
       "          (1): BatchNorm2d(128, eps=1e-05, momentum=0.1, affine=True, track_running_stats=True)\n",
       "        )\n",
       "      )\n",
       "      (1): BasicBlock(\n",
       "        (conv1): Conv2d(128, 128, kernel_size=(3, 3), stride=(1, 1), padding=(1, 1), bias=False)\n",
       "        (bn1): BatchNorm2d(128, eps=1e-05, momentum=0.1, affine=True, track_running_stats=True)\n",
       "        (relu): ReLU(inplace)\n",
       "        (conv2): Conv2d(128, 128, kernel_size=(3, 3), stride=(1, 1), padding=(1, 1), bias=False)\n",
       "        (bn2): BatchNorm2d(128, eps=1e-05, momentum=0.1, affine=True, track_running_stats=True)\n",
       "      )\n",
       "    )\n",
       "    (layer3): Sequential(\n",
       "      (0): BasicBlock(\n",
       "        (conv1): Conv2d(128, 256, kernel_size=(3, 3), stride=(2, 2), padding=(1, 1), bias=False)\n",
       "        (bn1): BatchNorm2d(256, eps=1e-05, momentum=0.1, affine=True, track_running_stats=True)\n",
       "        (relu): ReLU(inplace)\n",
       "        (conv2): Conv2d(256, 256, kernel_size=(3, 3), stride=(1, 1), padding=(1, 1), bias=False)\n",
       "        (bn2): BatchNorm2d(256, eps=1e-05, momentum=0.1, affine=True, track_running_stats=True)\n",
       "        (downsample): Sequential(\n",
       "          (0): Conv2d(128, 256, kernel_size=(1, 1), stride=(2, 2), bias=False)\n",
       "          (1): BatchNorm2d(256, eps=1e-05, momentum=0.1, affine=True, track_running_stats=True)\n",
       "        )\n",
       "      )\n",
       "      (1): BasicBlock(\n",
       "        (conv1): Conv2d(256, 256, kernel_size=(3, 3), stride=(1, 1), padding=(1, 1), bias=False)\n",
       "        (bn1): BatchNorm2d(256, eps=1e-05, momentum=0.1, affine=True, track_running_stats=True)\n",
       "        (relu): ReLU(inplace)\n",
       "        (conv2): Conv2d(256, 256, kernel_size=(3, 3), stride=(1, 1), padding=(1, 1), bias=False)\n",
       "        (bn2): BatchNorm2d(256, eps=1e-05, momentum=0.1, affine=True, track_running_stats=True)\n",
       "      )\n",
       "    )\n",
       "    (layer4): Sequential(\n",
       "      (0): BasicBlock(\n",
       "        (conv1): Conv2d(256, 512, kernel_size=(3, 3), stride=(2, 2), padding=(1, 1), bias=False)\n",
       "        (bn1): BatchNorm2d(512, eps=1e-05, momentum=0.1, affine=True, track_running_stats=True)\n",
       "        (relu): ReLU(inplace)\n",
       "        (conv2): Conv2d(512, 512, kernel_size=(3, 3), stride=(1, 1), padding=(1, 1), bias=False)\n",
       "        (bn2): BatchNorm2d(512, eps=1e-05, momentum=0.1, affine=True, track_running_stats=True)\n",
       "        (downsample): Sequential(\n",
       "          (0): Conv2d(256, 512, kernel_size=(1, 1), stride=(2, 2), bias=False)\n",
       "          (1): BatchNorm2d(512, eps=1e-05, momentum=0.1, affine=True, track_running_stats=True)\n",
       "        )\n",
       "      )\n",
       "      (1): BasicBlock(\n",
       "        (conv1): Conv2d(512, 512, kernel_size=(3, 3), stride=(1, 1), padding=(1, 1), bias=False)\n",
       "        (bn1): BatchNorm2d(512, eps=1e-05, momentum=0.1, affine=True, track_running_stats=True)\n",
       "        (relu): ReLU(inplace)\n",
       "        (conv2): Conv2d(512, 512, kernel_size=(3, 3), stride=(1, 1), padding=(1, 1), bias=False)\n",
       "        (bn2): BatchNorm2d(512, eps=1e-05, momentum=0.1, affine=True, track_running_stats=True)\n",
       "      )\n",
       "    )\n",
       "    (avgpool): AdaptiveAvgPool2d(output_size=(1, 1))\n",
       "    (fc): Sequential(\n",
       "      (0): Linear(in_features=512, out_features=256, bias=True)\n",
       "      (1): ReLU(inplace)\n",
       "      (2): BatchNorm1d(256, eps=1e-05, momentum=0.1, affine=True, track_running_stats=True)\n",
       "      (3): Linear(in_features=256, out_features=128, bias=True)\n",
       "      (4): ReLU(inplace)\n",
       "      (5): BatchNorm1d(128, eps=1e-05, momentum=0.1, affine=True, track_running_stats=True)\n",
       "      (6): Linear(in_features=128, out_features=64, bias=True)\n",
       "      (7): ReLU(inplace)\n",
       "      (8): BatchNorm1d(64, eps=1e-05, momentum=0.1, affine=True, track_running_stats=True)\n",
       "      (9): Linear(in_features=64, out_features=8, bias=True)\n",
       "      (10): ReLU(inplace)\n",
       "      (11): BatchNorm1d(8, eps=1e-05, momentum=0.1, affine=True, track_running_stats=True)\n",
       "      (12): Linear(in_features=8, out_features=2, bias=True)\n",
       "    )\n",
       "  )\n",
       "), opt_func=functools.partial(<class 'torch.optim.adam.Adam'>, betas=(0.9, 0.99)), loss_func=FlattenedLoss of CrossEntropyLoss(), metrics=[<function accuracy at 0x7f8d5f7db158>, Precision(average='binary', pos_label=1, eps=1e-09), Recall(average='binary', pos_label=1, eps=1e-09), FBeta(average='binary', pos_label=1, eps=1e-09, beta=1)], true_wd=True, bn_wd=True, wd=0.01, train_bn=True, path=PosixPath('.'), model_dir='models', callback_fns=[functools.partial(<class 'fastai.basic_train.Recorder'>, add_time=True)], callbacks=[], layer_groups=[Sequential(\n",
       "  (0): Conv2d(1, 64, kernel_size=(3, 3), stride=(2, 2), padding=(3, 3), bias=False)\n",
       "  (1): BatchNorm2d(64, eps=1e-05, momentum=0.1, affine=True, track_running_stats=True)\n",
       "  (2): ReLU(inplace)\n",
       "  (3): MaxPool2d(kernel_size=3, stride=2, padding=1, dilation=1, ceil_mode=False)\n",
       "  (4): Conv2d(64, 64, kernel_size=(3, 3), stride=(1, 1), padding=(1, 1), bias=False)\n",
       "  (5): BatchNorm2d(64, eps=1e-05, momentum=0.1, affine=True, track_running_stats=True)\n",
       "  (6): ReLU(inplace)\n",
       "  (7): Conv2d(64, 64, kernel_size=(3, 3), stride=(1, 1), padding=(1, 1), bias=False)\n",
       "  (8): BatchNorm2d(64, eps=1e-05, momentum=0.1, affine=True, track_running_stats=True)\n",
       "  (9): Conv2d(64, 64, kernel_size=(3, 3), stride=(1, 1), padding=(1, 1), bias=False)\n",
       "  (10): BatchNorm2d(64, eps=1e-05, momentum=0.1, affine=True, track_running_stats=True)\n",
       "  (11): ReLU(inplace)\n",
       "  (12): Conv2d(64, 64, kernel_size=(3, 3), stride=(1, 1), padding=(1, 1), bias=False)\n",
       "  (13): BatchNorm2d(64, eps=1e-05, momentum=0.1, affine=True, track_running_stats=True)\n",
       "  (14): Conv2d(64, 128, kernel_size=(3, 3), stride=(2, 2), padding=(1, 1), bias=False)\n",
       "  (15): BatchNorm2d(128, eps=1e-05, momentum=0.1, affine=True, track_running_stats=True)\n",
       "  (16): ReLU(inplace)\n",
       "  (17): Conv2d(128, 128, kernel_size=(3, 3), stride=(1, 1), padding=(1, 1), bias=False)\n",
       "  (18): BatchNorm2d(128, eps=1e-05, momentum=0.1, affine=True, track_running_stats=True)\n",
       "  (19): Conv2d(64, 128, kernel_size=(1, 1), stride=(2, 2), bias=False)\n",
       "  (20): BatchNorm2d(128, eps=1e-05, momentum=0.1, affine=True, track_running_stats=True)\n",
       "  (21): Conv2d(128, 128, kernel_size=(3, 3), stride=(1, 1), padding=(1, 1), bias=False)\n",
       "  (22): BatchNorm2d(128, eps=1e-05, momentum=0.1, affine=True, track_running_stats=True)\n",
       "  (23): ReLU(inplace)\n",
       "  (24): Conv2d(128, 128, kernel_size=(3, 3), stride=(1, 1), padding=(1, 1), bias=False)\n",
       "  (25): BatchNorm2d(128, eps=1e-05, momentum=0.1, affine=True, track_running_stats=True)\n",
       "  (26): Conv2d(128, 256, kernel_size=(3, 3), stride=(2, 2), padding=(1, 1), bias=False)\n",
       "  (27): BatchNorm2d(256, eps=1e-05, momentum=0.1, affine=True, track_running_stats=True)\n",
       "  (28): ReLU(inplace)\n",
       "  (29): Conv2d(256, 256, kernel_size=(3, 3), stride=(1, 1), padding=(1, 1), bias=False)\n",
       "  (30): BatchNorm2d(256, eps=1e-05, momentum=0.1, affine=True, track_running_stats=True)\n",
       "  (31): Conv2d(128, 256, kernel_size=(1, 1), stride=(2, 2), bias=False)\n",
       "  (32): BatchNorm2d(256, eps=1e-05, momentum=0.1, affine=True, track_running_stats=True)\n",
       "  (33): Conv2d(256, 256, kernel_size=(3, 3), stride=(1, 1), padding=(1, 1), bias=False)\n",
       "  (34): BatchNorm2d(256, eps=1e-05, momentum=0.1, affine=True, track_running_stats=True)\n",
       "  (35): ReLU(inplace)\n",
       "  (36): Conv2d(256, 256, kernel_size=(3, 3), stride=(1, 1), padding=(1, 1), bias=False)\n",
       "  (37): BatchNorm2d(256, eps=1e-05, momentum=0.1, affine=True, track_running_stats=True)\n",
       "  (38): Conv2d(256, 512, kernel_size=(3, 3), stride=(2, 2), padding=(1, 1), bias=False)\n",
       "  (39): BatchNorm2d(512, eps=1e-05, momentum=0.1, affine=True, track_running_stats=True)\n",
       "  (40): ReLU(inplace)\n",
       "  (41): Conv2d(512, 512, kernel_size=(3, 3), stride=(1, 1), padding=(1, 1), bias=False)\n",
       "  (42): BatchNorm2d(512, eps=1e-05, momentum=0.1, affine=True, track_running_stats=True)\n",
       "  (43): Conv2d(256, 512, kernel_size=(1, 1), stride=(2, 2), bias=False)\n",
       "  (44): BatchNorm2d(512, eps=1e-05, momentum=0.1, affine=True, track_running_stats=True)\n",
       "  (45): Conv2d(512, 512, kernel_size=(3, 3), stride=(1, 1), padding=(1, 1), bias=False)\n",
       "  (46): BatchNorm2d(512, eps=1e-05, momentum=0.1, affine=True, track_running_stats=True)\n",
       "  (47): ReLU(inplace)\n",
       "  (48): Conv2d(512, 512, kernel_size=(3, 3), stride=(1, 1), padding=(1, 1), bias=False)\n",
       "  (49): BatchNorm2d(512, eps=1e-05, momentum=0.1, affine=True, track_running_stats=True)\n",
       "  (50): AdaptiveAvgPool2d(output_size=(1, 1))\n",
       "  (51): Linear(in_features=512, out_features=256, bias=True)\n",
       "  (52): ReLU(inplace)\n",
       "  (53): BatchNorm1d(256, eps=1e-05, momentum=0.1, affine=True, track_running_stats=True)\n",
       "  (54): Linear(in_features=256, out_features=128, bias=True)\n",
       "  (55): ReLU(inplace)\n",
       "  (56): BatchNorm1d(128, eps=1e-05, momentum=0.1, affine=True, track_running_stats=True)\n",
       "  (57): Linear(in_features=128, out_features=64, bias=True)\n",
       "  (58): ReLU(inplace)\n",
       "  (59): BatchNorm1d(64, eps=1e-05, momentum=0.1, affine=True, track_running_stats=True)\n",
       "  (60): Linear(in_features=64, out_features=8, bias=True)\n",
       "  (61): ReLU(inplace)\n",
       "  (62): BatchNorm1d(8, eps=1e-05, momentum=0.1, affine=True, track_running_stats=True)\n",
       "  (63): Linear(in_features=8, out_features=2, bias=True)\n",
       ")], add_time=True)"
      ]
     },
     "execution_count": 269,
     "metadata": {},
     "output_type": "execute_result"
    }
   ],
   "source": [
    "learn.load('fail')"
   ]
  },
  {
   "cell_type": "code",
   "execution_count": 346,
   "metadata": {},
   "outputs": [],
   "source": [
    "p = learn.get_preds(DatasetType.Valid)"
   ]
  },
  {
   "cell_type": "code",
   "execution_count": 347,
   "metadata": {},
   "outputs": [],
   "source": [
    "pred = p[0].cpu().numpy()"
   ]
  },
  {
   "cell_type": "code",
   "execution_count": 348,
   "metadata": {},
   "outputs": [],
   "source": [
    "preds = pred.argmax(axis=1)"
   ]
  },
  {
   "cell_type": "code",
   "execution_count": 349,
   "metadata": {},
   "outputs": [],
   "source": [
    "act = p[1].cpu().numpy()"
   ]
  },
  {
   "cell_type": "code",
   "execution_count": 350,
   "metadata": {},
   "outputs": [],
   "source": [
    "tp = pred[(preds == 1) & (preds == act)]\n",
    "tn = pred[(preds == 0) & (preds == act)]\n",
    "fp = pred[(preds == 1) & (preds != act)]\n",
    "fn = pred[(preds == 0) & (preds != act)]"
   ]
  },
  {
   "cell_type": "code",
   "execution_count": 351,
   "metadata": {},
   "outputs": [
    {
     "data": {
      "text/plain": [
       "(0, 35903, 0, 4097)"
      ]
     },
     "execution_count": 351,
     "metadata": {},
     "output_type": "execute_result"
    }
   ],
   "source": [
    "len(tp),len(tn),len(fp),len(fn)"
   ]
  },
  {
   "cell_type": "code",
   "execution_count": 215,
   "metadata": {},
   "outputs": [
    {
     "data": {
      "text/plain": [
       "(2696, 124846, 34958, 1323)"
      ]
     },
     "execution_count": 215,
     "metadata": {},
     "output_type": "execute_result"
    }
   ],
   "source": [
    "len(tp),len(tn),len(fp),len(fn)"
   ]
  },
  {
   "cell_type": "code",
   "execution_count": 257,
   "metadata": {},
   "outputs": [
    {
     "data": {
      "text/plain": [
       "(0, 35903, 0, 4097)"
      ]
     },
     "execution_count": 257,
     "metadata": {},
     "output_type": "execute_result"
    }
   ],
   "source": [
    "len(tp),len(tn),len(fp),len(fn)"
   ]
  },
  {
   "cell_type": "code",
   "execution_count": 236,
   "metadata": {},
   "outputs": [
    {
     "data": {
      "text/plain": [
       "(2676, 120656, 39148, 1343)"
      ]
     },
     "execution_count": 236,
     "metadata": {},
     "output_type": "execute_result"
    }
   ],
   "source": [
    "len(tp),len(tn),len(fp),len(fn)"
   ]
  },
  {
   "cell_type": "code",
   "execution_count": 108,
   "metadata": {},
   "outputs": [],
   "source": [
    "a = learn.data.train_ds[0]"
   ]
  },
  {
   "cell_type": "code",
   "execution_count": 109,
   "metadata": {},
   "outputs": [],
   "source": [
    "a = a[0].data[1]"
   ]
  },
  {
   "cell_type": "code",
   "execution_count": 110,
   "metadata": {},
   "outputs": [
    {
     "data": {
      "text/plain": [
       "torch.Size([200])"
      ]
     },
     "execution_count": 110,
     "metadata": {},
     "output_type": "execute_result"
    }
   ],
   "source": [
    "a.shape"
   ]
  },
  {
   "cell_type": "code",
   "execution_count": 127,
   "metadata": {},
   "outputs": [],
   "source": []
  },
  {
   "cell_type": "code",
   "execution_count": null,
   "metadata": {},
   "outputs": [],
   "source": []
  }
 ],
 "metadata": {
  "kernelspec": {
   "display_name": "Python 3",
   "language": "python",
   "name": "python3"
  },
  "language_info": {
   "codemirror_mode": {
    "name": "ipython",
    "version": 3
   },
   "file_extension": ".py",
   "mimetype": "text/x-python",
   "name": "python",
   "nbconvert_exporter": "python",
   "pygments_lexer": "ipython3",
   "version": "3.7.2"
  }
 },
 "nbformat": 4,
 "nbformat_minor": 1
}

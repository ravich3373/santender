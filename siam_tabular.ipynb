{
 "cells": [
  {
   "cell_type": "code",
   "execution_count": 2,
   "metadata": {},
   "outputs": [],
   "source": [
    "from fastai.tabular import *\n",
    "from fastai.metrics import accuracy\n",
    "from fastai.layers import BCEWithLogitsFlat\n",
    "import pandas as pd\n",
    "import numpy as np"
   ]
  },
  {
   "cell_type": "code",
   "execution_count": 3,
   "metadata": {},
   "outputs": [],
   "source": [
    "from torch.utils.data import Dataset,DataLoader\n",
    "import torch.nn as nn"
   ]
  },
  {
   "cell_type": "code",
   "execution_count": 4,
   "metadata": {},
   "outputs": [],
   "source": [
    "from functional import seq"
   ]
  },
  {
   "cell_type": "code",
   "execution_count": 44,
   "metadata": {},
   "outputs": [],
   "source": [
    "trn_df = pd.read_csv('train.csv',index_col='ID_code')\n",
    "tst_df = pd.read_csv('test.csv',index_col='ID_code')"
   ]
  },
  {
   "cell_type": "code",
   "execution_count": 45,
   "metadata": {},
   "outputs": [],
   "source": [
    "procs = [ Normalize]"
   ]
  },
  {
   "cell_type": "code",
   "execution_count": 46,
   "metadata": {},
   "outputs": [],
   "source": [
    "# normalize the df"
   ]
  },
  {
   "cell_type": "code",
   "execution_count": 47,
   "metadata": {},
   "outputs": [],
   "source": [
    "data = (TabularList.from_df(trn_df,procs=procs,cont_names=tst_df.columns)\n",
    "        .split_by_rand_pct(0.33,seed=42)\n",
    "       .label_from_df('target')\n",
    "       .add_test(TabularList.from_df(tst_df))\n",
    "       .databunch(num_workers=16))"
   ]
  },
  {
   "cell_type": "code",
   "execution_count": 17,
   "metadata": {},
   "outputs": [
    {
     "data": {
      "text/plain": [
       "[[tensor([0, 0, 0, 0, 0, 0, 0, 0, 0, 0, 0, 0, 0, 0, 0, 0, 0, 0, 0, 0, 0, 0, 0, 0,\n",
       "          0, 0, 0, 0, 0, 0, 0, 0, 0, 0, 0, 0, 0, 0, 0, 0, 0, 0, 0, 0, 0, 0, 0, 0,\n",
       "          0, 0, 0, 0, 0, 0, 0, 0, 0, 0, 0, 0, 0, 0, 0, 0], device='cuda:0'),\n",
       "  tensor([[ 1.0905, -1.2145,  0.5031,  ...,  1.4210,  0.2814,  1.4847],\n",
       "          [-1.1265,  2.2213, -1.0862,  ..., -0.7668, -0.0143, -1.8482],\n",
       "          [-0.3081,  2.4184,  1.2020,  ...,  1.5495,  1.5901, -0.9573],\n",
       "          ...,\n",
       "          [-0.9289, -0.6391,  0.4847,  ..., -0.3312, -0.1955,  0.1987],\n",
       "          [ 1.7289,  1.8599, -1.5204,  ...,  0.3367,  0.2248, -0.3167],\n",
       "          [-0.6244,  2.3960,  1.0766,  ...,  0.2556, -1.0343,  1.5694]],\n",
       "         device='cuda:0')],\n",
       " tensor([1, 0, 0, 0, 0, 0, 0, 0, 0, 0, 0, 0, 0, 0, 0, 0, 0, 0, 0, 0, 0, 0, 0, 0,\n",
       "         0, 0, 0, 0, 0, 1, 0, 0, 0, 0, 0, 0, 0, 0, 0, 0, 0, 0, 0, 1, 0, 1, 0, 0,\n",
       "         0, 0, 0, 0, 0, 0, 0, 0, 0, 1, 0, 0, 0, 0, 0, 0], device='cuda:0')]"
      ]
     },
     "execution_count": 17,
     "metadata": {},
     "output_type": "execute_result"
    }
   ],
   "source": [
    "#k = next(iter(data.train_dl));\n",
    "#k"
   ]
  },
  {
   "cell_type": "code",
   "execution_count": 13,
   "metadata": {},
   "outputs": [],
   "source": [
    "#valid_ids_ = range(len(trn_df)-50000,len(trn_df))\n",
    "#data_ = TabularDataBunch.from_df('.',trn_df,dep_var='target',valid_idx=valid_ids_,test_df=tst_df,bs=128)"
   ]
  },
  {
   "cell_type": "code",
   "execution_count": 14,
   "metadata": {},
   "outputs": [
    {
     "data": {
      "text/plain": [
       "[[tensor([0, 0, 0, 0, 0, 0, 0, 0, 0, 0, 0, 0, 0, 0, 0, 0, 0, 0, 0, 0, 0, 0, 0, 0,\n",
       "          0, 0, 0, 0, 0, 0, 0, 0, 0, 0, 0, 0, 0, 0, 0, 0, 0, 0, 0, 0, 0, 0, 0, 0,\n",
       "          0, 0, 0, 0, 0, 0, 0, 0, 0, 0, 0, 0, 0, 0, 0, 0, 0, 0, 0, 0, 0, 0, 0, 0,\n",
       "          0, 0, 0, 0, 0, 0, 0, 0, 0, 0, 0, 0, 0, 0, 0, 0, 0, 0, 0, 0, 0, 0, 0, 0,\n",
       "          0, 0, 0, 0, 0, 0, 0, 0, 0, 0, 0, 0, 0, 0, 0, 0, 0, 0, 0, 0, 0, 0, 0, 0,\n",
       "          0, 0, 0, 0, 0, 0, 0, 0], device='cuda:0'),\n",
       "  tensor([[15.0299,  6.2215, -0.7106,  ..., -1.4093, 23.9147, 12.3522],\n",
       "          [13.8551,  6.1606, -0.6090,  ...,  2.3456, 24.7512,  4.2253],\n",
       "          [15.6720,  7.1837,  0.4743,  ...,  2.9052, 23.8187, 20.5838],\n",
       "          ...,\n",
       "          [17.2064,  6.6850, -0.8227,  ...,  6.0430, 11.2768, 27.4814],\n",
       "          [16.3001,  6.8561, -0.2898,  ..., -7.8753, 21.4042, 25.5600],\n",
       "          [22.5148,  6.2329, -0.0651,  ...,  5.7684, 11.8820, 19.8031]],\n",
       "         device='cuda:0')],\n",
       " tensor([0, 0, 1, 1, 0, 0, 0, 0, 0, 0, 0, 0, 0, 0, 0, 0, 0, 0, 0, 0, 0, 0, 0, 0,\n",
       "         1, 0, 0, 0, 0, 0, 0, 0, 0, 0, 0, 0, 0, 0, 0, 1, 0, 0, 0, 0, 0, 0, 0, 0,\n",
       "         0, 1, 0, 0, 0, 0, 0, 0, 0, 0, 0, 0, 0, 0, 0, 1, 0, 1, 1, 1, 0, 0, 1, 0,\n",
       "         0, 0, 1, 0, 0, 0, 0, 0, 0, 0, 0, 0, 0, 0, 0, 1, 0, 0, 0, 1, 1, 0, 1, 0,\n",
       "         0, 0, 0, 1, 1, 0, 0, 0, 0, 0, 0, 0, 0, 0, 1, 0, 0, 1, 0, 0, 0, 0, 0, 0,\n",
       "         0, 0, 1, 0, 0, 0, 0, 0], device='cuda:0')]"
      ]
     },
     "execution_count": 14,
     "metadata": {},
     "output_type": "execute_result"
    }
   ],
   "source": [
    "#j = next(iter(data_.train_dl));\n",
    "#j"
   ]
  },
  {
   "cell_type": "code",
   "execution_count": 12,
   "metadata": {},
   "outputs": [
    {
     "data": {
      "text/plain": [
       "(array([0, 1]), array([120656,  13344]))"
      ]
     },
     "execution_count": 12,
     "metadata": {},
     "output_type": "execute_result"
    }
   ],
   "source": [
    "np.unique(data.train_ds.y.items,return_counts=True)"
   ]
  },
  {
   "cell_type": "code",
   "execution_count": 80,
   "metadata": {},
   "outputs": [],
   "source": [
    "def is_even(num): return num % 2 == 0\n",
    "\n",
    "class SiamDataset(Dataset):\n",
    "    def __init__(self, ds):\n",
    "        self.ds = ds\n",
    "        self.targets = ds.y.items\n",
    "        self.candidates_1 = list(np.where(self.targets == 1)[0])\n",
    "        self.candidates_0 = list(np.where(self.targets == 0)[0])\n",
    "        self.candidates = [self.candidates_0,self.candidates_1]\n",
    "    def __len__(self):\n",
    "        return 2 * len(self.ds)\n",
    "    def __getitem__(self, idx):\n",
    "        if is_even(idx):\n",
    "            return self.sample_same(idx // 2)\n",
    "        else: return self.sample_different((idx-1) // 2)\n",
    "    def sample_same(self, idx):\n",
    "        target_val = self.targets[idx]        \n",
    "        #candidates = list(np.where(self.targets == target_val)[0])\n",
    "        #candidates.remove(idx) # dropping our current whale - we don't want to compare against an identical image!\n",
    "        \n",
    "        #if len(candidates) == 0: # oops, there is only a single whale with this id in the dataset\n",
    "            #return self.sample_different(idx)\n",
    "        \n",
    "        #np.random.shuffle(candidates)\n",
    "        self.pick = np.random.randint(0,len(self.candidates[ target_val ]))\n",
    "        return self.construct_example(self.ds[idx][0], self.ds[self.candidates[target_val][self.pick]][0], 1)\n",
    "    def sample_different(self, idx):\n",
    "        target_val = self.targets[idx]\n",
    "        #candidates = list(np.where(self.targets != target_val)[0])\n",
    "        #np.random.shuffle(candidates)\n",
    "        self.pick = np.random.randint(0,len(self.candidates[ (target_val+1)%2 ]))\n",
    "        return self.construct_example(self.ds[idx][0], self.ds[self.candidates[(target_val+1)%2][self.pick]][0], 0)\n",
    "    \n",
    "    def construct_example(self, A, B, class_idx):\n",
    "        return [A, B], class_idx"
   ]
  },
  {
   "cell_type": "code",
   "execution_count": 69,
   "metadata": {},
   "outputs": [
    {
     "data": {
      "text/plain": [
       "1"
      ]
     },
     "execution_count": 69,
     "metadata": {},
     "output_type": "execute_result"
    }
   ],
   "source": [
    "1%2"
   ]
  },
  {
   "cell_type": "code",
   "execution_count": 41,
   "metadata": {},
   "outputs": [
    {
     "data": {
      "text/plain": [
       "4"
      ]
     },
     "execution_count": 41,
     "metadata": {},
     "output_type": "execute_result"
    }
   ],
   "source": [
    "np.random.randint(0,10)"
   ]
  },
  {
   "cell_type": "code",
   "execution_count": 9,
   "metadata": {},
   "outputs": [
    {
     "data": {
      "text/plain": [
       "(array([     8,     21,     45,     47, ..., 133976, 133986, 133989, 133992]),)"
      ]
     },
     "execution_count": 9,
     "metadata": {},
     "output_type": "execute_result"
    }
   ],
   "source": [
    "np.where(data.train_ds.y.items == 1)"
   ]
  },
  {
   "cell_type": "code",
   "execution_count": 81,
   "metadata": {},
   "outputs": [],
   "source": [
    "bs = 256\n",
    "num_workers = 16"
   ]
  },
  {
   "cell_type": "code",
   "execution_count": 82,
   "metadata": {},
   "outputs": [],
   "source": [
    "trn_dl = DataLoader(SiamDataset(data.train_ds),\n",
    "                   batch_size=bs\n",
    "                    ,num_workers=num_workers)\n",
    "val_dl = DataLoader(SiamDataset(data.valid_ds),\n",
    "                   batch_size=bs\n",
    "                    ,num_workers=num_workers)"
   ]
  },
  {
   "cell_type": "code",
   "execution_count": 83,
   "metadata": {},
   "outputs": [],
   "source": [
    "s = SiamDataset(data.train_ds)"
   ]
  },
  {
   "cell_type": "code",
   "execution_count": 84,
   "metadata": {
    "scrolled": true
   },
   "outputs": [
    {
     "data": {
      "text/plain": [
       "([TabularLine var_0 -0.8693; var_1 0.8661; var_2 -0.2253; var_3 -1.5639; var_4 0.6154; var_5 -0.7486; var_6 -1.8228; var_7 -0.6223; var_8 -0.9859; var_9 0.3775; var_10 0.1710; var_11 -0.5365; var_12 0.9363; var_13 1.0369; var_14 -0.6000; var_15 1.0593; var_16 -0.6739; var_17 -0.2802; var_18 0.4533; var_19 1.2607; var_20 -0.3293; var_21 -0.3969; var_22 -1.6681; var_23 0.0650; var_24 -0.7148; var_25 0.8210; var_26 0.8769; var_27 0.6192; var_28 -1.1695; var_29 2.4550; var_30 0.7859; var_31 -1.0032; var_32 -0.9985; var_33 -0.1363; var_34 -0.5875; var_35 -0.8005; var_36 0.1603; var_37 0.3143; var_38 0.2617; var_39 -0.0058; var_40 1.0563; var_41 0.0943; var_42 -1.5013; var_43 -2.5895; var_44 -1.0111; var_45 0.2178; var_46 1.2080; var_47 0.6370; var_48 -1.2786; var_49 -1.4410; var_50 -0.8669; var_51 -0.4558; var_52 0.6003; var_53 -1.5434; var_54 1.3314; var_55 -1.4027; var_56 -1.6567; var_57 -1.3180; var_58 -1.6830; var_59 0.6518; var_60 -0.0590; var_61 -0.0952; var_62 -0.4788; var_63 0.1259; var_64 -0.5665; var_65 -1.6772; var_66 -1.3317; var_67 2.3600; var_68 -0.6808; var_69 -1.6353; var_70 0.8798; var_71 0.1670; var_72 -0.4526; var_73 -0.0420; var_74 0.9485; var_75 -0.1596; var_76 0.1216; var_77 -1.6698; var_78 -1.5009; var_79 -1.6532; var_80 0.4320; var_81 -0.8417; var_82 -0.1261; var_83 -1.4798; var_84 0.7144; var_85 -0.7153; var_86 1.7001; var_87 0.4433; var_88 1.2484; var_89 -0.7309; var_90 -1.0428; var_91 0.8360; var_92 0.0659; var_93 0.4122; var_94 0.8590; var_95 -2.6115; var_96 1.3179; var_97 0.7356; var_98 -0.6296; var_99 0.2065; var_100 -0.0654; var_101 0.6230; var_102 -0.0015; var_103 -0.4305; var_104 1.3384; var_105 0.5254; var_106 -0.4460; var_107 -1.5286; var_108 1.0705; var_109 -0.0593; var_110 -0.8412; var_111 -0.8798; var_112 -0.6109; var_113 -0.5017; var_114 0.5918; var_115 -0.0881; var_116 -0.2488; var_117 0.2771; var_118 -1.0592; var_119 1.0578; var_120 0.7554; var_121 -0.8806; var_122 0.2183; var_123 0.9492; var_124 0.0026; var_125 0.1979; var_126 0.2425; var_127 -0.8145; var_128 -0.9607; var_129 -0.7002; var_130 -1.4281; var_131 -1.0354; var_132 -0.8051; var_133 1.3014; var_134 0.5308; var_135 -0.4415; var_136 -0.9160; var_137 -0.1022; var_138 -0.2897; var_139 -0.3780; var_140 -1.6791; var_141 -0.4932; var_142 1.6566; var_143 -1.0135; var_144 -0.8046; var_145 -1.5659; var_146 0.9983; var_147 1.4049; var_148 -0.1482; var_149 -0.8765; var_150 -1.3510; var_151 -1.4480; var_152 -0.1517; var_153 1.1883; var_154 1.0424; var_155 -0.0822; var_156 -0.5415; var_157 0.7089; var_158 0.0598; var_159 -0.6419; var_160 -0.0607; var_161 -0.6222; var_162 1.1037; var_163 0.1100; var_164 -1.4894; var_165 0.9084; var_166 -1.0386; var_167 -0.5843; var_168 0.4223; var_169 -0.5510; var_170 0.2880; var_171 0.8898; var_172 0.2627; var_173 -1.8118; var_174 1.8786; var_175 0.8464; var_176 -0.9777; var_177 0.5066; var_178 1.3277; var_179 -0.3241; var_180 0.3151; var_181 0.2616; var_182 -0.5517; var_183 0.3562; var_184 -0.0454; var_185 0.2440; var_186 -0.8493; var_187 1.0138; var_188 -1.2617; var_189 1.1586; var_190 -1.6919; var_191 -1.0756; var_192 0.4348; var_193 -0.9643; var_194 -0.9348; var_195 -1.1045; var_196 -0.7252; var_197 1.7086; var_198 -0.4601; var_199 0.5357; ,\n",
       "  TabularLine var_0 2.5498; var_1 1.0837; var_2 -0.9604; var_3 -1.2118; var_4 0.7812; var_5 -0.7555; var_6 -1.1744; var_7 1.2627; var_8 1.3973; var_9 -1.0633; var_10 -0.1095; var_11 0.3109; var_12 0.4146; var_13 1.5385; var_14 0.1961; var_15 -0.8287; var_16 -1.5722; var_17 0.1253; var_18 0.5292; var_19 -0.6738; var_20 0.0165; var_21 -1.8309; var_22 0.2996; var_23 1.3220; var_24 -0.4418; var_25 -1.5325; var_26 -0.0488; var_27 -1.4875; var_28 -0.3695; var_29 -0.3384; var_30 0.2833; var_31 2.7570; var_32 0.3264; var_33 -0.7768; var_34 -2.0518; var_35 -0.3931; var_36 0.5854; var_37 -0.3094; var_38 1.2974; var_39 0.2772; var_40 -0.2653; var_41 0.9113; var_42 1.1154; var_43 0.4095; var_44 0.8414; var_45 0.1655; var_46 -0.9354; var_47 1.3295; var_48 -1.1773; var_49 -2.1620; var_50 2.4540; var_51 0.0994; var_52 1.6156; var_53 0.8834; var_54 0.7371; var_55 1.5801; var_56 -1.0774; var_57 0.5622; var_58 -2.3987; var_59 -0.6722; var_60 1.7416; var_61 -2.0896; var_62 -1.5267; var_63 1.0849; var_64 1.3383; var_65 0.9217; var_66 -1.2490; var_67 -1.5351; var_68 -0.2216; var_69 1.6453; var_70 1.2374; var_71 -0.9539; var_72 2.1169; var_73 -0.2367; var_74 1.3553; var_75 -0.1660; var_76 -0.5778; var_77 1.4038; var_78 -2.4552; var_79 -0.8586; var_80 -0.1724; var_81 0.2825; var_82 1.3984; var_83 -0.2565; var_84 -1.2957; var_85 1.4273; var_86 -0.5663; var_87 1.7415; var_88 -1.0065; var_89 0.5389; var_90 -0.6977; var_91 0.9611; var_92 0.4143; var_93 0.3988; var_94 -1.1170; var_95 -0.4803; var_96 0.1820; var_97 0.4617; var_98 0.0937; var_99 0.8345; var_100 1.8582; var_101 -0.3207; var_102 -1.0133; var_103 1.2849; var_104 -0.0252; var_105 -0.9086; var_106 0.5760; var_107 0.5151; var_108 -1.7436; var_109 1.7385; var_110 -1.5451; var_111 -0.7339; var_112 1.7951; var_113 0.4836; var_114 -1.6551; var_115 -1.1457; var_116 -0.4761; var_117 -0.0320; var_118 0.1310; var_119 -0.4383; var_120 1.5312; var_121 0.6459; var_122 -0.5449; var_123 0.1221; var_124 -0.8698; var_125 -0.7787; var_126 -0.1986; var_127 -1.0420; var_128 -0.3680; var_129 1.0347; var_130 -1.0621; var_131 1.0511; var_132 0.4761; var_133 0.2299; var_134 0.5164; var_135 -0.9199; var_136 0.6593; var_137 -1.1294; var_138 0.9698; var_139 -1.6776; var_140 0.6191; var_141 -0.6564; var_142 1.0910; var_143 0.0740; var_144 -0.1138; var_145 0.0125; var_146 -1.1954; var_147 0.2450; var_148 -0.5351; var_149 1.0319; var_150 -0.1847; var_151 0.3488; var_152 0.7551; var_153 -1.1913; var_154 -0.3067; var_155 0.3284; var_156 0.3501; var_157 -0.3946; var_158 -2.1036; var_159 1.3234; var_160 1.6782; var_161 -0.1633; var_162 -0.8615; var_163 -0.1485; var_164 0.1735; var_165 0.1920; var_166 1.4169; var_167 -1.1530; var_168 -0.2105; var_169 -1.6004; var_170 -0.1465; var_171 -0.2696; var_172 0.8833; var_173 -1.5807; var_174 -1.6362; var_175 -1.3312; var_176 0.7197; var_177 1.9678; var_178 -1.3474; var_179 1.8140; var_180 -0.0740; var_181 1.3483; var_182 -0.8812; var_183 0.3249; var_184 0.3667; var_185 -0.3939; var_186 0.0227; var_187 -0.6939; var_188 0.4544; var_189 -1.4185; var_190 -0.9898; var_191 1.2795; var_192 1.9061; var_193 1.1421; var_194 -1.3319; var_195 -0.9018; var_196 -1.4205; var_197 -0.6579; var_198 -0.6503; var_199 -0.1080; ],\n",
       " 1)"
      ]
     },
     "execution_count": 84,
     "metadata": {},
     "output_type": "execute_result"
    }
   ],
   "source": [
    "s[206]"
   ]
  },
  {
   "cell_type": "code",
   "execution_count": 85,
   "metadata": {},
   "outputs": [],
   "source": [
    "dbunch = TabularDataBunch(trn_dl,val_dl)"
   ]
  },
  {
   "cell_type": "code",
   "execution_count": 86,
   "metadata": {},
   "outputs": [],
   "source": [
    "class linrelbn(nn.Module):\n",
    "    def __init__(self,x,y):\n",
    "        super().__init__()\n",
    "        self.lin = nn.Linear(x,y)\n",
    "        self.rel = nn.ReLU(inplace=True)\n",
    "        self.bn = nn.BatchNorm1d(y)\n",
    "        #self.net = nn.Sequential(self.lin,self.rel,self.)\n",
    "    def forward(self,A):\n",
    "        return  self.bn(self.rel(self.lin(A)))"
   ]
  },
  {
   "cell_type": "code",
   "execution_count": 14,
   "metadata": {},
   "outputs": [
    {
     "data": {
      "text/plain": [
       "[0, 1, 2]"
      ]
     },
     "execution_count": 14,
     "metadata": {},
     "output_type": "execute_result"
    }
   ],
   "source": [
    "list(range(0,3))"
   ]
  },
  {
   "cell_type": "code",
   "execution_count": 87,
   "metadata": {},
   "outputs": [],
   "source": [
    "class SiamModel(nn.Module):\n",
    "    def __init__(self,lyrwds):\n",
    "        super().__init__()\n",
    "        self.net_ = nn.Sequential(*[linrelbn(lyrwds[i],lyrwds[i+1]) for i in range(0,len(lyrwds)-1)])\n",
    "        self.head = nn.Linear(2,1)\n",
    "        \n",
    "    def forward(self,A,B):\n",
    "        x1,x2 = seq(A[1],B[1]).map(self.net_)\n",
    "        return self.head(x1-x2)\n",
    "        "
   ]
  },
  {
   "cell_type": "code",
   "execution_count": 88,
   "metadata": {},
   "outputs": [
    {
     "data": {
      "text/plain": [
       "SiamModel(\n",
       "  (net_): Sequential(\n",
       "    (0): linrelbn(\n",
       "      (lin): Linear(in_features=200, out_features=350, bias=True)\n",
       "      (rel): ReLU(inplace)\n",
       "      (bn): BatchNorm1d(350, eps=1e-05, momentum=0.1, affine=True, track_running_stats=True)\n",
       "    )\n",
       "    (1): linrelbn(\n",
       "      (lin): Linear(in_features=350, out_features=200, bias=True)\n",
       "      (rel): ReLU(inplace)\n",
       "      (bn): BatchNorm1d(200, eps=1e-05, momentum=0.1, affine=True, track_running_stats=True)\n",
       "    )\n",
       "    (2): linrelbn(\n",
       "      (lin): Linear(in_features=200, out_features=64, bias=True)\n",
       "      (rel): ReLU(inplace)\n",
       "      (bn): BatchNorm1d(64, eps=1e-05, momentum=0.1, affine=True, track_running_stats=True)\n",
       "    )\n",
       "    (3): linrelbn(\n",
       "      (lin): Linear(in_features=64, out_features=8, bias=True)\n",
       "      (rel): ReLU(inplace)\n",
       "      (bn): BatchNorm1d(8, eps=1e-05, momentum=0.1, affine=True, track_running_stats=True)\n",
       "    )\n",
       "    (4): linrelbn(\n",
       "      (lin): Linear(in_features=8, out_features=2, bias=True)\n",
       "      (rel): ReLU(inplace)\n",
       "      (bn): BatchNorm1d(2, eps=1e-05, momentum=0.1, affine=True, track_running_stats=True)\n",
       "    )\n",
       "  )\n",
       "  (head): Linear(in_features=2, out_features=1, bias=True)\n",
       ")"
      ]
     },
     "execution_count": 88,
     "metadata": {},
     "output_type": "execute_result"
    }
   ],
   "source": [
    "model = SiamModel([200,350,200,64,8,2]);\n",
    "model"
   ]
  },
  {
   "cell_type": "code",
   "execution_count": 91,
   "metadata": {},
   "outputs": [],
   "source": [
    "learn = Learner(dbunch,model,loss_func=BCEWithLogitsFlat(),metrics=[lambda preds, targs: accuracy_thresh(preds.squeeze(), targs, sigmoid=False)])"
   ]
  },
  {
   "cell_type": "code",
   "execution_count": 82,
   "metadata": {},
   "outputs": [
    {
     "data": {
      "text/plain": [
       "[[[tensor([0, 0, 0, 0, 0, 0, 0, 0, 0, 0, 0, 0, 0, 0, 0, 0, 0, 0, 0, 0, 0, 0, 0, 0,\n",
       "           0, 0, 0, 0, 0, 0, 0, 0, 0, 0, 0, 0, 0, 0, 0, 0, 0, 0, 0, 0, 0, 0, 0, 0,\n",
       "           0, 0, 0, 0, 0, 0, 0, 0, 0, 0, 0, 0, 0, 0, 0, 0], device='cuda:0'),\n",
       "   tensor([0, 0, 0, 0, 0, 0, 0, 0, 0, 0, 0, 0, 0, 0, 0, 0, 0, 0, 0, 0, 0, 0, 0, 0,\n",
       "           0, 0, 0, 0, 0, 0, 0, 0, 0, 0, 0, 0, 0, 0, 0, 0, 0, 0, 0, 0, 0, 0, 0, 0,\n",
       "           0, 0, 0, 0, 0, 0, 0, 0, 0, 0, 0, 0, 0, 0, 0, 0], device='cuda:0')],\n",
       "  [tensor([0, 0, 0, 0, 0, 0, 0, 0, 0, 0, 0, 0, 0, 0, 0, 0, 0, 0, 0, 0, 0, 0, 0, 0,\n",
       "           0, 0, 0, 0, 0, 0, 0, 0, 0, 0, 0, 0, 0, 0, 0, 0, 0, 0, 0, 0, 0, 0, 0, 0,\n",
       "           0, 0, 0, 0, 0, 0, 0, 0, 0, 0, 0, 0, 0, 0, 0, 0], device='cuda:0'),\n",
       "   tensor([0, 0, 0, 0, 0, 0, 0, 0, 0, 0, 0, 0, 0, 0, 0, 0, 0, 0, 0, 0, 0, 0, 0, 0,\n",
       "           0, 0, 0, 0, 0, 0, 0, 0, 0, 0, 0, 0, 0, 0, 0, 0, 0, 0, 0, 0, 0, 0, 0, 0,\n",
       "           0, 0, 0, 0, 0, 0, 0, 0, 0, 0, 0, 0, 0, 0, 0, 0], device='cuda:0')]],\n",
       " tensor([1, 0, 1, 0, 1, 0, 1, 0, 1, 0, 1, 0, 1, 0, 1, 0, 1, 0, 1, 0, 1, 0, 1, 0,\n",
       "         1, 0, 1, 0, 1, 0, 1, 0, 1, 0, 1, 0, 1, 0, 1, 0, 1, 0, 1, 0, 1, 0, 1, 0,\n",
       "         1, 0, 1, 0, 1, 0, 1, 0, 1, 0, 1, 0, 1, 0, 1, 0], device='cuda:0')]"
      ]
     },
     "execution_count": 82,
     "metadata": {},
     "output_type": "execute_result"
    }
   ],
   "source": [
    "#a = next(iter(learn.data.train_dl));\n",
    "#a"
   ]
  },
  {
   "cell_type": "code",
   "execution_count": 56,
   "metadata": {},
   "outputs": [],
   "source": [
    "x,y = a"
   ]
  },
  {
   "cell_type": "code",
   "execution_count": 81,
   "metadata": {},
   "outputs": [
    {
     "data": {
      "text/plain": [
       "64"
      ]
     },
     "execution_count": 81,
     "metadata": {},
     "output_type": "execute_result"
    }
   ],
   "source": [
    "len(x[0][0])"
   ]
  },
  {
   "cell_type": "code",
   "execution_count": 84,
   "metadata": {},
   "outputs": [
    {
     "data": {
      "text/plain": [
       "[tensor(0), tensor(0)]"
      ]
     },
     "execution_count": 84,
     "metadata": {},
     "output_type": "execute_result"
    }
   ],
   "source": [
    "learn.data.train_ds[0][0][0].data"
   ]
  },
  {
   "cell_type": "code",
   "execution_count": 28,
   "metadata": {},
   "outputs": [
    {
     "data": {
      "text/html": [],
      "text/plain": [
       "<IPython.core.display.HTML object>"
      ]
     },
     "metadata": {},
     "output_type": "display_data"
    },
    {
     "name": "stdout",
     "output_type": "stream",
     "text": [
      "LR Finder is complete, type {learner_name}.recorder.plot() to see the graph.\n"
     ]
    }
   ],
   "source": [
    "learn.lr_find()"
   ]
  },
  {
   "cell_type": "code",
   "execution_count": 29,
   "metadata": {},
   "outputs": [
    {
     "data": {
      "image/png": "[encoded data removed]",
      "text/plain": [
       "<Figure size 432x288 with 1 Axes>"
      ]
     },
     "metadata": {
      "needs_background": "light"
     },
     "output_type": "display_data"
    }
   ],
   "source": [
    "learn.recorder.plot()"
   ]
  },
  {
   "cell_type": "code",
   "execution_count": 92,
   "metadata": {},
   "outputs": [
    {
     "data": {
      "text/html": [
       "Total time: 04:33 <p><table border=\"1\" class=\"dataframe\">\n",
       "  <thead>\n",
       "    <tr style=\"text-align: left;\">\n",
       "      <th>epoch</th>\n",
       "      <th>train_loss</th>\n",
       "      <th>valid_loss</th>\n",
       "      <th><lambda></th>\n",
       "      <th>time</th>\n",
       "    </tr>\n",
       "  </thead>\n",
       "  <tbody>\n",
       "    <tr>\n",
       "      <td>0</td>\n",
       "      <td>0.607154</td>\n",
       "      <td>3.077572</td>\n",
       "      <td>0.572409</td>\n",
       "      <td>00:13</td>\n",
       "    </tr>\n",
       "    <tr>\n",
       "      <td>1</td>\n",
       "      <td>0.591552</td>\n",
       "      <td>0.762951</td>\n",
       "      <td>0.575364</td>\n",
       "      <td>00:13</td>\n",
       "    </tr>\n",
       "    <tr>\n",
       "      <td>2</td>\n",
       "      <td>0.570579</td>\n",
       "      <td>0.709787</td>\n",
       "      <td>0.585409</td>\n",
       "      <td>00:13</td>\n",
       "    </tr>\n",
       "    <tr>\n",
       "      <td>3</td>\n",
       "      <td>0.604286</td>\n",
       "      <td>0.680793</td>\n",
       "      <td>0.529364</td>\n",
       "      <td>00:13</td>\n",
       "    </tr>\n",
       "    <tr>\n",
       "      <td>4</td>\n",
       "      <td>0.596273</td>\n",
       "      <td>1.877978</td>\n",
       "      <td>0.524364</td>\n",
       "      <td>00:13</td>\n",
       "    </tr>\n",
       "    <tr>\n",
       "      <td>5</td>\n",
       "      <td>0.601909</td>\n",
       "      <td>0.643336</td>\n",
       "      <td>0.527076</td>\n",
       "      <td>00:13</td>\n",
       "    </tr>\n",
       "    <tr>\n",
       "      <td>6</td>\n",
       "      <td>0.627916</td>\n",
       "      <td>0.646795</td>\n",
       "      <td>0.533091</td>\n",
       "      <td>00:13</td>\n",
       "    </tr>\n",
       "    <tr>\n",
       "      <td>7</td>\n",
       "      <td>0.605671</td>\n",
       "      <td>0.642587</td>\n",
       "      <td>0.555788</td>\n",
       "      <td>00:13</td>\n",
       "    </tr>\n",
       "    <tr>\n",
       "      <td>8</td>\n",
       "      <td>0.598641</td>\n",
       "      <td>0.668724</td>\n",
       "      <td>0.549417</td>\n",
       "      <td>00:13</td>\n",
       "    </tr>\n",
       "    <tr>\n",
       "      <td>9</td>\n",
       "      <td>0.623846</td>\n",
       "      <td>0.661785</td>\n",
       "      <td>0.569136</td>\n",
       "      <td>00:13</td>\n",
       "    </tr>\n",
       "    <tr>\n",
       "      <td>10</td>\n",
       "      <td>0.607232</td>\n",
       "      <td>9.173388</td>\n",
       "      <td>0.572015</td>\n",
       "      <td>00:13</td>\n",
       "    </tr>\n",
       "    <tr>\n",
       "      <td>11</td>\n",
       "      <td>0.598484</td>\n",
       "      <td>9.725723</td>\n",
       "      <td>0.568523</td>\n",
       "      <td>00:13</td>\n",
       "    </tr>\n",
       "    <tr>\n",
       "      <td>12</td>\n",
       "      <td>0.589002</td>\n",
       "      <td>38912612.000000</td>\n",
       "      <td>0.553992</td>\n",
       "      <td>00:13</td>\n",
       "    </tr>\n",
       "    <tr>\n",
       "      <td>13</td>\n",
       "      <td>0.598565</td>\n",
       "      <td>0.705802</td>\n",
       "      <td>0.566939</td>\n",
       "      <td>00:13</td>\n",
       "    </tr>\n",
       "    <tr>\n",
       "      <td>14</td>\n",
       "      <td>0.591082</td>\n",
       "      <td>3.425494</td>\n",
       "      <td>0.577644</td>\n",
       "      <td>00:13</td>\n",
       "    </tr>\n",
       "    <tr>\n",
       "      <td>15</td>\n",
       "      <td>0.580727</td>\n",
       "      <td>7.919011</td>\n",
       "      <td>0.574576</td>\n",
       "      <td>00:14</td>\n",
       "    </tr>\n",
       "    <tr>\n",
       "      <td>16</td>\n",
       "      <td>0.564809</td>\n",
       "      <td>82.088959</td>\n",
       "      <td>0.568432</td>\n",
       "      <td>00:14</td>\n",
       "    </tr>\n",
       "    <tr>\n",
       "      <td>17</td>\n",
       "      <td>0.548709</td>\n",
       "      <td>61.799030</td>\n",
       "      <td>0.552273</td>\n",
       "      <td>00:13</td>\n",
       "    </tr>\n",
       "    <tr>\n",
       "      <td>18</td>\n",
       "      <td>0.532532</td>\n",
       "      <td>2.982902</td>\n",
       "      <td>0.556614</td>\n",
       "      <td>00:14</td>\n",
       "    </tr>\n",
       "    <tr>\n",
       "      <td>19</td>\n",
       "      <td>0.523796</td>\n",
       "      <td>1.468529</td>\n",
       "      <td>0.555598</td>\n",
       "      <td>00:13</td>\n",
       "    </tr>\n",
       "  </tbody>\n",
       "</table>"
      ],
      "text/plain": [
       "<IPython.core.display.HTML object>"
      ]
     },
     "metadata": {},
     "output_type": "display_data"
    }
   ],
   "source": [
    "learn.fit_one_cycle(20,max_lr=.1)"
   ]
  },
  {
   "cell_type": "code",
   "execution_count": null,
   "metadata": {},
   "outputs": [],
   "source": []
  }
 ],
 "metadata": {
  "kernelspec": {
   "display_name": "Python 3",
   "language": "python",
   "name": "python3"
  },
  "language_info": {
   "codemirror_mode": {
    "name": "ipython",
    "version": 3
   },
   "file_extension": ".py",
   "mimetype": "text/x-python",
   "name": "python",
   "nbconvert_exporter": "python",
   "pygments_lexer": "ipython3",
   "version": "3.7.2"
  }
 },
 "nbformat": 4,
 "nbformat_minor": 2
}

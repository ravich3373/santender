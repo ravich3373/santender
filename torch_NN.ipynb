{
 "cells": [
  {
   "cell_type": "code",
   "execution_count": 1,
   "metadata": {},
   "outputs": [],
   "source": [
    "import torch\n",
    "import torch.nn as nn\n",
    "from fastai import metrics"
   ]
  },
  {
   "cell_type": "code",
   "execution_count": 2,
   "metadata": {},
   "outputs": [],
   "source": [
    "from sklearn.metrics import roc_auc_score"
   ]
  },
  {
   "cell_type": "code",
   "execution_count": 3,
   "metadata": {},
   "outputs": [],
   "source": [
    "import pandas as pd"
   ]
  },
  {
   "cell_type": "code",
   "execution_count": 4,
   "metadata": {},
   "outputs": [],
   "source": [
    "trn_df = pd.read_csv('train.csv',index_col='ID_code')"
   ]
  },
  {
   "cell_type": "code",
   "execution_count": 5,
   "metadata": {},
   "outputs": [
    {
     "data": {
      "text/html": [
       "<div>\n",
       "<style scoped>\n",
       "    .dataframe tbody tr th:only-of-type {\n",
       "        vertical-align: middle;\n",
       "    }\n",
       "\n",
       "    .dataframe tbody tr th {\n",
       "        vertical-align: top;\n",
       "    }\n",
       "\n",
       "    .dataframe thead th {\n",
       "        text-align: right;\n",
       "    }\n",
       "</style>\n",
       "<table border=\"1\" class=\"dataframe\">\n",
       "  <thead>\n",
       "    <tr style=\"text-align: right;\">\n",
       "      <th></th>\n",
       "      <th>target</th>\n",
       "      <th>var_0</th>\n",
       "      <th>var_1</th>\n",
       "      <th>var_2</th>\n",
       "      <th>var_3</th>\n",
       "      <th>var_4</th>\n",
       "      <th>var_5</th>\n",
       "      <th>var_6</th>\n",
       "      <th>var_7</th>\n",
       "      <th>var_8</th>\n",
       "      <th>...</th>\n",
       "      <th>var_190</th>\n",
       "      <th>var_191</th>\n",
       "      <th>var_192</th>\n",
       "      <th>var_193</th>\n",
       "      <th>var_194</th>\n",
       "      <th>var_195</th>\n",
       "      <th>var_196</th>\n",
       "      <th>var_197</th>\n",
       "      <th>var_198</th>\n",
       "      <th>var_199</th>\n",
       "    </tr>\n",
       "    <tr>\n",
       "      <th>ID_code</th>\n",
       "      <th></th>\n",
       "      <th></th>\n",
       "      <th></th>\n",
       "      <th></th>\n",
       "      <th></th>\n",
       "      <th></th>\n",
       "      <th></th>\n",
       "      <th></th>\n",
       "      <th></th>\n",
       "      <th></th>\n",
       "      <th></th>\n",
       "      <th></th>\n",
       "      <th></th>\n",
       "      <th></th>\n",
       "      <th></th>\n",
       "      <th></th>\n",
       "      <th></th>\n",
       "      <th></th>\n",
       "      <th></th>\n",
       "      <th></th>\n",
       "      <th></th>\n",
       "    </tr>\n",
       "  </thead>\n",
       "  <tbody>\n",
       "    <tr>\n",
       "      <th>train_0</th>\n",
       "      <td>0</td>\n",
       "      <td>8.9255</td>\n",
       "      <td>-6.7863</td>\n",
       "      <td>11.9081</td>\n",
       "      <td>5.093</td>\n",
       "      <td>11.4607</td>\n",
       "      <td>-9.2834</td>\n",
       "      <td>5.1187</td>\n",
       "      <td>18.6266</td>\n",
       "      <td>-4.9200</td>\n",
       "      <td>...</td>\n",
       "      <td>4.4354</td>\n",
       "      <td>3.9642</td>\n",
       "      <td>3.1364</td>\n",
       "      <td>1.6910</td>\n",
       "      <td>18.5227</td>\n",
       "      <td>-2.3978</td>\n",
       "      <td>7.8784</td>\n",
       "      <td>8.5635</td>\n",
       "      <td>12.7803</td>\n",
       "      <td>-1.0914</td>\n",
       "    </tr>\n",
       "    <tr>\n",
       "      <th>train_1</th>\n",
       "      <td>0</td>\n",
       "      <td>11.5006</td>\n",
       "      <td>-4.1473</td>\n",
       "      <td>13.8588</td>\n",
       "      <td>5.389</td>\n",
       "      <td>12.3622</td>\n",
       "      <td>7.0433</td>\n",
       "      <td>5.6208</td>\n",
       "      <td>16.5338</td>\n",
       "      <td>3.1468</td>\n",
       "      <td>...</td>\n",
       "      <td>7.6421</td>\n",
       "      <td>7.7214</td>\n",
       "      <td>2.5837</td>\n",
       "      <td>10.9516</td>\n",
       "      <td>15.4305</td>\n",
       "      <td>2.0339</td>\n",
       "      <td>8.1267</td>\n",
       "      <td>8.7889</td>\n",
       "      <td>18.3560</td>\n",
       "      <td>1.9518</td>\n",
       "    </tr>\n",
       "  </tbody>\n",
       "</table>\n",
       "<p>2 rows × 201 columns</p>\n",
       "</div>"
      ],
      "text/plain": [
       "         target    var_0   var_1    var_2  var_3    var_4   var_5   var_6  \\\n",
       "ID_code                                                                     \n",
       "train_0       0   8.9255 -6.7863  11.9081  5.093  11.4607 -9.2834  5.1187   \n",
       "train_1       0  11.5006 -4.1473  13.8588  5.389  12.3622  7.0433  5.6208   \n",
       "\n",
       "           var_7   var_8  ...  var_190  var_191  var_192  var_193  var_194  \\\n",
       "ID_code                   ...                                                \n",
       "train_0  18.6266 -4.9200  ...   4.4354   3.9642   3.1364   1.6910  18.5227   \n",
       "train_1  16.5338  3.1468  ...   7.6421   7.7214   2.5837  10.9516  15.4305   \n",
       "\n",
       "         var_195  var_196  var_197  var_198  var_199  \n",
       "ID_code                                               \n",
       "train_0  -2.3978   7.8784   8.5635  12.7803  -1.0914  \n",
       "train_1   2.0339   8.1267   8.7889  18.3560   1.9518  \n",
       "\n",
       "[2 rows x 201 columns]"
      ]
     },
     "execution_count": 5,
     "metadata": {},
     "output_type": "execute_result"
    }
   ],
   "source": [
    "trn_df.head(2)"
   ]
  },
  {
   "cell_type": "code",
   "execution_count": 6,
   "metadata": {},
   "outputs": [],
   "source": [
    "tst_df = pd.read_csv('test.csv',index_col='ID_code')"
   ]
  },
  {
   "cell_type": "code",
   "execution_count": 7,
   "metadata": {},
   "outputs": [
    {
     "data": {
      "text/html": [
       "<div>\n",
       "<style scoped>\n",
       "    .dataframe tbody tr th:only-of-type {\n",
       "        vertical-align: middle;\n",
       "    }\n",
       "\n",
       "    .dataframe tbody tr th {\n",
       "        vertical-align: top;\n",
       "    }\n",
       "\n",
       "    .dataframe thead th {\n",
       "        text-align: right;\n",
       "    }\n",
       "</style>\n",
       "<table border=\"1\" class=\"dataframe\">\n",
       "  <thead>\n",
       "    <tr style=\"text-align: right;\">\n",
       "      <th></th>\n",
       "      <th>var_0</th>\n",
       "      <th>var_1</th>\n",
       "      <th>var_2</th>\n",
       "      <th>var_3</th>\n",
       "      <th>var_4</th>\n",
       "      <th>var_5</th>\n",
       "      <th>var_6</th>\n",
       "      <th>var_7</th>\n",
       "      <th>var_8</th>\n",
       "      <th>var_9</th>\n",
       "      <th>...</th>\n",
       "      <th>var_190</th>\n",
       "      <th>var_191</th>\n",
       "      <th>var_192</th>\n",
       "      <th>var_193</th>\n",
       "      <th>var_194</th>\n",
       "      <th>var_195</th>\n",
       "      <th>var_196</th>\n",
       "      <th>var_197</th>\n",
       "      <th>var_198</th>\n",
       "      <th>var_199</th>\n",
       "    </tr>\n",
       "    <tr>\n",
       "      <th>ID_code</th>\n",
       "      <th></th>\n",
       "      <th></th>\n",
       "      <th></th>\n",
       "      <th></th>\n",
       "      <th></th>\n",
       "      <th></th>\n",
       "      <th></th>\n",
       "      <th></th>\n",
       "      <th></th>\n",
       "      <th></th>\n",
       "      <th></th>\n",
       "      <th></th>\n",
       "      <th></th>\n",
       "      <th></th>\n",
       "      <th></th>\n",
       "      <th></th>\n",
       "      <th></th>\n",
       "      <th></th>\n",
       "      <th></th>\n",
       "      <th></th>\n",
       "      <th></th>\n",
       "    </tr>\n",
       "  </thead>\n",
       "  <tbody>\n",
       "    <tr>\n",
       "      <th>test_0</th>\n",
       "      <td>11.0656</td>\n",
       "      <td>7.7798</td>\n",
       "      <td>12.9536</td>\n",
       "      <td>9.4292</td>\n",
       "      <td>11.4327</td>\n",
       "      <td>-2.3805</td>\n",
       "      <td>5.8493</td>\n",
       "      <td>18.2675</td>\n",
       "      <td>2.1337</td>\n",
       "      <td>8.8100</td>\n",
       "      <td>...</td>\n",
       "      <td>-2.1556</td>\n",
       "      <td>11.8495</td>\n",
       "      <td>-1.4300</td>\n",
       "      <td>2.4508</td>\n",
       "      <td>13.7112</td>\n",
       "      <td>2.4669</td>\n",
       "      <td>4.3654</td>\n",
       "      <td>10.7200</td>\n",
       "      <td>15.4722</td>\n",
       "      <td>-8.7197</td>\n",
       "    </tr>\n",
       "    <tr>\n",
       "      <th>test_1</th>\n",
       "      <td>8.5304</td>\n",
       "      <td>1.2543</td>\n",
       "      <td>11.3047</td>\n",
       "      <td>5.1858</td>\n",
       "      <td>9.1974</td>\n",
       "      <td>-4.0117</td>\n",
       "      <td>6.0196</td>\n",
       "      <td>18.6316</td>\n",
       "      <td>-4.4131</td>\n",
       "      <td>5.9739</td>\n",
       "      <td>...</td>\n",
       "      <td>10.6165</td>\n",
       "      <td>8.8349</td>\n",
       "      <td>0.9403</td>\n",
       "      <td>10.1282</td>\n",
       "      <td>15.5765</td>\n",
       "      <td>0.4773</td>\n",
       "      <td>-1.4852</td>\n",
       "      <td>9.8714</td>\n",
       "      <td>19.1293</td>\n",
       "      <td>-20.9760</td>\n",
       "    </tr>\n",
       "  </tbody>\n",
       "</table>\n",
       "<p>2 rows × 200 columns</p>\n",
       "</div>"
      ],
      "text/plain": [
       "           var_0   var_1    var_2   var_3    var_4   var_5   var_6    var_7  \\\n",
       "ID_code                                                                       \n",
       "test_0   11.0656  7.7798  12.9536  9.4292  11.4327 -2.3805  5.8493  18.2675   \n",
       "test_1    8.5304  1.2543  11.3047  5.1858   9.1974 -4.0117  6.0196  18.6316   \n",
       "\n",
       "          var_8   var_9  ...  var_190  var_191  var_192  var_193  var_194  \\\n",
       "ID_code                  ...                                                \n",
       "test_0   2.1337  8.8100  ...  -2.1556  11.8495  -1.4300   2.4508  13.7112   \n",
       "test_1  -4.4131  5.9739  ...  10.6165   8.8349   0.9403  10.1282  15.5765   \n",
       "\n",
       "         var_195  var_196  var_197  var_198  var_199  \n",
       "ID_code                                               \n",
       "test_0    2.4669   4.3654  10.7200  15.4722  -8.7197  \n",
       "test_1    0.4773  -1.4852   9.8714  19.1293 -20.9760  \n",
       "\n",
       "[2 rows x 200 columns]"
      ]
     },
     "execution_count": 7,
     "metadata": {},
     "output_type": "execute_result"
    }
   ],
   "source": [
    "tst_df.head(2)"
   ]
  },
  {
   "cell_type": "code",
   "execution_count": 8,
   "metadata": {},
   "outputs": [],
   "source": [
    "from fastai.tabular import *"
   ]
  },
  {
   "cell_type": "code",
   "execution_count": 9,
   "metadata": {},
   "outputs": [],
   "source": [
    "from fastai.metrics import Precision,Recall,accuracy"
   ]
  },
  {
   "cell_type": "code",
   "execution_count": 10,
   "metadata": {},
   "outputs": [],
   "source": [
    "trn_ = trn_df[:10000]"
   ]
  },
  {
   "cell_type": "code",
   "execution_count": 11,
   "metadata": {},
   "outputs": [],
   "source": [
    "valid_ids_ = range(len(trn_)-1500,len(trn_))"
   ]
  },
  {
   "cell_type": "code",
   "execution_count": 12,
   "metadata": {},
   "outputs": [],
   "source": [
    "valid_ids = range(len(trn_df)-50000,len(trn_df))"
   ]
  },
  {
   "cell_type": "code",
   "execution_count": 13,
   "metadata": {},
   "outputs": [],
   "source": [
    "data = TabularDataBunch.from_df('.',trn_df,dep_var='target',valid_idx=valid_ids,test_df=tst_df,bs=128)"
   ]
  },
  {
   "cell_type": "code",
   "execution_count": 22,
   "metadata": {},
   "outputs": [],
   "source": [
    "learn = tabular_learner(data,[1200,900,100],metrics=accuracy)"
   ]
  },
  {
   "cell_type": "code",
   "execution_count": 34,
   "metadata": {},
   "outputs": [],
   "source": [
    "#learn.data"
   ]
  },
  {
   "cell_type": "code",
   "execution_count": 21,
   "metadata": {},
   "outputs": [
    {
     "data": {
      "text/plain": [
       "TabularList (150000 items)\n",
       "var_186 11.8411; var_143 11.2663; var_66 5.8056; var_113 -0.4851; var_133 6.5674; var_50 12.9194; var_171 -8.4254; var_16 5.7487; var_117 15.5752; var_75 18.3816; var_160 15.4576; var_118 -13.4221; var_198 12.7803; var_34 11.1920; var_68 5.0109; var_86 9.3225; var_99 -3.4132; var_169 5.4879; var_58 2.0183; var_95 0.1812; var_137 31.4045; var_35 10.5785; var_164 6.6760; var_136 29.4547; var_59 10.1166; var_100 9.4763; var_119 7.2739; var_5 -9.2834; var_33 16.8911; var_102 26.5376; var_175 7.7423; var_105 6.0454; var_195 -2.3978; var_71 0.5663; var_14 8.7989; var_49 5.3253; var_26 -5.1488; var_3 5.0930; var_22 2.5791; var_141 -5.6011; var_23 2.4716; var_149 17.9244; var_155 1.6573; var_156 12.1749; var_181 9.0164; var_193 1.6910; var_41 7.3746; var_69 -4.7010; var_24 14.3831; var_199 -1.0914; var_167 -0.6975; var_126 13.8571; var_83 2.9423; var_142 19.0614; var_55 14.8322; var_151 10.7800; var_139 15.6599; var_20 10.5350; var_57 5.3822; var_154 10.4838; var_39 3.8743; var_127 -0.7338; var_134 5.1726; var_116 2.5516; var_135 3.1345; var_89 -1.7069; var_91 6.7806; var_182 3.0657; var_13 0.5745; var_56 11.2668; var_1 -6.7863; var_162 3.6159; var_63 -0.2154; var_190 4.4354; var_179 1.7202; var_80 13.6468; var_138 2.8279; var_25 13.4325; var_180 -8.4051; var_120 16.0094; var_94 14.8421; var_9 5.7470; var_112 3.9141; var_96 8.9642; var_128 -1.9245; var_8 -4.9200; var_81 13.8372; var_110 2.0323; var_194 18.5227; var_145 8.3694; var_85 21.4669; var_111 6.7602; var_53 5.1736; var_67 22.4321; var_73 8.8600; var_172 20.8773; var_114 2.5240; var_90 -21.4494; var_130 12.8287; var_153 16.6964; var_15 14.5691; var_158 17.6054; var_18 4.2840; var_65 9.5319; var_98 2.1743; var_122 0.8897; var_2 11.9081; var_46 5.9226; var_84 -4.5213; var_165 12.6644; var_192 3.1364; var_196 7.8784; var_115 1.5093; var_109 24.3627; var_19 30.7133; var_79 12.1983; var_106 9.5426; var_87 16.4597; var_129 15.4462; var_177 13.7241; var_103 1.4403; var_29 5.9965; var_104 14.7100; var_150 18.5177; var_74 43.1127; var_197 8.5635; var_82 1.3675; var_93 9.9913; var_62 2.0771; var_173 3.1531; var_11 3.1821; var_40 -5.2387; var_30 -0.3085; var_189 0.5857; var_78 6.5199; var_185 5.8764; var_38 4.6667; var_12 14.0137; var_176 -10.1245; var_4 11.4607; var_52 -0.6940; var_92 11.0924; var_132 9.6508; var_42 11.5767; var_43 12.0446; var_72 5.1999; var_168 9.5981; var_184 25.8398; var_47 -14.2136; var_188 17.5743; var_54 -0.7474; var_101 13.3102; var_7 18.6266; var_61 4.9590; var_146 11.5659; var_0 8.9255; var_144 8.6989; var_17 -7.2393; var_21 16.2191; var_28 4.9306; var_44 11.6418; var_45 -7.0170; var_107 17.1554; var_166 2.7004; var_6 5.1187; var_170 -4.7645; var_123 0.7754; var_48 16.0283; var_152 9.0056; var_147 -16.4727; var_77 23.4104; var_121 9.7268; var_37 7.8871; var_178 -3.5189; var_64 8.6748; var_161 5.3133; var_131 0.3587; var_108 14.1104; var_183 14.3691; var_97 16.2572; var_140 8.3307; var_60 16.1828; var_187 -19.7159; var_36 0.6764; var_174 18.5618; var_88 7.9984; var_31 12.9041; var_51 29.0460; var_70 21.6374; var_159 11.5423; var_125 12.0039; var_148 4.0288; var_157 -13.1324; var_191 3.9642; var_163 5.0384; var_124 4.2218; var_32 -3.8766; var_76 -2.3440; var_10 2.9252; var_27 -0.4073; ,var_186 7.6543; var_143 12.2806; var_66 5.4007; var_113 8.5426; var_133 7.0513; var_50 11.8343; var_171 5.0988; var_16 13.8275; var_117 7.8522; var_75 7.0529; var_160 29.4846; var_118 -11.5100; var_198 18.3560; var_34 11.3702; var_68 5.0220; var_86 -13.5901; var_99 0.6939; var_169 5.7999; var_58 1.9210; var_95 -1.2722; var_137 18.1577; var_35 0.7399; var_164 -5.0121; var_136 9.7797; var_59 8.8682; var_100 -13.6950; var_119 7.5109; var_5 7.0433; var_33 19.3710; var_102 35.4734; var_175 10.4968; var_105 2.6227; var_195 2.0339; var_71 0.5134; var_14 5.4345; var_49 25.7037; var_26 -11.7684; var_3 5.3890; var_22 8.5524; var_141 6.6803; var_23 3.3716; var_149 -4.4223; var_155 0.1898; var_156 12.2419; var_181 9.4878; var_193 10.9516; var_41 1.8730; var_69 2.2302; var_24 6.9779; var_199 1.9518; var_167 9.3192; var_126 14.5697; var_83 -4.8210; var_142 -0.3243; var_55 18.5995; var_151 14.8743; var_139 16.1622; var_20 3.4287; var_57 7.0118; var_154 -0.5687; var_39 3.6783; var_127 2.4354; var_134 1.9568; var_116 3.0454; var_135 -8.9921; var_89 12.2301; var_91 6.8852; var_182 -14.9100; var_13 8.4135; var_56 19.3219; var_1 -4.1473; var_162 3.8208; var_63 -1.3147; var_190 7.6421; var_179 11.0752; var_80 2.5462; var_138 -1.9721; var_25 13.8910; var_180 -5.5937; var_120 31.5899; var_94 11.7569; var_9 8.0851; var_112 5.3523; var_96 24.7876; var_128 0.8194; var_8 3.1468; var_81 18.1782; var_110 6.6203; var_194 15.4305; var_145 11.0738; var_85 13.7867; var_111 7.1051; var_53 6.6885; var_67 7.9344; var_73 20.1068; var_172 22.0330; var_114 3.6159; var_90 0.4768; var_130 12.4205; var_153 16.7242; var_15 13.7003; var_158 22.3949; var_18 7.8000; var_65 1.5365; var_98 1.8944; var_122 8.2736; var_2 13.8588; var_46 7.3718; var_84 -5.4850; var_165 15.1345; var_192 2.5837; var_196 8.1267; var_115 4.1569; var_109 13.0858; var_19 28.5708; var_79 13.7814; var_106 7.3412; var_87 11.0993; var_129 16.5346; var_177 16.5721; var_103 1.7093; var_29 0.5481; var_104 15.1866; var_150 20.6294; var_74 7.7841; var_197 8.7889; var_82 0.3683; var_93 10.9631; var_62 1.7944; var_173 5.5134; var_11 8.0585; var_40 -11.1147; var_30 -9.2987; var_189 -0.3566; var_78 5.5075; var_185 -4.8622; var_38 10.8160; var_12 14.0239; var_176 -7.2352; var_4 12.3622; var_52 -4.1083; var_92 8.0905; var_132 5.7582; var_42 9.8775; var_43 11.7842; var_72 3.1701; var_168 3.8821; var_184 22.5441; var_47 0.1948; var_188 13.3175; var_54 -8.0946; var_101 8.4068; var_7 16.5338; var_61 -7.2417; var_146 8.9231; var_0 11.5006; var_144 8.6086; var_17 -15.5849; var_21 2.7407; var_28 5.0464; var_44 1.2444; var_45 -47.3797; var_107 32.0888; var_166 3.2003; var_6 5.6208; var_170 5.5378; var_123 10.1633; var_48 34.4014; var_152 9.4317; var_147 11.7700; var_77 23.4822; var_121 9.5018; var_37 5.8434; var_178 -7.3477; var_64 8.1042; var_161 5.8683; var_131 -0.1780; var_108 13.9550; var_183 9.4245; var_97 26.6881; var_140 3.6937; var_60 8.0109; var_187 -15.9319; var_36 2.7995; var_174 30.2645; var_88 7.9022; var_31 7.8755; var_51 13.2256; var_70 40.5632; var_159 10.6261; var_125 12.5942; var_148 4.2578; var_157 -9.6953; var_191 7.7214; var_163 15.8348; var_124 0.1225; var_32 1.2859; var_76 3.2709; var_10 -0.4032; var_27 -2.5586; ,var_186 5.3745; var_143 7.4844; var_66 7.3667; var_113 2.1929; var_133 6.6231; var_50 12.9143; var_171 -3.9116; var_16 7.6782; var_117 28.7632; var_75 19.4465; var_160 13.2070; var_118 -17.2738; var_198 14.7222; var_34 11.0449; var_68 5.0228; var_86 -4.4577; var_99 -0.0269; var_169 5.7690; var_58 1.1000; var_95 0.2647; var_137 15.5827; var_35 4.1087; var_164 -1.0410; var_136 24.5437; var_59 9.1854; var_100 -0.3939; var_119 2.1056; var_5 -9.0837; var_33 19.0422; var_102 14.8863; var_175 10.9202; var_105 3.9995; var_195 3.1417; var_71 0.8520; var_14 7.5244; var_49 6.8874; var_26 -7.9940; var_3 7.8928; var_22 1.2145; var_141 -2.4438; var_23 3.5137; var_149 -1.2681; var_155 0.5778; var_156 14.5362; var_181 9.3908; var_193 1.6858; var_41 2.2439; var_69 -5.7828; var_24 5.6777; var_199 0.3965; var_167 -5.5952; var_126 14.1978; var_83 10.1852; var_142 10.2158; var_55 6.2846; var_151 8.0088; var_139 8.6674; var_20 17.7559; var_57 5.8200; var_154 -5.1747; var_39 0.9003; var_127 -2.5511; var_134 3.9358; var_116 1.1696; var_135 -11.7218; var_89 2.1447; var_91 7.0883; var_182 -13.2648; var_13 7.3124; var_56 15.6372; var_1 -2.7457; var_162 4.7086; var_63 5.8042; var_190 2.9057; var_179 2.4013; var_80 7.4729; var_138 3.8212; var_25 13.2177; var_180 -4.2935; var_120 21.1613; var_94 14.2621; var_9 5.9525; var_112 4.5255; var_96 20.4031; var_128 -0.9479; var_8 -4.9193; var_81 15.7811; var_110 3.2304; var_194 21.6042; var_145 4.3649; var_85 19.0773; var_111 5.7033; var_53 6.4059; var_67 9.8565; var_73 12.1719; var_172 7.2569; var_114 3.1290; var_90 -22.4038; var_130 11.5419; var_153 14.1479; var_15 14.6472; var_158 33.8820; var_18 4.7011; var_65 -1.1016; var_98 1.6981; var_122 2.7768; var_2 12.0805; var_46 11.1405; var_84 5.4604; var_165 20.5092; var_192 1.6704; var_196 -6.5213; var_115 2.9044; var_109 20.3882; var_19 20.4775; var_79 12.8046; var_106 5.3683; var_87 9.5413; var_129 17.1092; var_177 8.8438; var_103 1.3854; var_29 6.1439; var_104 15.0284; var_150 14.3330; var_74 19.7312; var_197 8.2675; var_82 13.3529; var_93 10.5080; var_62 0.8748; var_173 -5.8234; var_11 -11.2648; var_40 -13.5174; var_30 -11.1025; var_189 -0.8417; var_78 6.3191; var_185 -5.3000; var_38 10.8917; var_12 14.1929; var_176 -0.3104; var_4 10.5825; var_52 0.7268; var_92 14.1613; var_132 8.8186; var_42 11.5283; var_43 12.0406; var_72 6.3577; var_168 7.3176; var_184 23.0866; var_47 -5.7864; var_188 10.1934; var_54 9.3124; var_101 12.6317; var_7 14.6155; var_61 -10.3734; var_146 11.4934; var_0 8.6093; var_144 9.1104; var_17 -1.7395; var_21 18.1377; var_28 5.8463; var_44 4.1006; var_45 -7.9078; var_107 8.6273; var_166 3.2790; var_6 6.9427; var_170 -7.0927; var_123 -2.1746; var_48 20.7477; var_152 4.4015; var_147 1.7624; var_77 23.2378; var_121 8.9573; var_37 6.9346; var_178 -9.7009; var_64 3.7163; var_161 5.8442; var_131 0.0975; var_108 14.1963; var_183 3.1545; var_97 17.0360; var_140 7.3834; var_60 12.5963; var_187 -6.2660; var_36 4.6974; var_174 25.6820; var_88 11.9052; var_31 12.4858; var_51 19.5856; var_70 2.3612; var_159 11.6041; var_125 12.4653; var_148 4.0714; var_157 -1.7624; var_191 9.7905; var_163 5.7141; var_124 3.6932; var_32 -2.2871; var_76 4.5048; var_10 -0.3249; var_27 -2.9029; ,var_186 7.9336; var_143 7.8388; var_66 5.6221; var_113 11.6896; var_133 7.1954; var_50 12.6832; var_171 -6.1920; var_16 10.7430; var_117 38.1015; var_75 15.4235; var_160 31.8833; var_118 3.5732; var_198 17.9697; var_34 10.6093; var_68 5.0220; var_86 -2.3174; var_99 1.9480; var_169 5.3430; var_58 3.3164; var_95 -1.0930; var_137 24.6065; var_35 -5.9158; var_164 -11.0882; var_136 27.5609; var_59 9.4638; var_100 -19.8592; var_119 5.0988; var_5 -1.8361; var_33 6.1796; var_102 18.6129; var_175 8.1013; var_105 4.2835; var_195 -1.2706; var_71 0.2500; var_14 6.4569; var_49 8.3838; var_26 0.8135; var_3 7.1957; var_22 6.8202; var_141 15.9638; var_23 2.7229; var_149 2.3701; var_155 -10.9370; var_156 12.0500; var_181 8.4117; var_193 1.4214; var_41 -1.0370; var_69 -3.9989; var_24 12.1354; var_199 -8.9996; var_167 -2.7018; var_126 12.5431; var_83 -5.2896; var_142 10.0142; var_55 12.3972; var_151 17.1765; var_139 8.9821; var_20 20.3010; var_57 6.5850; var_154 17.0336; var_39 0.6665; var_127 -1.3683; var_134 -1.1984; var_116 5.3446; var_135 1.9586; var_89 7.5509; var_91 7.0364; var_182 1.8986; var_13 11.9704; var_56 14.4698; var_1 -2.1518; var_162 7.2084; var_63 -4.3923; var_190 4.4666; var_179 5.6961; var_80 0.7839; var_138 -2.8233; var_25 13.7367; var_180 -3.7546; var_120 30.5644; var_94 7.2887; var_9 8.2450; var_112 1.6480; var_96 11.3596; var_128 3.5974; var_8 -5.8609; var_81 10.5404; var_110 4.2827; var_194 23.0347; var_145 2.9253; var_85 17.9762; var_111 6.9750; var_53 5.2091; var_67 23.6143; var_73 24.4187; var_172 18.2366; var_114 2.5762; var_90 -7.5866; var_130 14.3003; var_153 18.2452; var_15 14.8372; var_158 19.9750; var_18 15.9426; var_65 6.3072; var_98 2.8344; var_122 3.9618; var_2 8.9522; var_46 12.7404; var_84 1.6027; var_165 17.2502; var_192 0.7178; var_196 -2.9275; var_115 -2.5459; var_109 14.4135; var_19 13.7257; var_79 15.2733; var_106 10.3907; var_87 15.6298; var_129 13.9761; var_177 13.9552; var_103 1.3512; var_29 2.8407; var_104 9.3291; var_150 18.0984; var_74 4.5290; var_197 10.2922; var_82 1.6212; var_93 10.7795; var_62 3.4418; var_173 11.7134; var_11 2.8102; var_40 -3.8294; var_30 -15.2398; var_189 1.8489; var_78 4.0806; var_185 -0.0498; var_38 9.1738; var_12 13.8463; var_176 11.8771; var_4 12.5846; var_52 1.7895; var_92 14.4027; var_132 8.9500; var_42 11.7770; var_43 11.2834; var_72 1.2516; var_168 0.5641; var_184 -0.4639; var_47 -35.1659; var_188 12.4124; var_54 8.0913; var_101 22.5316; var_7 14.9250; var_61 -25.0222; var_146 10.4994; var_0 11.0604; var_144 9.9718; var_17 -0.4299; var_21 12.5579; var_28 5.9070; var_44 8.0485; var_45 -24.6840; var_107 7.0874; var_166 2.5881; var_6 5.8428; var_170 -7.1541; var_123 -8.2464; var_48 0.7613; var_152 7.6508; var_147 4.1622; var_77 23.6273; var_121 11.3025; var_37 2.8521; var_178 -10.4701; var_64 8.6464; var_161 5.9684; var_131 1.0486; var_108 14.3256; var_183 7.2601; var_97 18.1486; var_140 3.8873; var_60 15.7820; var_187 -12.8279; var_36 8.1723; var_174 14.7483; var_88 4.5474; var_31 10.4407; var_51 9.5503; var_70 4.0462; var_159 12.3892; var_125 12.3441; var_148 3.7613; var_157 -1.2155; var_191 4.7433; var_163 3.8899; var_124 2.7038; var_32 -2.5731; var_76 11.6875; var_10 2.3061; var_27 -0.9059; ,var_186 6.4209; var_143 16.1080; var_66 6.9860; var_113 7.9923; var_133 6.6173; var_50 13.3273; var_171 -2.6627; var_16 8.4871; var_117 25.6795; var_75 23.3521; var_160 33.5107; var_118 13.8224; var_198 17.9974; var_34 12.4057; var_68 5.0301; var_86 7.0799; var_99 0.6715; var_169 5.5518; var_58 1.9548; var_95 0.0213; var_137 25.8128; var_35 0.6329; var_164 6.5769; var_136 17.1728; var_59 9.2048; var_100 -22.9264; var_119 4.7478; var_5 2.4486; var_33 19.3239; var_102 17.3410; var_175 16.3309; var_105 5.1934; var_195 -1.5121; var_71 0.7737; var_14 7.7894; var_49 14.4268; var_26 3.1736; var_3 6.6375; var_22 10.1102; var_141 -4.3965; var_23 2.7142; var_149 9.9110; var_155 10.6101; var_156 13.0021; var_181 9.7685; var_193 9.1942; var_41 14.0685; var_69 -3.2431; var_24 14.2080; var_199 -8.8104; var_167 -1.7759; var_126 12.5815; var_83 -6.7075; var_142 11.7159; var_55 14.1482; var_151 1.2995; var_139 13.9547; var_20 21.4246; var_57 6.1812; var_154 4.7022; var_39 1.4450; var_127 7.0642; var_134 -6.8304; var_116 1.4684; var_135 6.4730; var_89 3.7954; var_91 7.0065; var_182 4.8910; var_13 7.8895; var_56 16.9840; var_1 -1.4834; var_162 5.4663; var_63 -1.7839; var_190 -1.4905; var_179 5.1743; var_80 2.9598; var_138 2.6791; var_25 13.5433; var_180 -7.6938; var_120 41.1037; var_94 14.0553; var_9 7.6784; var_112 1.0719; var_96 14.7246; var_128 5.6518; var_8 6.2654; var_81 13.3317; var_110 -0.1937; var_194 13.2876; var_145 9.1570; var_85 14.5265; var_111 5.9654; var_53 5.7555; var_67 1.6184; var_73 4.5886; var_172 19.8056; var_114 2.9138; var_90 -39.7997; var_130 11.4266; var_153 19.8234; var_15 15.0553; var_158 27.0846; var_18 6.5263; var_65 -4.3205; var_98 1.6844; var_122 5.2964; var_2 12.8746; var_46 13.8657; var_84 7.8984; var_165 21.2607; var_192 -0.1508; var_196 3.9267; var_115 -3.6135; var_109 28.2749; var_19 11.3152; var_79 14.3937; var_106 8.8230; var_87 20.1670; var_129 10.9346; var_177 13.5261; var_103 1.6940; var_29 7.9352; var_104 7.1179; var_150 20.1461; var_74 -4.5346; var_197 9.5031; var_82 -9.2587; var_93 10.4316; var_62 -0.4952; var_173 2.3705; var_11 -12.1419; var_40 -5.5963; var_30 -3.1582; var_189 -0.2829; var_78 7.1734; var_185 -7.8931; var_38 19.3038; var_12 13.8481; var_176 -3.3456; var_4 12.2772; var_52 -1.4367; var_92 9.3627; var_132 7.7532; var_42 11.9171; var_43 11.5111; var_72 -0.7264; var_168 3.1283; var_184 11.8503; var_47 0.0444; var_188 16.0201; var_54 -8.5414; var_101 12.3562; var_7 19.2514; var_61 -27.7439; var_146 11.5670; var_0 9.8369; var_144 7.6874; var_17 -3.0680; var_21 18.9608; var_28 5.9015; var_44 6.9087; var_45 -65.4863; var_107 10.6617; var_166 3.2304; var_6 5.9405; var_170 1.4493; var_123 9.7289; var_48 -0.1346; var_152 5.8493; var_147 -12.7047; var_77 19.1600; var_121 12.7140; var_37 5.8184; var_178 1.7189; var_64 5.2670; var_161 5.6953; var_131 0.9442; var_108 14.0837; var_183 12.2198; var_97 35.2988; var_140 6.6289; var_60 8.6591; var_187 5.9270; var_36 2.7922; var_174 18.4685; var_88 8.0053; var_31 9.4668; var_51 10.4857; var_70 40.1236; var_159 8.0913; var_125 12.1316; var_148 3.7574; var_157 -12.6068; var_191 9.5214; var_163 18.2201; var_124 3.9370; var_32 -0.0083; var_76 1.0273; var_10 -9.4458; var_27 -3.3423; \n",
       "Path: ."
      ]
     },
     "execution_count": 21,
     "metadata": {},
     "output_type": "execute_result"
    }
   ],
   "source": [
    "data.train_ds.x"
   ]
  },
  {
   "cell_type": "code",
   "execution_count": 23,
   "metadata": {},
   "outputs": [
    {
     "data": {
      "text/plain": [
       "TabularModel(\n",
       "  (embeds): ModuleList()\n",
       "  (emb_drop): Dropout(p=0.0)\n",
       "  (bn_cont): BatchNorm1d(200, eps=1e-05, momentum=0.1, affine=True, track_running_stats=True)\n",
       "  (layers): Sequential(\n",
       "    (0): Linear(in_features=200, out_features=1200, bias=True)\n",
       "    (1): ReLU(inplace)\n",
       "    (2): BatchNorm1d(1200, eps=1e-05, momentum=0.1, affine=True, track_running_stats=True)\n",
       "    (3): Linear(in_features=1200, out_features=900, bias=True)\n",
       "    (4): ReLU(inplace)\n",
       "    (5): BatchNorm1d(900, eps=1e-05, momentum=0.1, affine=True, track_running_stats=True)\n",
       "    (6): Linear(in_features=900, out_features=100, bias=True)\n",
       "    (7): ReLU(inplace)\n",
       "    (8): BatchNorm1d(100, eps=1e-05, momentum=0.1, affine=True, track_running_stats=True)\n",
       "    (9): Linear(in_features=100, out_features=2, bias=True)\n",
       "  )\n",
       ")"
      ]
     },
     "execution_count": 23,
     "metadata": {},
     "output_type": "execute_result"
    }
   ],
   "source": [
    "learn.model"
   ]
  },
  {
   "cell_type": "code",
   "execution_count": 27,
   "metadata": {},
   "outputs": [
    {
     "data": {
      "text/plain": [
       "[[tensor([0, 0, 0, 0, 0, 0, 0, 0, 0, 0, 0, 0, 0, 0, 0, 0, 0, 0, 0, 0, 0, 0, 0, 0,\n",
       "          0, 0, 0, 0, 0, 0, 0, 0, 0, 0, 0, 0, 0, 0, 0, 0, 0, 0, 0, 0, 0, 0, 0, 0,\n",
       "          0, 0, 0, 0, 0, 0, 0, 0, 0, 0, 0, 0, 0, 0, 0, 0, 0, 0, 0, 0, 0, 0, 0, 0,\n",
       "          0, 0, 0, 0, 0, 0, 0, 0, 0, 0, 0, 0, 0, 0, 0, 0, 0, 0, 0, 0, 0, 0, 0, 0,\n",
       "          0, 0, 0, 0, 0, 0, 0, 0, 0, 0, 0, 0, 0, 0, 0, 0, 0, 0, 0, 0, 0, 0, 0, 0,\n",
       "          0, 0, 0, 0, 0, 0, 0, 0], device='cuda:0'),\n",
       "  tensor([[ 5.2891, 13.3943,  4.0265,  ..., 10.8565, -0.8563, -0.2314],\n",
       "          [ 7.0841,  8.9184,  5.6231,  ..., 10.8518,  6.0399,  1.0168],\n",
       "          [ 7.9202,  8.5975,  7.6564,  ..., -0.3883,  5.3641, -3.3149],\n",
       "          ...,\n",
       "          [ 4.4135, 13.8458,  4.6268,  ..., 11.9617,  4.6435,  0.6971],\n",
       "          [ 2.2129, 17.6559,  4.3256,  ...,  4.3383, -4.8719, -1.5139],\n",
       "          [10.0674,  9.4703,  7.1894,  ..., 12.9177,  1.2921, -1.1694]],\n",
       "         device='cuda:0')],\n",
       " tensor([0, 0, 0, 0, 0, 0, 0, 0, 0, 0, 0, 0, 0, 1, 0, 0, 0, 0, 0, 0, 1, 0, 0, 0,\n",
       "         0, 0, 0, 0, 0, 0, 0, 0, 0, 0, 0, 0, 0, 0, 0, 0, 0, 0, 0, 0, 0, 0, 0, 1,\n",
       "         0, 0, 0, 0, 0, 0, 0, 0, 1, 0, 1, 0, 0, 0, 0, 0, 0, 0, 0, 0, 1, 0, 0, 0,\n",
       "         0, 0, 0, 0, 0, 0, 0, 0, 0, 0, 0, 0, 0, 0, 0, 0, 0, 0, 0, 0, 0, 0, 0, 0,\n",
       "         0, 0, 0, 1, 0, 1, 0, 0, 1, 0, 0, 0, 0, 0, 0, 0, 0, 0, 0, 0, 0, 0, 1, 0,\n",
       "         0, 0, 0, 0, 0, 0, 1, 0], device='cuda:0')]"
      ]
     },
     "execution_count": 27,
     "metadata": {},
     "output_type": "execute_result"
    }
   ],
   "source": [
    "a = next(iter(learn.data.train_dl));\n",
    "a"
   ]
  },
  {
   "cell_type": "code",
   "execution_count": 30,
   "metadata": {},
   "outputs": [
    {
     "data": {
      "text/plain": [
       "tensor(0, device='cuda:0')"
      ]
     },
     "execution_count": 30,
     "metadata": {},
     "output_type": "execute_result"
    }
   ],
   "source": [
    "a[0][0][0]"
   ]
  },
  {
   "cell_type": "code",
   "execution_count": 106,
   "metadata": {},
   "outputs": [
    {
     "data": {
      "text/html": [],
      "text/plain": [
       "<IPython.core.display.HTML object>"
      ]
     },
     "metadata": {},
     "output_type": "display_data"
    },
    {
     "name": "stdout",
     "output_type": "stream",
     "text": [
      "LR Finder is complete, type {learner_name}.recorder.plot() to see the graph.\n"
     ]
    }
   ],
   "source": [
    "learn.lr_find()"
   ]
  },
  {
   "cell_type": "code",
   "execution_count": 107,
   "metadata": {},
   "outputs": [
    {
     "data": {
      "image/png": "[encoded data removed]",
      "text/plain": [
       "<Figure size 432x288 with 1 Axes>"
      ]
     },
     "metadata": {
      "needs_background": "light"
     },
     "output_type": "display_data"
    }
   ],
   "source": [
    "learn.recorder.plot()"
   ]
  },
  {
   "cell_type": "code",
   "execution_count": 22,
   "metadata": {},
   "outputs": [],
   "source": [
    "#def roc_():\n",
    "    "
   ]
  },
  {
   "cell_type": "code",
   "execution_count": 108,
   "metadata": {},
   "outputs": [
    {
     "data": {
      "text/html": [
       "Total time: 01:22 <p><table border=\"1\" class=\"dataframe\">\n",
       "  <thead>\n",
       "    <tr style=\"text-align: left;\">\n",
       "      <th>epoch</th>\n",
       "      <th>train_loss</th>\n",
       "      <th>valid_loss</th>\n",
       "      <th>accuracy</th>\n",
       "      <th>time</th>\n",
       "    </tr>\n",
       "  </thead>\n",
       "  <tbody>\n",
       "    <tr>\n",
       "      <td>0</td>\n",
       "      <td>0.251410</td>\n",
       "      <td>1.034673</td>\n",
       "      <td>0.905660</td>\n",
       "      <td>00:08</td>\n",
       "    </tr>\n",
       "    <tr>\n",
       "      <td>1</td>\n",
       "      <td>0.248891</td>\n",
       "      <td>22411.570312</td>\n",
       "      <td>0.908060</td>\n",
       "      <td>00:08</td>\n",
       "    </tr>\n",
       "    <tr>\n",
       "      <td>2</td>\n",
       "      <td>0.247657</td>\n",
       "      <td>2332.593262</td>\n",
       "      <td>0.910280</td>\n",
       "      <td>00:08</td>\n",
       "    </tr>\n",
       "    <tr>\n",
       "      <td>3</td>\n",
       "      <td>0.247281</td>\n",
       "      <td>180086.515625</td>\n",
       "      <td>0.909860</td>\n",
       "      <td>00:08</td>\n",
       "    </tr>\n",
       "    <tr>\n",
       "      <td>4</td>\n",
       "      <td>0.245229</td>\n",
       "      <td>303995.968750</td>\n",
       "      <td>0.896960</td>\n",
       "      <td>00:08</td>\n",
       "    </tr>\n",
       "    <tr>\n",
       "      <td>5</td>\n",
       "      <td>0.251690</td>\n",
       "      <td>24940.027344</td>\n",
       "      <td>0.910060</td>\n",
       "      <td>00:08</td>\n",
       "    </tr>\n",
       "    <tr>\n",
       "      <td>6</td>\n",
       "      <td>0.227063</td>\n",
       "      <td>5202.736816</td>\n",
       "      <td>0.907520</td>\n",
       "      <td>00:08</td>\n",
       "    </tr>\n",
       "    <tr>\n",
       "      <td>7</td>\n",
       "      <td>0.231451</td>\n",
       "      <td>12188.568359</td>\n",
       "      <td>0.910720</td>\n",
       "      <td>00:08</td>\n",
       "    </tr>\n",
       "    <tr>\n",
       "      <td>8</td>\n",
       "      <td>0.231680</td>\n",
       "      <td>8976.296875</td>\n",
       "      <td>0.911740</td>\n",
       "      <td>00:08</td>\n",
       "    </tr>\n",
       "    <tr>\n",
       "      <td>9</td>\n",
       "      <td>0.217479</td>\n",
       "      <td>9799.837891</td>\n",
       "      <td>0.911400</td>\n",
       "      <td>00:08</td>\n",
       "    </tr>\n",
       "  </tbody>\n",
       "</table>"
      ],
      "text/plain": [
       "<IPython.core.display.HTML object>"
      ]
     },
     "metadata": {},
     "output_type": "display_data"
    }
   ],
   "source": [
    "learn.fit_one_cycle(10,max_lr=0.1)"
   ]
  },
  {
   "cell_type": "code",
   "execution_count": 19,
   "metadata": {},
   "outputs": [
    {
     "data": {
      "text/plain": [
       "PosixPath('models/first_nn_100ep.pth')"
      ]
     },
     "execution_count": 19,
     "metadata": {},
     "output_type": "execute_result"
    }
   ],
   "source": [
    "learn.save('first_nn_100ep',return_path=True)"
   ]
  },
  {
   "cell_type": "code",
   "execution_count": 109,
   "metadata": {},
   "outputs": [
    {
     "data": {
      "image/png": "[encoded data removed]",
      "text/plain": [
       "<Figure size 432x288 with 1 Axes>"
      ]
     },
     "metadata": {
      "needs_background": "light"
     },
     "output_type": "display_data"
    }
   ],
   "source": [
    "learn.recorder.plot_losses()"
   ]
  },
  {
   "cell_type": "code",
   "execution_count": 110,
   "metadata": {},
   "outputs": [
    {
     "data": {
      "image/png": "[encoded data removed]",
      "text/plain": [
       "<Figure size 432x288 with 1 Axes>"
      ]
     },
     "metadata": {
      "needs_background": "light"
     },
     "output_type": "display_data"
    }
   ],
   "source": [
    "learn.recorder.plot_lr()"
   ]
  },
  {
   "cell_type": "code",
   "execution_count": 60,
   "metadata": {},
   "outputs": [],
   "source": [
    "#learn.load('first_nn_100ep')"
   ]
  },
  {
   "cell_type": "code",
   "execution_count": 111,
   "metadata": {},
   "outputs": [],
   "source": [
    "preds = learn.get_preds(DatasetType.Valid)"
   ]
  },
  {
   "cell_type": "code",
   "execution_count": 116,
   "metadata": {},
   "outputs": [
    {
     "data": {
      "text/plain": [
       "tensor([[0.7903, 0.2097],\n",
       "        [0.9857, 0.0143],\n",
       "        [0.9869, 0.0131],\n",
       "        ...,\n",
       "        [0.9503, 0.0497],\n",
       "        [0.9644, 0.0356],\n",
       "        [0.9963, 0.0037]])"
      ]
     },
     "execution_count": 116,
     "metadata": {},
     "output_type": "execute_result"
    }
   ],
   "source": [
    "preds[0]"
   ]
  },
  {
   "cell_type": "code",
   "execution_count": 112,
   "metadata": {},
   "outputs": [
    {
     "data": {
      "text/plain": [
       "array([0, 0, 0, 0, ..., 0, 0, 0, 0])"
      ]
     },
     "execution_count": 112,
     "metadata": {},
     "output_type": "execute_result"
    }
   ],
   "source": [
    "preds[1].cpu().numpy()"
   ]
  },
  {
   "cell_type": "code",
   "execution_count": null,
   "metadata": {},
   "outputs": [],
   "source": []
  },
  {
   "cell_type": "code",
   "execution_count": 113,
   "metadata": {},
   "outputs": [
    {
     "data": {
      "text/plain": [
       "1.0"
      ]
     },
     "execution_count": 113,
     "metadata": {},
     "output_type": "execute_result"
    }
   ],
   "source": [
    "roc_auc_score(trn_df.iloc[len(trn_df)-50000:].target.values,preds[1].cpu().numpy())"
   ]
  },
  {
   "cell_type": "code",
   "execution_count": 114,
   "metadata": {},
   "outputs": [],
   "source": [
    "_ = trn_df.iloc[len(trn_df)-50000:].target.values == preds[1].cpu().numpy()"
   ]
  },
  {
   "cell_type": "code",
   "execution_count": 115,
   "metadata": {},
   "outputs": [
    {
     "data": {
      "text/plain": [
       "1.0"
      ]
     },
     "execution_count": 115,
     "metadata": {},
     "output_type": "execute_result"
    }
   ],
   "source": [
    "_.mean()"
   ]
  },
  {
   "cell_type": "code",
   "execution_count": 64,
   "metadata": {},
   "outputs": [],
   "source": [
    "v = preds[1].cpu().numpy()"
   ]
  },
  {
   "cell_type": "code",
   "execution_count": 66,
   "metadata": {},
   "outputs": [
    {
     "data": {
      "text/plain": [
       "3024"
      ]
     },
     "execution_count": 66,
     "metadata": {},
     "output_type": "execute_result"
    }
   ],
   "source": [
    "(v == 1).sum()"
   ]
  },
  {
   "cell_type": "code",
   "execution_count": 48,
   "metadata": {},
   "outputs": [],
   "source": [
    "preds_sub = learn.get_preds(DatasetType.Test)"
   ]
  },
  {
   "cell_type": "code",
   "execution_count": 50,
   "metadata": {},
   "outputs": [
    {
     "data": {
      "text/plain": [
       "tensor([0, 0, 0,  ..., 0, 0, 0])"
      ]
     },
     "execution_count": 50,
     "metadata": {},
     "output_type": "execute_result"
    }
   ],
   "source": [
    "preds_sub[1]."
   ]
  },
  {
   "cell_type": "code",
   "execution_count": 51,
   "metadata": {},
   "outputs": [],
   "source": [
    "ss = pd.read_csv('sample_submission.csv',index_col='ID_code')"
   ]
  },
  {
   "cell_type": "code",
   "execution_count": 53,
   "metadata": {},
   "outputs": [
    {
     "data": {
      "text/html": [
       "<div>\n",
       "<style scoped>\n",
       "    .dataframe tbody tr th:only-of-type {\n",
       "        vertical-align: middle;\n",
       "    }\n",
       "\n",
       "    .dataframe tbody tr th {\n",
       "        vertical-align: top;\n",
       "    }\n",
       "\n",
       "    .dataframe thead th {\n",
       "        text-align: right;\n",
       "    }\n",
       "</style>\n",
       "<table border=\"1\" class=\"dataframe\">\n",
       "  <thead>\n",
       "    <tr style=\"text-align: right;\">\n",
       "      <th></th>\n",
       "      <th>target</th>\n",
       "    </tr>\n",
       "    <tr>\n",
       "      <th>ID_code</th>\n",
       "      <th></th>\n",
       "    </tr>\n",
       "  </thead>\n",
       "  <tbody>\n",
       "    <tr>\n",
       "      <th>test_0</th>\n",
       "      <td>0</td>\n",
       "    </tr>\n",
       "    <tr>\n",
       "      <th>test_1</th>\n",
       "      <td>0</td>\n",
       "    </tr>\n",
       "  </tbody>\n",
       "</table>\n",
       "</div>"
      ],
      "text/plain": [
       "         target\n",
       "ID_code        \n",
       "test_0        0\n",
       "test_1        0"
      ]
     },
     "execution_count": 53,
     "metadata": {},
     "output_type": "execute_result"
    }
   ],
   "source": [
    "ss.head(2)"
   ]
  },
  {
   "cell_type": "code",
   "execution_count": 54,
   "metadata": {},
   "outputs": [],
   "source": [
    "ss.target = preds_sub[1].cpu().numpy()"
   ]
  },
  {
   "cell_type": "code",
   "execution_count": 55,
   "metadata": {},
   "outputs": [
    {
     "data": {
      "text/html": [
       "<div>\n",
       "<style scoped>\n",
       "    .dataframe tbody tr th:only-of-type {\n",
       "        vertical-align: middle;\n",
       "    }\n",
       "\n",
       "    .dataframe tbody tr th {\n",
       "        vertical-align: top;\n",
       "    }\n",
       "\n",
       "    .dataframe thead th {\n",
       "        text-align: right;\n",
       "    }\n",
       "</style>\n",
       "<table border=\"1\" class=\"dataframe\">\n",
       "  <thead>\n",
       "    <tr style=\"text-align: right;\">\n",
       "      <th></th>\n",
       "      <th>target</th>\n",
       "    </tr>\n",
       "    <tr>\n",
       "      <th>ID_code</th>\n",
       "      <th></th>\n",
       "    </tr>\n",
       "  </thead>\n",
       "  <tbody>\n",
       "    <tr>\n",
       "      <th>test_0</th>\n",
       "      <td>0</td>\n",
       "    </tr>\n",
       "    <tr>\n",
       "      <th>test_1</th>\n",
       "      <td>0</td>\n",
       "    </tr>\n",
       "  </tbody>\n",
       "</table>\n",
       "</div>"
      ],
      "text/plain": [
       "         target\n",
       "ID_code        \n",
       "test_0        0\n",
       "test_1        0"
      ]
     },
     "execution_count": 55,
     "metadata": {},
     "output_type": "execute_result"
    }
   ],
   "source": [
    "ss.head(2)"
   ]
  },
  {
   "cell_type": "code",
   "execution_count": 56,
   "metadata": {},
   "outputs": [],
   "source": [
    "ss.to_csv('nn_100ep.csv')"
   ]
  },
  {
   "cell_type": "code",
   "execution_count": 57,
   "metadata": {},
   "outputs": [],
   "source": [
    "sol = pd.read_csv('nn_100ep.csv',index_col = 'ID_code')"
   ]
  },
  {
   "cell_type": "code",
   "execution_count": 58,
   "metadata": {},
   "outputs": [
    {
     "data": {
      "text/html": [
       "<div>\n",
       "<style scoped>\n",
       "    .dataframe tbody tr th:only-of-type {\n",
       "        vertical-align: middle;\n",
       "    }\n",
       "\n",
       "    .dataframe tbody tr th {\n",
       "        vertical-align: top;\n",
       "    }\n",
       "\n",
       "    .dataframe thead th {\n",
       "        text-align: right;\n",
       "    }\n",
       "</style>\n",
       "<table border=\"1\" class=\"dataframe\">\n",
       "  <thead>\n",
       "    <tr style=\"text-align: right;\">\n",
       "      <th></th>\n",
       "      <th>target</th>\n",
       "    </tr>\n",
       "    <tr>\n",
       "      <th>ID_code</th>\n",
       "      <th></th>\n",
       "    </tr>\n",
       "  </thead>\n",
       "  <tbody>\n",
       "    <tr>\n",
       "      <th>test_0</th>\n",
       "      <td>0</td>\n",
       "    </tr>\n",
       "    <tr>\n",
       "      <th>test_1</th>\n",
       "      <td>0</td>\n",
       "    </tr>\n",
       "  </tbody>\n",
       "</table>\n",
       "</div>"
      ],
      "text/plain": [
       "         target\n",
       "ID_code        \n",
       "test_0        0\n",
       "test_1        0"
      ]
     },
     "execution_count": 58,
     "metadata": {},
     "output_type": "execute_result"
    }
   ],
   "source": [
    "sol.head(2)"
   ]
  },
  {
   "cell_type": "code",
   "execution_count": 59,
   "metadata": {},
   "outputs": [
    {
     "name": "stdout",
     "output_type": "stream",
     "text": [
      "Warning: Your Kaggle API key is readable by other users on this system! To fix this, you can run 'chmod 600 /home/ravi/.kaggle/kaggle.json'\n",
      "100%|███████████████████████████████████████| 2.56M/2.56M [00:11<00:00, 241kB/s]\n",
      "Successfully submitted to Santander Customer Transaction Prediction"
     ]
    }
   ],
   "source": [
    "!kaggle c submit santander-customer-transaction-prediction -f nn_100ep.csv -m \"100ep nn\""
   ]
  },
  {
   "cell_type": "code",
   "execution_count": null,
   "metadata": {},
   "outputs": [],
   "source": []
  }
 ],
 "metadata": {
  "kernelspec": {
   "display_name": "Python 3",
   "language": "python",
   "name": "python3"
  },
  "language_info": {
   "codemirror_mode": {
    "name": "ipython",
    "version": 3
   },
   "file_extension": ".py",
   "mimetype": "text/x-python",
   "name": "python",
   "nbconvert_exporter": "python",
   "pygments_lexer": "ipython3",
   "version": "3.7.2"
  }
 },
 "nbformat": 4,
 "nbformat_minor": 2
}

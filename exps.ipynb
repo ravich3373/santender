{
 "cells": [
  {
   "cell_type": "code",
   "execution_count": 2,
   "metadata": {},
   "outputs": [],
   "source": [
    "from fastai.tabular import *\n",
    "import pandas as pd\n",
    "import numpy as np"
   ]
  },
  {
   "cell_type": "code",
   "execution_count": 8,
   "metadata": {},
   "outputs": [],
   "source": [
    "trn_df = pd.read_csv('train.csv',index_col='ID_code')\n",
    "tst_df = pd.read_csv('test.csv',index_col='ID_code')"
   ]
  },
  {
   "cell_type": "code",
   "execution_count": 9,
   "metadata": {},
   "outputs": [],
   "source": [
    "trn_1 = trn_df.loc[trn_df.target == 1,:][:1]"
   ]
  },
  {
   "cell_type": "code",
   "execution_count": 10,
   "metadata": {},
   "outputs": [
    {
     "data": {
      "text/plain": [
       "(1, 201)"
      ]
     },
     "execution_count": 10,
     "metadata": {},
     "output_type": "execute_result"
    }
   ],
   "source": [
    "trn_1.shape"
   ]
  },
  {
   "cell_type": "code",
   "execution_count": 11,
   "metadata": {},
   "outputs": [],
   "source": [
    "trn_0 = trn_df.where(trn_df.target == 0)[:1]"
   ]
  },
  {
   "cell_type": "code",
   "execution_count": 12,
   "metadata": {},
   "outputs": [],
   "source": [
    "trn = trn_1.append(trn_0,ignore_index=True)"
   ]
  },
  {
   "cell_type": "code",
   "execution_count": 13,
   "metadata": {},
   "outputs": [
    {
     "data": {
      "text/html": [
       "<div>\n",
       "<style scoped>\n",
       "    .dataframe tbody tr th:only-of-type {\n",
       "        vertical-align: middle;\n",
       "    }\n",
       "\n",
       "    .dataframe tbody tr th {\n",
       "        vertical-align: top;\n",
       "    }\n",
       "\n",
       "    .dataframe thead th {\n",
       "        text-align: right;\n",
       "    }\n",
       "</style>\n",
       "<table border=\"1\" class=\"dataframe\">\n",
       "  <thead>\n",
       "    <tr style=\"text-align: right;\">\n",
       "      <th></th>\n",
       "      <th>target</th>\n",
       "      <th>var_0</th>\n",
       "      <th>var_1</th>\n",
       "      <th>var_2</th>\n",
       "      <th>var_3</th>\n",
       "      <th>var_4</th>\n",
       "      <th>var_5</th>\n",
       "      <th>var_6</th>\n",
       "      <th>var_7</th>\n",
       "      <th>var_8</th>\n",
       "      <th>...</th>\n",
       "      <th>var_190</th>\n",
       "      <th>var_191</th>\n",
       "      <th>var_192</th>\n",
       "      <th>var_193</th>\n",
       "      <th>var_194</th>\n",
       "      <th>var_195</th>\n",
       "      <th>var_196</th>\n",
       "      <th>var_197</th>\n",
       "      <th>var_198</th>\n",
       "      <th>var_199</th>\n",
       "    </tr>\n",
       "  </thead>\n",
       "  <tbody>\n",
       "    <tr>\n",
       "      <th>0</th>\n",
       "      <td>1.0</td>\n",
       "      <td>16.3699</td>\n",
       "      <td>1.5934</td>\n",
       "      <td>16.7395</td>\n",
       "      <td>7.333</td>\n",
       "      <td>12.1450</td>\n",
       "      <td>5.9004</td>\n",
       "      <td>4.8222</td>\n",
       "      <td>20.9729</td>\n",
       "      <td>1.1064</td>\n",
       "      <td>...</td>\n",
       "      <td>7.4002</td>\n",
       "      <td>7.4031</td>\n",
       "      <td>4.3989</td>\n",
       "      <td>4.0978</td>\n",
       "      <td>17.3638</td>\n",
       "      <td>-1.3022</td>\n",
       "      <td>9.6846</td>\n",
       "      <td>9.0419</td>\n",
       "      <td>15.6064</td>\n",
       "      <td>-10.8529</td>\n",
       "    </tr>\n",
       "    <tr>\n",
       "      <th>1</th>\n",
       "      <td>0.0</td>\n",
       "      <td>8.9255</td>\n",
       "      <td>-6.7863</td>\n",
       "      <td>11.9081</td>\n",
       "      <td>5.093</td>\n",
       "      <td>11.4607</td>\n",
       "      <td>-9.2834</td>\n",
       "      <td>5.1187</td>\n",
       "      <td>18.6266</td>\n",
       "      <td>-4.9200</td>\n",
       "      <td>...</td>\n",
       "      <td>4.4354</td>\n",
       "      <td>3.9642</td>\n",
       "      <td>3.1364</td>\n",
       "      <td>1.6910</td>\n",
       "      <td>18.5227</td>\n",
       "      <td>-2.3978</td>\n",
       "      <td>7.8784</td>\n",
       "      <td>8.5635</td>\n",
       "      <td>12.7803</td>\n",
       "      <td>-1.0914</td>\n",
       "    </tr>\n",
       "  </tbody>\n",
       "</table>\n",
       "<p>2 rows × 201 columns</p>\n",
       "</div>"
      ],
      "text/plain": [
       "   target    var_0   var_1    var_2  var_3    var_4   var_5   var_6    var_7  \\\n",
       "0     1.0  16.3699  1.5934  16.7395  7.333  12.1450  5.9004  4.8222  20.9729   \n",
       "1     0.0   8.9255 -6.7863  11.9081  5.093  11.4607 -9.2834  5.1187  18.6266   \n",
       "\n",
       "    var_8  ...  var_190  var_191  var_192  var_193  var_194  var_195  var_196  \\\n",
       "0  1.1064  ...   7.4002   7.4031   4.3989   4.0978  17.3638  -1.3022   9.6846   \n",
       "1 -4.9200  ...   4.4354   3.9642   3.1364   1.6910  18.5227  -2.3978   7.8784   \n",
       "\n",
       "   var_197  var_198  var_199  \n",
       "0   9.0419  15.6064 -10.8529  \n",
       "1   8.5635  12.7803  -1.0914  \n",
       "\n",
       "[2 rows x 201 columns]"
      ]
     },
     "execution_count": 13,
     "metadata": {},
     "output_type": "execute_result"
    }
   ],
   "source": [
    "trn"
   ]
  },
  {
   "cell_type": "code",
   "execution_count": 115,
   "metadata": {},
   "outputs": [],
   "source": [
    "trn.target = trn.target.astype(int)"
   ]
  },
  {
   "cell_type": "code",
   "execution_count": 117,
   "metadata": {},
   "outputs": [],
   "source": [
    "procs = [Normalize]"
   ]
  },
  {
   "cell_type": "code",
   "execution_count": 120,
   "metadata": {},
   "outputs": [],
   "source": [
    "data = (TabularList.from_df(trn,procs=procs,cont_names=tst_df.columns)\n",
    "        .split_none()\n",
    "       .label_from_df('target')\n",
    "       .add_test(TabularList.from_df(tst_df))\n",
    "       .databunch(bs=2,num_workers=16))"
   ]
  },
  {
   "cell_type": "code",
   "execution_count": 193,
   "metadata": {},
   "outputs": [],
   "source": [
    "learn = tabular_learner(data,[200,160,50,8],metrics=accuracy)"
   ]
  },
  {
   "cell_type": "code",
   "execution_count": 194,
   "metadata": {},
   "outputs": [
    {
     "data": {
      "text/plain": [
       "TabularModel(\n",
       "  (embeds): ModuleList()\n",
       "  (emb_drop): Dropout(p=0.0)\n",
       "  (bn_cont): BatchNorm1d(200, eps=1e-05, momentum=0.1, affine=True, track_running_stats=True)\n",
       "  (layers): Sequential(\n",
       "    (0): Linear(in_features=200, out_features=200, bias=True)\n",
       "    (1): ReLU(inplace)\n",
       "    (2): BatchNorm1d(200, eps=1e-05, momentum=0.1, affine=True, track_running_stats=True)\n",
       "    (3): Linear(in_features=200, out_features=160, bias=True)\n",
       "    (4): ReLU(inplace)\n",
       "    (5): BatchNorm1d(160, eps=1e-05, momentum=0.1, affine=True, track_running_stats=True)\n",
       "    (6): Linear(in_features=160, out_features=50, bias=True)\n",
       "    (7): ReLU(inplace)\n",
       "    (8): BatchNorm1d(50, eps=1e-05, momentum=0.1, affine=True, track_running_stats=True)\n",
       "    (9): Linear(in_features=50, out_features=8, bias=True)\n",
       "    (10): ReLU(inplace)\n",
       "    (11): BatchNorm1d(8, eps=1e-05, momentum=0.1, affine=True, track_running_stats=True)\n",
       "    (12): Linear(in_features=8, out_features=2, bias=True)\n",
       "  )\n",
       ")"
      ]
     },
     "execution_count": 194,
     "metadata": {},
     "output_type": "execute_result"
    }
   ],
   "source": [
    "learn.model"
   ]
  },
  {
   "cell_type": "code",
   "execution_count": 11,
   "metadata": {},
   "outputs": [],
   "source": [
    "def net_block(in_,out):\n",
    "    return nn.Sequential(nn.Linear(in_,out),\n",
    "                     nn.ReLU(inplace=True),\n",
    "                     nn.BatchNorm1d(out))"
   ]
  },
  {
   "cell_type": "code",
   "execution_count": 12,
   "metadata": {},
   "outputs": [],
   "source": [
    "def net_full(layers):\n",
    "    net_blks = []\n",
    "    for i in range(0,len(layers)-1):\n",
    "        net_blks.append(net_block(layers[i],layers[i+1]))\n",
    "    return nn.Sequential(*net_blks)"
   ]
  },
  {
   "cell_type": "code",
   "execution_count": 13,
   "metadata": {},
   "outputs": [],
   "source": [
    "class Mod(nn.Module):\n",
    "    def __init__(self,layers):\n",
    "        super().__init__()\n",
    "        net_blks = []\n",
    "        for i in range(0,len(layers)-1):\n",
    "            net_blks.append(net_block(layers[i],layers[i+1]))\n",
    "        self.mod = nn.Sequential(*net_blks)\n",
    "        \n",
    "    def forward(self,A,B):\n",
    "          model.train()\n",
    "          return self.mod(B)"
   ]
  },
  {
   "cell_type": "code",
   "execution_count": 14,
   "metadata": {},
   "outputs": [],
   "source": [
    "model = Mod([200,350,200,100,64,8,2])"
   ]
  },
  {
   "cell_type": "code",
   "execution_count": 15,
   "metadata": {},
   "outputs": [
    {
     "data": {
      "text/plain": [
       "Mod(\n",
       "  (mod): Sequential(\n",
       "    (0): Sequential(\n",
       "      (0): Linear(in_features=200, out_features=350, bias=True)\n",
       "      (1): ReLU(inplace)\n",
       "      (2): BatchNorm1d(350, eps=1e-05, momentum=0.1, affine=True, track_running_stats=True)\n",
       "    )\n",
       "    (1): Sequential(\n",
       "      (0): Linear(in_features=350, out_features=200, bias=True)\n",
       "      (1): ReLU(inplace)\n",
       "      (2): BatchNorm1d(200, eps=1e-05, momentum=0.1, affine=True, track_running_stats=True)\n",
       "    )\n",
       "    (2): Sequential(\n",
       "      (0): Linear(in_features=200, out_features=100, bias=True)\n",
       "      (1): ReLU(inplace)\n",
       "      (2): BatchNorm1d(100, eps=1e-05, momentum=0.1, affine=True, track_running_stats=True)\n",
       "    )\n",
       "    (3): Sequential(\n",
       "      (0): Linear(in_features=100, out_features=64, bias=True)\n",
       "      (1): ReLU(inplace)\n",
       "      (2): BatchNorm1d(64, eps=1e-05, momentum=0.1, affine=True, track_running_stats=True)\n",
       "    )\n",
       "    (4): Sequential(\n",
       "      (0): Linear(in_features=64, out_features=8, bias=True)\n",
       "      (1): ReLU(inplace)\n",
       "      (2): BatchNorm1d(8, eps=1e-05, momentum=0.1, affine=True, track_running_stats=True)\n",
       "    )\n",
       "    (5): Sequential(\n",
       "      (0): Linear(in_features=8, out_features=2, bias=True)\n",
       "      (1): ReLU(inplace)\n",
       "      (2): BatchNorm1d(2, eps=1e-05, momentum=0.1, affine=True, track_running_stats=True)\n",
       "    )\n",
       "  )\n",
       ")"
      ]
     },
     "execution_count": 15,
     "metadata": {},
     "output_type": "execute_result"
    }
   ],
   "source": [
    "model"
   ]
  },
  {
   "cell_type": "code",
   "execution_count": 16,
   "metadata": {},
   "outputs": [],
   "source": [
    "learn = Learner(data,model)"
   ]
  },
  {
   "cell_type": "code",
   "execution_count": 17,
   "metadata": {},
   "outputs": [
    {
     "data": {
      "text/plain": [
       "FlattenedLoss of MSELoss()"
      ]
     },
     "execution_count": 17,
     "metadata": {},
     "output_type": "execute_result"
    }
   ],
   "source": [
    "learn.loss_func"
   ]
  },
  {
   "cell_type": "code",
   "execution_count": null,
   "metadata": {},
   "outputs": [],
   "source": []
  },
  {
   "cell_type": "code",
   "execution_count": 18,
   "metadata": {},
   "outputs": [
    {
     "data": {
      "text/plain": [
       "(TabularLine var_0 -1.7234; var_1 -0.3241; var_2 0.5436; var_3 -2.0165; var_4 -1.7738; var_5 -0.4404; var_6 0.5599; var_7 -0.3222; var_8 0.2411; var_9 1.1596; var_10 1.5049; var_11 0.4603; var_12 0.6784; var_13 1.0803; var_14 1.3216; var_15 0.8580; var_16 0.9895; var_17 1.1742; var_18 -1.0610; var_19 0.9643; var_20 -1.8033; var_21 -0.3970; var_22 -0.2815; var_23 -1.3109; var_24 -0.3802; var_25 1.6699; var_26 -1.4741; var_27 0.9733; var_28 0.8026; var_29 -0.8921; var_30 -0.9944; var_31 0.1412; var_32 -0.9246; var_33 -1.1979; var_34 0.2089; var_35 1.5432; var_36 0.0233; var_37 0.1394; var_38 1.3588; var_39 -0.8749; var_40 -1.7698; var_41 -0.0308; var_42 -0.6612; var_43 -0.6593; var_44 -1.2545; var_45 1.3811; var_46 -0.1079; var_47 0.6098; var_48 -0.4024; var_49 -0.3427; var_50 1.4485; var_51 0.1387; var_52 -0.6190; var_53 -0.2177; var_54 1.2029; var_55 -1.5492; var_56 2.3668; var_57 1.0199; var_58 -1.5361; var_59 1.5929; var_60 -0.7603; var_61 0.6935; var_62 -1.4791; var_63 0.0609; var_64 0.2701; var_65 -0.1061; var_66 -1.8477; var_67 -1.2328; var_68 0.2158; var_69 -0.3112; var_70 0.7993; var_71 -0.5762; var_72 -0.5954; var_73 1.3444; var_74 0.4458; var_75 1.3320; var_76 0.2207; var_77 0.0308; var_78 -1.5295; var_79 -1.5244; var_80 -1.1140; var_81 0.5377; var_82 1.5770; var_83 0.4173; var_84 -0.8002; var_85 -1.0389; var_86 0.1645; var_87 -0.8577; var_88 1.1933; var_89 0.0482; var_90 0.8474; var_91 -0.2174; var_92 0.5091; var_93 -0.8788; var_94 0.1816; var_95 -0.8247; var_96 -0.1894; var_97 -1.5419; var_98 -0.0542; var_99 -1.1367; var_100 -1.0027; var_101 0.4919; var_102 1.1173; var_103 -0.3079; var_104 -0.5502; var_105 0.4733; var_106 1.6985; var_107 -0.1859; var_108 -1.0140; var_109 -0.9641; var_110 1.1723; var_111 -0.2202; var_112 1.4058; var_113 -0.3736; var_114 1.0171; var_115 1.2904; var_116 -0.1935; var_117 0.2226; var_118 1.0289; var_119 0.7362; var_120 -0.6370; var_121 0.1484; var_122 -1.2700; var_123 -1.2153; var_124 0.3972; var_125 1.6302; var_126 0.0481; var_127 1.2382; var_128 -0.2857; var_129 -0.7903; var_130 0.8490; var_131 0.2109; var_132 -0.8001; var_133 -0.0214; var_134 -1.5988; var_135 -1.6135; var_136 -1.4974; var_137 -0.1397; var_138 -0.9881; var_139 -1.3021; var_140 -1.0173; var_141 -0.1931; var_142 -0.9283; var_143 -0.2658; var_144 -0.9925; var_145 -1.7316; var_146 -0.2465; var_147 -0.6528; var_148 -0.1351; var_149 -0.7448; var_150 0.1760; var_151 0.7807; var_152 -0.8587; var_153 1.3298; var_154 0.5014; var_155 0.6812; var_156 1.1725; var_157 0.3296; var_158 0.8747; var_159 1.1649; var_160 -1.6586; var_161 -1.1912; var_162 0.2092; var_163 1.2494; var_164 -0.7551; var_165 0.1745; var_166 -0.4420; var_167 -0.6100; var_168 0.2646; var_169 -0.6816; var_170 1.1803; var_171 -1.4304; var_172 0.6048; var_173 0.6967; var_174 -2.4315; var_175 -0.7950; var_176 1.7363; var_177 -1.0741; var_178 1.5214; var_179 -0.1196; var_180 -0.0848; var_181 0.8337; var_182 -0.7328; var_183 -0.3210; var_184 -0.0379; var_185 1.2462; var_186 0.5386; var_187 -1.2186; var_188 1.1706; var_189 -0.6440; var_190 0.3399; var_191 0.2617; var_192 -0.2969; var_193 -0.4517; var_194 1.1963; var_195 -0.7855; var_196 -0.0414; var_197 0.7057; var_198 0.8169; var_199 -1.4086; ,\n",
       " FloatItem 1.0)"
      ]
     },
     "execution_count": 18,
     "metadata": {},
     "output_type": "execute_result"
    }
   ],
   "source": [
    "learn.data.train_ds[1]"
   ]
  },
  {
   "cell_type": "code",
   "execution_count": 22,
   "metadata": {},
   "outputs": [
    {
     "data": {
      "text/html": [],
      "text/plain": [
       "<IPython.core.display.HTML object>"
      ]
     },
     "metadata": {},
     "output_type": "display_data"
    },
    {
     "name": "stdout",
     "output_type": "stream",
     "text": [
      "LR Finder is complete, type {learner_name}.recorder.plot() to see the graph.\n"
     ]
    }
   ],
   "source": [
    "learn.lr_find()"
   ]
  },
  {
   "cell_type": "code",
   "execution_count": 23,
   "metadata": {},
   "outputs": [
    {
     "data": {
      "image/png": "[encoded data removed]",
      "text/plain": [
       "<Figure size 432x288 with 1 Axes>"
      ]
     },
     "metadata": {
      "needs_background": "light"
     },
     "output_type": "display_data"
    }
   ],
   "source": [
    "learn.recorder.plot()"
   ]
  },
  {
   "cell_type": "code",
   "execution_count": 256,
   "metadata": {},
   "outputs": [
    {
     "data": {
      "text/plain": [
       "FlattenedLoss of CrossEntropyLoss()"
      ]
     },
     "execution_count": 256,
     "metadata": {},
     "output_type": "execute_result"
    }
   ],
   "source": [
    "learn.loss_func"
   ]
  },
  {
   "cell_type": "code",
   "execution_count": 178,
   "metadata": {
    "scrolled": true
   },
   "outputs": [
    {
     "data": {
      "text/html": [
       "Total time: 00:58 <p><table border=\"1\" class=\"dataframe\">\n",
       "  <thead>\n",
       "    <tr style=\"text-align: left;\">\n",
       "      <th>epoch</th>\n",
       "      <th>train_loss</th>\n",
       "      <th>valid_loss</th>\n",
       "      <th>accuracy</th>\n",
       "      <th>time</th>\n",
       "    </tr>\n",
       "  </thead>\n",
       "  <tbody>\n",
       "    <tr>\n",
       "      <td>0</td>\n",
       "      <td>0.000018</td>\n",
       "      <td>#na#</td>\n",
       "      <td>00:00</td>\n",
       "    </tr>\n",
       "    <tr>\n",
       "      <td>1</td>\n",
       "      <td>0.000018</td>\n",
       "      <td>#na#</td>\n",
       "      <td>00:00</td>\n",
       "    </tr>\n",
       "    <tr>\n",
       "      <td>2</td>\n",
       "      <td>0.000018</td>\n",
       "      <td>#na#</td>\n",
       "      <td>00:00</td>\n",
       "    </tr>\n",
       "    <tr>\n",
       "      <td>3</td>\n",
       "      <td>0.000018</td>\n",
       "      <td>#na#</td>\n",
       "      <td>00:00</td>\n",
       "    </tr>\n",
       "    <tr>\n",
       "      <td>4</td>\n",
       "      <td>0.000018</td>\n",
       "      <td>#na#</td>\n",
       "      <td>00:00</td>\n",
       "    </tr>\n",
       "    <tr>\n",
       "      <td>5</td>\n",
       "      <td>0.000018</td>\n",
       "      <td>#na#</td>\n",
       "      <td>00:00</td>\n",
       "    </tr>\n",
       "    <tr>\n",
       "      <td>6</td>\n",
       "      <td>0.000018</td>\n",
       "      <td>#na#</td>\n",
       "      <td>00:00</td>\n",
       "    </tr>\n",
       "    <tr>\n",
       "      <td>7</td>\n",
       "      <td>0.000018</td>\n",
       "      <td>#na#</td>\n",
       "      <td>00:00</td>\n",
       "    </tr>\n",
       "    <tr>\n",
       "      <td>8</td>\n",
       "      <td>0.000018</td>\n",
       "      <td>#na#</td>\n",
       "      <td>00:00</td>\n",
       "    </tr>\n",
       "    <tr>\n",
       "      <td>9</td>\n",
       "      <td>0.000018</td>\n",
       "      <td>#na#</td>\n",
       "      <td>00:00</td>\n",
       "    </tr>\n",
       "    <tr>\n",
       "      <td>10</td>\n",
       "      <td>0.000018</td>\n",
       "      <td>#na#</td>\n",
       "      <td>00:00</td>\n",
       "    </tr>\n",
       "    <tr>\n",
       "      <td>11</td>\n",
       "      <td>0.000018</td>\n",
       "      <td>#na#</td>\n",
       "      <td>00:00</td>\n",
       "    </tr>\n",
       "    <tr>\n",
       "      <td>12</td>\n",
       "      <td>0.000018</td>\n",
       "      <td>#na#</td>\n",
       "      <td>00:00</td>\n",
       "    </tr>\n",
       "    <tr>\n",
       "      <td>13</td>\n",
       "      <td>0.000018</td>\n",
       "      <td>#na#</td>\n",
       "      <td>00:00</td>\n",
       "    </tr>\n",
       "    <tr>\n",
       "      <td>14</td>\n",
       "      <td>0.000018</td>\n",
       "      <td>#na#</td>\n",
       "      <td>00:00</td>\n",
       "    </tr>\n",
       "    <tr>\n",
       "      <td>15</td>\n",
       "      <td>0.000018</td>\n",
       "      <td>#na#</td>\n",
       "      <td>00:00</td>\n",
       "    </tr>\n",
       "    <tr>\n",
       "      <td>16</td>\n",
       "      <td>0.000018</td>\n",
       "      <td>#na#</td>\n",
       "      <td>00:00</td>\n",
       "    </tr>\n",
       "    <tr>\n",
       "      <td>17</td>\n",
       "      <td>0.000018</td>\n",
       "      <td>#na#</td>\n",
       "      <td>00:00</td>\n",
       "    </tr>\n",
       "    <tr>\n",
       "      <td>18</td>\n",
       "      <td>0.000018</td>\n",
       "      <td>#na#</td>\n",
       "      <td>00:00</td>\n",
       "    </tr>\n",
       "    <tr>\n",
       "      <td>19</td>\n",
       "      <td>0.000018</td>\n",
       "      <td>#na#</td>\n",
       "      <td>00:00</td>\n",
       "    </tr>\n",
       "    <tr>\n",
       "      <td>20</td>\n",
       "      <td>0.000018</td>\n",
       "      <td>#na#</td>\n",
       "      <td>00:00</td>\n",
       "    </tr>\n",
       "    <tr>\n",
       "      <td>21</td>\n",
       "      <td>0.000018</td>\n",
       "      <td>#na#</td>\n",
       "      <td>00:00</td>\n",
       "    </tr>\n",
       "    <tr>\n",
       "      <td>22</td>\n",
       "      <td>0.000018</td>\n",
       "      <td>#na#</td>\n",
       "      <td>00:00</td>\n",
       "    </tr>\n",
       "    <tr>\n",
       "      <td>23</td>\n",
       "      <td>0.000018</td>\n",
       "      <td>#na#</td>\n",
       "      <td>00:00</td>\n",
       "    </tr>\n",
       "    <tr>\n",
       "      <td>24</td>\n",
       "      <td>0.000018</td>\n",
       "      <td>#na#</td>\n",
       "      <td>00:00</td>\n",
       "    </tr>\n",
       "    <tr>\n",
       "      <td>25</td>\n",
       "      <td>0.000018</td>\n",
       "      <td>#na#</td>\n",
       "      <td>00:00</td>\n",
       "    </tr>\n",
       "    <tr>\n",
       "      <td>26</td>\n",
       "      <td>0.000018</td>\n",
       "      <td>#na#</td>\n",
       "      <td>00:00</td>\n",
       "    </tr>\n",
       "    <tr>\n",
       "      <td>27</td>\n",
       "      <td>0.000018</td>\n",
       "      <td>#na#</td>\n",
       "      <td>00:00</td>\n",
       "    </tr>\n",
       "    <tr>\n",
       "      <td>28</td>\n",
       "      <td>0.000018</td>\n",
       "      <td>#na#</td>\n",
       "      <td>00:00</td>\n",
       "    </tr>\n",
       "    <tr>\n",
       "      <td>29</td>\n",
       "      <td>0.000018</td>\n",
       "      <td>#na#</td>\n",
       "      <td>00:00</td>\n",
       "    </tr>\n",
       "    <tr>\n",
       "      <td>30</td>\n",
       "      <td>0.000018</td>\n",
       "      <td>#na#</td>\n",
       "      <td>00:00</td>\n",
       "    </tr>\n",
       "    <tr>\n",
       "      <td>31</td>\n",
       "      <td>0.000018</td>\n",
       "      <td>#na#</td>\n",
       "      <td>00:00</td>\n",
       "    </tr>\n",
       "    <tr>\n",
       "      <td>32</td>\n",
       "      <td>0.000018</td>\n",
       "      <td>#na#</td>\n",
       "      <td>00:00</td>\n",
       "    </tr>\n",
       "    <tr>\n",
       "      <td>33</td>\n",
       "      <td>0.000018</td>\n",
       "      <td>#na#</td>\n",
       "      <td>00:00</td>\n",
       "    </tr>\n",
       "    <tr>\n",
       "      <td>34</td>\n",
       "      <td>0.000018</td>\n",
       "      <td>#na#</td>\n",
       "      <td>00:00</td>\n",
       "    </tr>\n",
       "    <tr>\n",
       "      <td>35</td>\n",
       "      <td>0.000018</td>\n",
       "      <td>#na#</td>\n",
       "      <td>00:00</td>\n",
       "    </tr>\n",
       "    <tr>\n",
       "      <td>36</td>\n",
       "      <td>0.000018</td>\n",
       "      <td>#na#</td>\n",
       "      <td>00:00</td>\n",
       "    </tr>\n",
       "    <tr>\n",
       "      <td>37</td>\n",
       "      <td>0.000017</td>\n",
       "      <td>#na#</td>\n",
       "      <td>00:00</td>\n",
       "    </tr>\n",
       "    <tr>\n",
       "      <td>38</td>\n",
       "      <td>0.000017</td>\n",
       "      <td>#na#</td>\n",
       "      <td>00:00</td>\n",
       "    </tr>\n",
       "    <tr>\n",
       "      <td>39</td>\n",
       "      <td>0.000017</td>\n",
       "      <td>#na#</td>\n",
       "      <td>00:00</td>\n",
       "    </tr>\n",
       "    <tr>\n",
       "      <td>40</td>\n",
       "      <td>0.000017</td>\n",
       "      <td>#na#</td>\n",
       "      <td>00:00</td>\n",
       "    </tr>\n",
       "    <tr>\n",
       "      <td>41</td>\n",
       "      <td>0.000017</td>\n",
       "      <td>#na#</td>\n",
       "      <td>00:00</td>\n",
       "    </tr>\n",
       "    <tr>\n",
       "      <td>42</td>\n",
       "      <td>0.000017</td>\n",
       "      <td>#na#</td>\n",
       "      <td>00:00</td>\n",
       "    </tr>\n",
       "    <tr>\n",
       "      <td>43</td>\n",
       "      <td>0.000017</td>\n",
       "      <td>#na#</td>\n",
       "      <td>00:00</td>\n",
       "    </tr>\n",
       "    <tr>\n",
       "      <td>44</td>\n",
       "      <td>0.000017</td>\n",
       "      <td>#na#</td>\n",
       "      <td>00:00</td>\n",
       "    </tr>\n",
       "    <tr>\n",
       "      <td>45</td>\n",
       "      <td>0.000017</td>\n",
       "      <td>#na#</td>\n",
       "      <td>00:00</td>\n",
       "    </tr>\n",
       "    <tr>\n",
       "      <td>46</td>\n",
       "      <td>0.000017</td>\n",
       "      <td>#na#</td>\n",
       "      <td>00:00</td>\n",
       "    </tr>\n",
       "    <tr>\n",
       "      <td>47</td>\n",
       "      <td>0.000017</td>\n",
       "      <td>#na#</td>\n",
       "      <td>00:00</td>\n",
       "    </tr>\n",
       "    <tr>\n",
       "      <td>48</td>\n",
       "      <td>0.000017</td>\n",
       "      <td>#na#</td>\n",
       "      <td>00:00</td>\n",
       "    </tr>\n",
       "    <tr>\n",
       "      <td>49</td>\n",
       "      <td>0.000017</td>\n",
       "      <td>#na#</td>\n",
       "      <td>00:00</td>\n",
       "    </tr>\n",
       "    <tr>\n",
       "      <td>50</td>\n",
       "      <td>0.000017</td>\n",
       "      <td>#na#</td>\n",
       "      <td>00:00</td>\n",
       "    </tr>\n",
       "    <tr>\n",
       "      <td>51</td>\n",
       "      <td>0.000017</td>\n",
       "      <td>#na#</td>\n",
       "      <td>00:00</td>\n",
       "    </tr>\n",
       "    <tr>\n",
       "      <td>52</td>\n",
       "      <td>0.000017</td>\n",
       "      <td>#na#</td>\n",
       "      <td>00:00</td>\n",
       "    </tr>\n",
       "    <tr>\n",
       "      <td>53</td>\n",
       "      <td>0.000017</td>\n",
       "      <td>#na#</td>\n",
       "      <td>00:00</td>\n",
       "    </tr>\n",
       "    <tr>\n",
       "      <td>54</td>\n",
       "      <td>0.000017</td>\n",
       "      <td>#na#</td>\n",
       "      <td>00:00</td>\n",
       "    </tr>\n",
       "    <tr>\n",
       "      <td>55</td>\n",
       "      <td>0.000017</td>\n",
       "      <td>#na#</td>\n",
       "      <td>00:00</td>\n",
       "    </tr>\n",
       "    <tr>\n",
       "      <td>56</td>\n",
       "      <td>0.000017</td>\n",
       "      <td>#na#</td>\n",
       "      <td>00:00</td>\n",
       "    </tr>\n",
       "    <tr>\n",
       "      <td>57</td>\n",
       "      <td>0.000017</td>\n",
       "      <td>#na#</td>\n",
       "      <td>00:00</td>\n",
       "    </tr>\n",
       "    <tr>\n",
       "      <td>58</td>\n",
       "      <td>0.000017</td>\n",
       "      <td>#na#</td>\n",
       "      <td>00:00</td>\n",
       "    </tr>\n",
       "    <tr>\n",
       "      <td>59</td>\n",
       "      <td>0.000016</td>\n",
       "      <td>#na#</td>\n",
       "      <td>00:00</td>\n",
       "    </tr>\n",
       "    <tr>\n",
       "      <td>60</td>\n",
       "      <td>0.000016</td>\n",
       "      <td>#na#</td>\n",
       "      <td>00:00</td>\n",
       "    </tr>\n",
       "    <tr>\n",
       "      <td>61</td>\n",
       "      <td>0.000016</td>\n",
       "      <td>#na#</td>\n",
       "      <td>00:00</td>\n",
       "    </tr>\n",
       "    <tr>\n",
       "      <td>62</td>\n",
       "      <td>0.000016</td>\n",
       "      <td>#na#</td>\n",
       "      <td>00:00</td>\n",
       "    </tr>\n",
       "    <tr>\n",
       "      <td>63</td>\n",
       "      <td>0.000016</td>\n",
       "      <td>#na#</td>\n",
       "      <td>00:00</td>\n",
       "    </tr>\n",
       "    <tr>\n",
       "      <td>64</td>\n",
       "      <td>0.000016</td>\n",
       "      <td>#na#</td>\n",
       "      <td>00:00</td>\n",
       "    </tr>\n",
       "    <tr>\n",
       "      <td>65</td>\n",
       "      <td>0.000016</td>\n",
       "      <td>#na#</td>\n",
       "      <td>00:00</td>\n",
       "    </tr>\n",
       "    <tr>\n",
       "      <td>66</td>\n",
       "      <td>0.000016</td>\n",
       "      <td>#na#</td>\n",
       "      <td>00:00</td>\n",
       "    </tr>\n",
       "    <tr>\n",
       "      <td>67</td>\n",
       "      <td>0.000016</td>\n",
       "      <td>#na#</td>\n",
       "      <td>00:00</td>\n",
       "    </tr>\n",
       "    <tr>\n",
       "      <td>68</td>\n",
       "      <td>0.000016</td>\n",
       "      <td>#na#</td>\n",
       "      <td>00:00</td>\n",
       "    </tr>\n",
       "    <tr>\n",
       "      <td>69</td>\n",
       "      <td>0.000016</td>\n",
       "      <td>#na#</td>\n",
       "      <td>00:00</td>\n",
       "    </tr>\n",
       "    <tr>\n",
       "      <td>70</td>\n",
       "      <td>0.000016</td>\n",
       "      <td>#na#</td>\n",
       "      <td>00:00</td>\n",
       "    </tr>\n",
       "    <tr>\n",
       "      <td>71</td>\n",
       "      <td>0.000016</td>\n",
       "      <td>#na#</td>\n",
       "      <td>00:00</td>\n",
       "    </tr>\n",
       "    <tr>\n",
       "      <td>72</td>\n",
       "      <td>0.000016</td>\n",
       "      <td>#na#</td>\n",
       "      <td>00:00</td>\n",
       "    </tr>\n",
       "    <tr>\n",
       "      <td>73</td>\n",
       "      <td>0.000016</td>\n",
       "      <td>#na#</td>\n",
       "      <td>00:00</td>\n",
       "    </tr>\n",
       "    <tr>\n",
       "      <td>74</td>\n",
       "      <td>0.000016</td>\n",
       "      <td>#na#</td>\n",
       "      <td>00:00</td>\n",
       "    </tr>\n",
       "    <tr>\n",
       "      <td>75</td>\n",
       "      <td>0.000016</td>\n",
       "      <td>#na#</td>\n",
       "      <td>00:00</td>\n",
       "    </tr>\n",
       "    <tr>\n",
       "      <td>76</td>\n",
       "      <td>0.000016</td>\n",
       "      <td>#na#</td>\n",
       "      <td>00:00</td>\n",
       "    </tr>\n",
       "    <tr>\n",
       "      <td>77</td>\n",
       "      <td>0.000016</td>\n",
       "      <td>#na#</td>\n",
       "      <td>00:00</td>\n",
       "    </tr>\n",
       "    <tr>\n",
       "      <td>78</td>\n",
       "      <td>0.000016</td>\n",
       "      <td>#na#</td>\n",
       "      <td>00:00</td>\n",
       "    </tr>\n",
       "    <tr>\n",
       "      <td>79</td>\n",
       "      <td>0.000016</td>\n",
       "      <td>#na#</td>\n",
       "      <td>00:00</td>\n",
       "    </tr>\n",
       "    <tr>\n",
       "      <td>80</td>\n",
       "      <td>0.000016</td>\n",
       "      <td>#na#</td>\n",
       "      <td>00:00</td>\n",
       "    </tr>\n",
       "    <tr>\n",
       "      <td>81</td>\n",
       "      <td>0.000016</td>\n",
       "      <td>#na#</td>\n",
       "      <td>00:00</td>\n",
       "    </tr>\n",
       "    <tr>\n",
       "      <td>82</td>\n",
       "      <td>0.000016</td>\n",
       "      <td>#na#</td>\n",
       "      <td>00:00</td>\n",
       "    </tr>\n",
       "    <tr>\n",
       "      <td>83</td>\n",
       "      <td>0.000015</td>\n",
       "      <td>#na#</td>\n",
       "      <td>00:00</td>\n",
       "    </tr>\n",
       "    <tr>\n",
       "      <td>84</td>\n",
       "      <td>0.000015</td>\n",
       "      <td>#na#</td>\n",
       "      <td>00:00</td>\n",
       "    </tr>\n",
       "    <tr>\n",
       "      <td>85</td>\n",
       "      <td>0.000015</td>\n",
       "      <td>#na#</td>\n",
       "      <td>00:00</td>\n",
       "    </tr>\n",
       "    <tr>\n",
       "      <td>86</td>\n",
       "      <td>0.000015</td>\n",
       "      <td>#na#</td>\n",
       "      <td>00:00</td>\n",
       "    </tr>\n",
       "    <tr>\n",
       "      <td>87</td>\n",
       "      <td>0.000015</td>\n",
       "      <td>#na#</td>\n",
       "      <td>00:00</td>\n",
       "    </tr>\n",
       "    <tr>\n",
       "      <td>88</td>\n",
       "      <td>0.000015</td>\n",
       "      <td>#na#</td>\n",
       "      <td>00:00</td>\n",
       "    </tr>\n",
       "    <tr>\n",
       "      <td>89</td>\n",
       "      <td>0.000015</td>\n",
       "      <td>#na#</td>\n",
       "      <td>00:00</td>\n",
       "    </tr>\n",
       "    <tr>\n",
       "      <td>90</td>\n",
       "      <td>0.000015</td>\n",
       "      <td>#na#</td>\n",
       "      <td>00:00</td>\n",
       "    </tr>\n",
       "    <tr>\n",
       "      <td>91</td>\n",
       "      <td>0.000015</td>\n",
       "      <td>#na#</td>\n",
       "      <td>00:00</td>\n",
       "    </tr>\n",
       "    <tr>\n",
       "      <td>92</td>\n",
       "      <td>0.000015</td>\n",
       "      <td>#na#</td>\n",
       "      <td>00:00</td>\n",
       "    </tr>\n",
       "    <tr>\n",
       "      <td>93</td>\n",
       "      <td>0.000015</td>\n",
       "      <td>#na#</td>\n",
       "      <td>00:00</td>\n",
       "    </tr>\n",
       "    <tr>\n",
       "      <td>94</td>\n",
       "      <td>0.000015</td>\n",
       "      <td>#na#</td>\n",
       "      <td>00:00</td>\n",
       "    </tr>\n",
       "    <tr>\n",
       "      <td>95</td>\n",
       "      <td>0.000015</td>\n",
       "      <td>#na#</td>\n",
       "      <td>00:00</td>\n",
       "    </tr>\n",
       "    <tr>\n",
       "      <td>96</td>\n",
       "      <td>0.000015</td>\n",
       "      <td>#na#</td>\n",
       "      <td>00:00</td>\n",
       "    </tr>\n",
       "    <tr>\n",
       "      <td>97</td>\n",
       "      <td>0.000015</td>\n",
       "      <td>#na#</td>\n",
       "      <td>00:00</td>\n",
       "    </tr>\n",
       "    <tr>\n",
       "      <td>98</td>\n",
       "      <td>0.000015</td>\n",
       "      <td>#na#</td>\n",
       "      <td>00:00</td>\n",
       "    </tr>\n",
       "    <tr>\n",
       "      <td>99</td>\n",
       "      <td>0.000015</td>\n",
       "      <td>#na#</td>\n",
       "      <td>00:00</td>\n",
       "    </tr>\n",
       "  </tbody>\n",
       "</table>"
      ],
      "text/plain": [
       "<IPython.core.display.HTML object>"
      ]
     },
     "metadata": {},
     "output_type": "display_data"
    }
   ],
   "source": [
    "learn.fit_one_cycle(100,max_lr=.1)"
   ]
  },
  {
   "cell_type": "code",
   "execution_count": 185,
   "metadata": {},
   "outputs": [
    {
     "data": {
      "text/html": [
       "Total time: 00:10 <p><table border=\"1\" class=\"dataframe\">\n",
       "  <thead>\n",
       "    <tr style=\"text-align: left;\">\n",
       "      <th>epoch</th>\n",
       "      <th>train_loss</th>\n",
       "      <th>valid_loss</th>\n",
       "      <th>accuracy</th>\n",
       "      <th>time</th>\n",
       "    </tr>\n",
       "  </thead>\n",
       "  <tbody>\n",
       "    <tr>\n",
       "      <td>0</td>\n",
       "      <td>0.000014</td>\n",
       "      <td>#na#</td>\n",
       "      <td>00:00</td>\n",
       "    </tr>\n",
       "    <tr>\n",
       "      <td>1</td>\n",
       "      <td>0.000014</td>\n",
       "      <td>#na#</td>\n",
       "      <td>00:00</td>\n",
       "    </tr>\n",
       "    <tr>\n",
       "      <td>2</td>\n",
       "      <td>0.000014</td>\n",
       "      <td>#na#</td>\n",
       "      <td>00:00</td>\n",
       "    </tr>\n",
       "    <tr>\n",
       "      <td>3</td>\n",
       "      <td>0.000014</td>\n",
       "      <td>#na#</td>\n",
       "      <td>00:00</td>\n",
       "    </tr>\n",
       "    <tr>\n",
       "      <td>4</td>\n",
       "      <td>0.000014</td>\n",
       "      <td>#na#</td>\n",
       "      <td>00:00</td>\n",
       "    </tr>\n",
       "    <tr>\n",
       "      <td>5</td>\n",
       "      <td>0.000014</td>\n",
       "      <td>#na#</td>\n",
       "      <td>00:00</td>\n",
       "    </tr>\n",
       "    <tr>\n",
       "      <td>6</td>\n",
       "      <td>0.000014</td>\n",
       "      <td>#na#</td>\n",
       "      <td>00:00</td>\n",
       "    </tr>\n",
       "    <tr>\n",
       "      <td>7</td>\n",
       "      <td>0.000013</td>\n",
       "      <td>#na#</td>\n",
       "      <td>00:00</td>\n",
       "    </tr>\n",
       "    <tr>\n",
       "      <td>8</td>\n",
       "      <td>0.000013</td>\n",
       "      <td>#na#</td>\n",
       "      <td>00:00</td>\n",
       "    </tr>\n",
       "    <tr>\n",
       "      <td>9</td>\n",
       "      <td>0.000013</td>\n",
       "      <td>#na#</td>\n",
       "      <td>00:00</td>\n",
       "    </tr>\n",
       "    <tr>\n",
       "      <td>10</td>\n",
       "      <td>0.000013</td>\n",
       "      <td>#na#</td>\n",
       "      <td>00:00</td>\n",
       "    </tr>\n",
       "    <tr>\n",
       "      <td>11</td>\n",
       "      <td>0.000013</td>\n",
       "      <td>#na#</td>\n",
       "      <td>00:00</td>\n",
       "    </tr>\n",
       "    <tr>\n",
       "      <td>12</td>\n",
       "      <td>0.000013</td>\n",
       "      <td>#na#</td>\n",
       "      <td>00:00</td>\n",
       "    </tr>\n",
       "    <tr>\n",
       "      <td>13</td>\n",
       "      <td>0.000013</td>\n",
       "      <td>#na#</td>\n",
       "      <td>00:00</td>\n",
       "    </tr>\n",
       "    <tr>\n",
       "      <td>14</td>\n",
       "      <td>0.000013</td>\n",
       "      <td>#na#</td>\n",
       "      <td>00:00</td>\n",
       "    </tr>\n",
       "    <tr>\n",
       "      <td>15</td>\n",
       "      <td>0.000013</td>\n",
       "      <td>#na#</td>\n",
       "      <td>00:00</td>\n",
       "    </tr>\n",
       "    <tr>\n",
       "      <td>16</td>\n",
       "      <td>0.000013</td>\n",
       "      <td>#na#</td>\n",
       "      <td>00:00</td>\n",
       "    </tr>\n",
       "    <tr>\n",
       "      <td>17</td>\n",
       "      <td>0.000013</td>\n",
       "      <td>#na#</td>\n",
       "      <td>00:00</td>\n",
       "    </tr>\n",
       "    <tr>\n",
       "      <td>18</td>\n",
       "      <td>0.000013</td>\n",
       "      <td>#na#</td>\n",
       "      <td>00:00</td>\n",
       "    </tr>\n",
       "    <tr>\n",
       "      <td>19</td>\n",
       "      <td>0.000013</td>\n",
       "      <td>#na#</td>\n",
       "      <td>00:00</td>\n",
       "    </tr>\n",
       "  </tbody>\n",
       "</table>"
      ],
      "text/plain": [
       "<IPython.core.display.HTML object>"
      ]
     },
     "metadata": {},
     "output_type": "display_data"
    }
   ],
   "source": [
    "learn.fit(20,lr=.1)"
   ]
  },
  {
   "cell_type": "code",
   "execution_count": 190,
   "metadata": {},
   "outputs": [
    {
     "data": {
      "image/png": "[encoded data removed]",
      "text/plain": [
       "<Figure size 432x288 with 1 Axes>"
      ]
     },
     "metadata": {
      "needs_background": "light"
     },
     "output_type": "display_data"
    }
   ],
   "source": [
    "learn.recorder.plot_losses()"
   ]
  },
  {
   "cell_type": "code",
   "execution_count": 203,
   "metadata": {},
   "outputs": [],
   "source": [
    "p = learn.get_preds(DatasetType.Train)"
   ]
  },
  {
   "cell_type": "code",
   "execution_count": 202,
   "metadata": {},
   "outputs": [
    {
     "data": {
      "text/plain": [
       "Learner(data=TabularDataBunch;\n",
       "\n",
       "Train: LabelList (2 items)\n",
       "x: TabularList\n",
       "var_0 0.7071; var_1 0.7071; var_2 0.7071; var_3 0.7071; var_4 0.7071; var_5 0.7071; var_6 -0.7071; var_7 0.7071; var_8 0.7071; var_9 0.7071; var_10 -0.7071; var_11 -0.7071; var_12 -0.7071; var_13 0.7071; var_14 -0.7071; var_15 0.7071; var_16 0.7071; var_17 0.7071; var_18 0.7071; var_19 -0.7071; var_20 0.7071; var_21 0.7071; var_22 -0.7071; var_23 0.7071; var_24 -0.7071; var_25 0.7071; var_26 -0.7071; var_27 -0.7071; var_28 0.7071; var_29 0.7071; var_30 -0.7071; var_31 -0.7071; var_32 0.7071; var_33 -0.7071; var_34 -0.7071; var_35 -0.7071; var_36 -0.7071; var_37 -0.7071; var_38 0.7071; var_39 -0.7071; var_40 0.7071; var_41 0.7071; var_42 0.7071; var_43 -0.7071; var_44 -0.7071; var_45 0.7071; var_46 0.7071; var_47 -0.7071; var_48 -0.7071; var_49 0.7071; var_50 0.7071; var_51 -0.7071; var_52 -0.7071; var_53 0.7071; var_54 0.7071; var_55 -0.7071; var_56 0.7071; var_57 -0.7071; var_58 0.7071; var_59 -0.7071; var_60 -0.7071; var_61 -0.7071; var_62 -0.7071; var_63 -0.7071; var_64 -0.7071; var_65 -0.7071; var_66 0.7071; var_67 -0.7071; var_68 0.7071; var_69 -0.7071; var_70 0.7071; var_71 0.7071; var_72 -0.7071; var_73 -0.7071; var_74 -0.7071; var_75 -0.7071; var_76 0.7071; var_77 0.7071; var_78 -0.7071; var_79 0.7071; var_80 -0.7071; var_81 -0.7071; var_82 -0.7071; var_83 -0.7071; var_84 0.7071; var_85 -0.7071; var_86 -0.7071; var_87 -0.7071; var_88 -0.7071; var_89 0.7071; var_90 0.7071; var_91 0.7071; var_92 0.7071; var_93 0.7071; var_94 0.7071; var_95 0.7071; var_96 0.7071; var_97 -0.7071; var_98 0.7071; var_99 0.7071; var_100 -0.7071; var_101 -0.7071; var_102 -0.7071; var_103 -0.7071; var_104 -0.7071; var_105 -0.7071; var_106 -0.7071; var_107 -0.7071; var_108 0.7071; var_109 -0.7071; var_110 0.7071; var_111 -0.7071; var_112 -0.7071; var_113 0.7071; var_114 0.7071; var_115 -0.7071; var_116 -0.7071; var_117 -0.7071; var_118 0.7071; var_119 -0.7071; var_120 -0.7071; var_121 0.7071; var_122 -0.7071; var_123 0.7071; var_124 -0.7071; var_125 0.7071; var_126 -0.7071; var_127 0.7071; var_128 -0.7071; var_129 0.7071; var_130 -0.7071; var_131 0.7071; var_132 -0.7071; var_133 0.7071; var_134 -0.7071; var_135 0.7071; var_136 0.7071; var_137 -0.7071; var_138 -0.7071; var_139 -0.7071; var_140 -0.7071; var_141 0.7071; var_142 -0.7071; var_143 0.7071; var_144 0.7071; var_145 -0.7071; var_146 -0.7071; var_147 0.7071; var_148 -0.7071; var_149 -0.7071; var_150 -0.7071; var_151 -0.7071; var_152 -0.7071; var_153 0.7071; var_154 -0.7071; var_155 -0.7071; var_156 0.7071; var_157 0.7071; var_158 0.7071; var_159 -0.7071; var_160 0.7071; var_161 0.7071; var_162 0.7071; var_163 0.7071; var_164 -0.7071; var_165 -0.7071; var_166 0.7071; var_167 -0.7071; var_168 -0.7071; var_169 0.7071; var_170 0.7071; var_171 -0.7071; var_172 -0.7071; var_173 -0.7071; var_174 -0.7071; var_175 0.7071; var_176 -0.7071; var_177 0.7071; var_178 0.7071; var_179 0.7071; var_180 0.7071; var_181 0.7071; var_182 -0.7071; var_183 -0.7071; var_184 -0.7071; var_185 -0.7071; var_186 -0.7071; var_187 0.7071; var_188 -0.7071; var_189 -0.7071; var_190 0.7071; var_191 0.7071; var_192 0.7071; var_193 0.7071; var_194 -0.7071; var_195 0.7071; var_196 0.7071; var_197 0.7071; var_198 0.7071; var_199 -0.7071; ,var_0 -0.7071; var_1 -0.7071; var_2 -0.7071; var_3 -0.7071; var_4 -0.7071; var_5 -0.7071; var_6 0.7071; var_7 -0.7071; var_8 -0.7071; var_9 -0.7071; var_10 0.7071; var_11 0.7071; var_12 0.7071; var_13 -0.7071; var_14 0.7071; var_15 -0.7071; var_16 -0.7071; var_17 -0.7071; var_18 -0.7071; var_19 0.7071; var_20 -0.7071; var_21 -0.7071; var_22 0.7071; var_23 -0.7071; var_24 0.7071; var_25 -0.7071; var_26 0.7071; var_27 0.7071; var_28 -0.7071; var_29 -0.7071; var_30 0.7071; var_31 0.7071; var_32 -0.7071; var_33 0.7071; var_34 0.7071; var_35 0.7071; var_36 0.7071; var_37 0.7071; var_38 -0.7071; var_39 0.7071; var_40 -0.7071; var_41 -0.7071; var_42 -0.7071; var_43 0.7071; var_44 0.7071; var_45 -0.7071; var_46 -0.7071; var_47 0.7071; var_48 0.7071; var_49 -0.7071; var_50 -0.7071; var_51 0.7071; var_52 0.7071; var_53 -0.7071; var_54 -0.7071; var_55 0.7071; var_56 -0.7071; var_57 0.7071; var_58 -0.7071; var_59 0.7071; var_60 0.7071; var_61 0.7071; var_62 0.7071; var_63 0.7071; var_64 0.7071; var_65 0.7071; var_66 -0.7071; var_67 0.7071; var_68 -0.7071; var_69 0.7071; var_70 -0.7071; var_71 -0.7071; var_72 0.7071; var_73 0.7071; var_74 0.7071; var_75 0.7071; var_76 -0.7071; var_77 -0.7071; var_78 0.7071; var_79 -0.7071; var_80 0.7071; var_81 0.7071; var_82 0.7071; var_83 0.7071; var_84 -0.7071; var_85 0.7071; var_86 0.7071; var_87 0.7071; var_88 0.7071; var_89 -0.7071; var_90 -0.7071; var_91 -0.7071; var_92 -0.7071; var_93 -0.7071; var_94 -0.7071; var_95 -0.7071; var_96 -0.7071; var_97 0.7071; var_98 -0.7071; var_99 -0.7071; var_100 0.7071; var_101 0.7071; var_102 0.7071; var_103 0.7071; var_104 0.7071; var_105 0.7071; var_106 0.7071; var_107 0.7071; var_108 -0.7071; var_109 0.7071; var_110 -0.7071; var_111 0.7071; var_112 0.7071; var_113 -0.7071; var_114 -0.7071; var_115 0.7071; var_116 0.7071; var_117 0.7071; var_118 -0.7071; var_119 0.7071; var_120 0.7071; var_121 -0.7071; var_122 0.7071; var_123 -0.7071; var_124 0.7071; var_125 -0.7071; var_126 0.7071; var_127 -0.7071; var_128 0.7071; var_129 -0.7071; var_130 0.7071; var_131 -0.7071; var_132 0.7071; var_133 -0.7071; var_134 0.7071; var_135 -0.7071; var_136 -0.7071; var_137 0.7071; var_138 0.7071; var_139 0.7071; var_140 0.7071; var_141 -0.7071; var_142 0.7071; var_143 -0.7071; var_144 -0.7071; var_145 0.7071; var_146 0.7071; var_147 -0.7071; var_148 0.7071; var_149 0.7071; var_150 0.7071; var_151 0.7071; var_152 0.7071; var_153 -0.7071; var_154 0.7071; var_155 0.7071; var_156 -0.7071; var_157 -0.7071; var_158 -0.7071; var_159 0.7071; var_160 -0.7071; var_161 -0.7071; var_162 -0.7071; var_163 -0.7071; var_164 0.7071; var_165 0.7071; var_166 -0.7071; var_167 0.7071; var_168 0.7071; var_169 -0.7071; var_170 -0.7071; var_171 0.7071; var_172 0.7071; var_173 0.7071; var_174 0.7071; var_175 -0.7071; var_176 0.7071; var_177 -0.7071; var_178 -0.7071; var_179 -0.7071; var_180 -0.7071; var_181 -0.7071; var_182 0.7071; var_183 0.7071; var_184 0.7071; var_185 0.7071; var_186 0.7071; var_187 -0.7071; var_188 0.7071; var_189 0.7071; var_190 -0.7071; var_191 -0.7071; var_192 -0.7071; var_193 -0.7071; var_194 0.7071; var_195 -0.7071; var_196 -0.7071; var_197 -0.7071; var_198 -0.7071; var_199 0.7071; \n",
       "y: CategoryList\n",
       "1,0\n",
       "Path: .;\n",
       "\n",
       "Valid: LabelList (0 items)\n",
       "x: TabularList\n",
       "\n",
       "y: CategoryList\n",
       "\n",
       "Path: .;\n",
       "\n",
       "Test: LabelList (200000 items)\n",
       "x: TabularList\n",
       "var_0 -0.3006; var_1 1.7512; var_2 -0.4011; var_3 2.0305; var_4 -0.7650; var_5 -0.0642; var_6 4.1918; var_7 -0.9236; var_8 0.9482; var_9 0.7609; var_10 -11.0286; var_11 -0.0269; var_12 0.4154; var_13 -0.8529; var_14 -0.0101; var_15 -1.3087; var_16 1.1222; var_17 -4.2260; var_18 0.8724; var_19 -0.2476; var_20 -2.2366; var_21 0.4339; var_22 -0.8092; var_23 20.7701; var_24 -0.8389; var_25 3.8759; var_26 -0.0874; var_27 -3.4551; var_28 3.7648; var_29 -3.0152; var_30 0.5729; var_31 -0.0899; var_32 14.4949; var_33 -1.5720; var_34 1.5270; var_35 -0.1887; var_36 -0.1711; var_37 -1.0758; var_38 1.5561; var_39 3.0998; var_40 -6.6560; var_41 0.5492; var_42 -4.0695; var_43 0.1697; var_44 1.2231; var_45 -4.1793; var_46 0.1052; var_47 15.2922; var_48 1.0587; var_49 2.5298; var_50 -0.2933; var_51 -22.1487; var_52 -0.1935; var_53 0.4544; var_54 -0.6427; var_55 1.6613; var_56 1.5426; var_57 4.1514; var_58 -2.3184; var_59 0.0526; var_60 0.0180; var_61 0.2469; var_62 -165.0226; var_63 2.8762; var_64 -0.8047; var_65 -0.2818; var_66 -0.1187; var_67 -0.4247; var_68 -0.5621; var_69 8.6724; var_70 0.0588; var_71 0.7877; var_72 -0.7291; var_73 5.1575; var_74 -1.9083; var_75 1.4058; var_76 -0.0623; var_77 -46.6784; var_78 -2.9209; var_79 2.1799; var_80 0.3782; var_81 3.3067; var_82 2.6552; var_83 1.9677; var_84 -0.4289; var_85 -1.4176; var_86 -0.1498; var_87 1.3860; var_88 11.0987; var_89 6.0516; var_90 0.0265; var_91 1.2341; var_92 0.5022; var_93 0.4081; var_94 -51.9824; var_95 -4.3137; var_96 -0.9585; var_97 2.7799; var_98 -0.8658; var_99 6.2984; var_100 -3.4107; var_101 1.7691; var_102 2.5332; var_103 1.1615; var_104 0.1078; var_105 -1.2593; var_106 0.0119; var_107 0.1791; var_108 -2.8445; var_109 -2.2898; var_110 -0.2446; var_111 -6.3847; var_112 2.2242; var_113 1.1227; var_114 -2.7256; var_115 0.7181; var_116 1.1998; var_117 -11.9017; var_118 0.1686; var_119 0.8849; var_120 8.4641; var_121 0.4933; var_122 0.2571; var_123 1.0203; var_124 -14.0914; var_125 0.8974; var_126 0.9000; var_127 6.7981; var_128 -0.4312; var_129 0.0387; var_130 0.3247; var_131 8.6510; var_132 1.0821; var_133 8.4688; var_134 -1.3930; var_135 -1.2823; var_136 -10.7282; var_137 -0.0636; var_138 -2.3365; var_139 -1.1100; var_140 -1.8278; var_141 -0.4527; var_142 1.2884; var_143 61.5353; var_144 -0.1974; var_145 -0.2990; var_146 0.7822; var_147 -0.0523; var_148 1.3334; var_149 -0.3809; var_150 0.9561; var_151 0.4886; var_152 0.1342; var_153 -1.8200; var_154 4.6091; var_155 0.4657; var_156 -0.9327; var_157 0.5090; var_158 -4.4150; var_159 0.5527; var_160 -1.4970; var_161 -0.4465; var_162 -0.4815; var_163 -0.5604; var_164 -0.8629; var_165 19.4069; var_166 -1.0796; var_167 0.8675; var_168 -2.9603; var_169 -3.1137; var_170 0.8233; var_171 62.0562; var_172 21.2801; var_173 2.0926; var_174 0.4917; var_175 14.1984; var_176 6.3318; var_177 -4.0785; var_178 -1.0919; var_179 -0.5888; var_180 -0.2033; var_181 4.7971; var_182 -10.3606; var_183 -5.4216; var_184 1.2663; var_185 -1.1848; var_186 -2.8033; var_187 -0.9996; var_188 -0.3783; var_189 1.9984; var_190 -3.8510; var_191 2.5356; var_192 -5.8222; var_193 -0.2607; var_194 -5.1644; var_195 5.5723; var_196 -3.4577; var_197 5.6678; var_198 0.6400; var_199 -0.3981; ,var_0 -0.7822; var_1 0.6499; var_2 -0.8837; var_3 -0.6485; var_4 -5.3846; var_5 -0.2161; var_6 5.0041; var_7 -0.7041; var_8 -0.5882; var_9 -0.5984; var_10 -9.5020; var_11 0.3650; var_12 1.3633; var_13 0.5631; var_14 -1.1742; var_15 -4.0534; var_16 0.4826; var_17 2.8246; var_18 2.7712; var_19 -1.3040; var_20 -0.3459; var_21 -6.4757; var_22 4.8132; var_23 -2.4722; var_24 1.0625; var_25 -0.2413; var_26 0.6915; var_27 -6.8911; var_28 3.7494; var_29 -3.8401; var_30 -0.2086; var_31 0.3983; var_32 6.7390; var_33 -0.1493; var_34 -2.5162; var_35 -2.8587; var_36 7.9323; var_37 -1.5635; var_38 2.9225; var_39 -1.9498; var_40 8.0342; var_41 -1.1703; var_42 -12.3185; var_43 -0.0103; var_44 -2.1216; var_45 -5.4590; var_46 0.2811; var_47 -1.3043; var_48 -2.1853; var_49 1.3244; var_50 -4.5073; var_51 -4.9963; var_52 1.1991; var_53 0.1985; var_54 2.0484; var_55 1.5489; var_56 2.2150; var_57 5.8944; var_58 -0.7833; var_59 0.2167; var_60 -1.0506; var_61 -0.5693; var_62 -42.2952; var_63 -2.3384; var_64 -1.7469; var_65 -0.2500; var_66 -5.4998; var_67 -0.7643; var_68 1.0788; var_69 -5.6969; var_70 -1.3195; var_71 0.1365; var_72 -0.1521; var_73 3.3370; var_74 -5.1302; var_75 0.6669; var_76 -0.0869; var_77 -6.9986; var_78 0.5531; var_79 -0.1802; var_80 -0.2158; var_81 0.8794; var_82 1.4960; var_83 1.9580; var_84 -1.2592; var_85 -1.4309; var_86 0.7398; var_87 -0.4642; var_88 0.9622; var_89 2.3174; var_90 -0.4929; var_91 1.8841; var_92 0.5361; var_93 4.1966; var_94 -51.5567; var_95 0.0440; var_96 -0.5983; var_97 2.7057; var_98 -1.2699; var_99 1.9462; var_100 -1.7601; var_101 1.2810; var_102 4.4545; var_103 2.6189; var_104 0.1751; var_105 -1.8095; var_106 -0.9763; var_107 -0.5652; var_108 -7.9417; var_109 -1.4347; var_110 -0.7857; var_111 -11.0661; var_112 -0.0458; var_113 0.4730; var_114 6.7327; var_115 0.5865; var_116 0.3181; var_117 -5.2084; var_118 0.1426; var_119 -0.3252; var_120 1.0170; var_121 0.6737; var_122 3.0251; var_123 0.8418; var_124 7.1432; var_125 -0.6874; var_126 0.9818; var_127 -9.2402; var_128 -0.9845; var_129 -4.6959; var_130 -1.6186; var_131 0.9520; var_132 0.7650; var_133 4.3463; var_134 0.1482; var_135 0.1457; var_136 -7.9483; var_137 -0.7908; var_138 0.9626; var_139 -0.1817; var_140 1.2277; var_141 0.8269; var_142 -12.0060; var_143 -105.2519; var_144 -0.3476; var_145 -1.8258; var_146 -1.1479; var_147 1.2321; var_148 1.5250; var_149 -1.9831; var_150 0.9283; var_151 0.3633; var_152 -2.1801; var_153 -1.1309; var_154 -0.5366; var_155 0.6121; var_156 1.6078; var_157 1.6193; var_158 -15.9129; var_159 1.4751; var_160 0.5775; var_161 0.2476; var_162 -0.6319; var_163 0.9719; var_164 -1.0731; var_165 5.8852; var_166 0.6029; var_167 4.4849; var_168 -1.0682; var_169 -1.4671; var_170 -0.0301; var_171 2.2075; var_172 23.3801; var_173 -1.5817; var_174 -3.3299; var_175 5.4199; var_176 6.4497; var_177 -6.0552; var_178 -0.8659; var_179 0.0145; var_180 0.4405; var_181 11.2580; var_182 -7.3118; var_183 -4.3137; var_184 0.6418; var_185 -3.2488; var_186 0.6868; var_187 0.1280; var_188 0.2873; var_189 1.1829; var_190 2.2413; var_191 1.2959; var_192 -3.1671; var_193 4.2505; var_194 -2.8882; var_195 3.0041; var_196 -8.0386; var_197 3.1592; var_198 2.4700; var_199 -2.1737; ,var_0 -1.3611; var_1 -1.3099; var_2 -1.2244; var_3 0.5271; var_4 -3.1828; var_5 1.0708; var_6 -0.3599; var_7 0.2736; var_8 0.8049; var_9 0.5376; var_10 -17.3846; var_11 0.1010; var_12 -1.5326; var_13 1.3612; var_14 1.8784; var_15 -3.8154; var_16 3.1638; var_17 2.2302; var_18 1.6606; var_19 0.0571; var_20 -0.2743; var_21 -2.4048; var_22 4.0306; var_23 10.9393; var_24 -1.0790; var_25 0.1905; var_26 -1.1735; var_27 1.2711; var_28 12.6651; var_29 -3.3863; var_30 -0.0896; var_31 0.0125; var_32 17.1568; var_33 3.7065; var_34 5.1562; var_35 0.4666; var_36 4.7492; var_37 -0.4778; var_38 0.7977; var_39 -0.7584; var_40 -8.6331; var_41 -0.9417; var_42 -23.6287; var_43 1.0565; var_44 -0.2749; var_45 2.3705; var_46 -0.1656; var_47 -3.5043; var_48 -1.4972; var_49 0.0804; var_50 -3.8758; var_51 -27.9567; var_52 0.7181; var_53 -0.4489; var_54 2.2342; var_55 6.5512; var_56 1.7012; var_57 1.0453; var_58 -2.0218; var_59 -0.6195; var_60 -0.4607; var_61 0.1343; var_62 43.4592; var_63 6.3300; var_64 1.0739; var_65 0.3474; var_66 -3.7015; var_67 -1.2616; var_68 -0.8521; var_69 23.7408; var_70 -0.8661; var_71 -1.5469; var_72 0.0812; var_73 6.1114; var_74 -2.8930; var_75 0.3124; var_76 -1.1991; var_77 -19.3072; var_78 1.9220; var_79 1.1571; var_80 0.9066; var_81 1.1245; var_82 0.7024; var_83 0.1051; var_84 -0.3750; var_85 -13.1113; var_86 -1.7955; var_87 0.4031; var_88 -0.6538; var_89 -3.1177; var_90 -1.3929; var_91 0.8238; var_92 -0.3022; var_93 -3.1171; var_94 -9.7978; var_95 -4.2419; var_96 -0.9683; var_97 -0.2760; var_98 -3.0382; var_99 6.1965; var_100 -2.1523; var_101 0.9345; var_102 1.3223; var_103 0.2942; var_104 -0.5594; var_105 -0.6396; var_106 -0.0285; var_107 1.6358; var_108 -2.7156; var_109 -0.8750; var_110 1.0685; var_111 13.9835; var_112 -7.3464; var_113 0.4659; var_114 -7.9338; var_115 0.9458; var_116 1.1580; var_117 18.7727; var_118 0.5925; var_119 -0.7217; var_120 4.8184; var_121 1.0539; var_122 4.7361; var_123 0.7267; var_124 -8.4432; var_125 1.4070; var_126 1.0544; var_127 4.1059; var_128 2.6576; var_129 -1.7723; var_130 0.5440; var_131 5.8226; var_132 -0.0350; var_133 -0.4398; var_134 -0.3878; var_135 0.8483; var_136 -0.4628; var_137 -0.6820; var_138 3.2054; var_139 -1.4587; var_140 -1.7103; var_141 -0.1954; var_142 -9.8661; var_143 58.0531; var_144 -0.0429; var_145 -0.8883; var_146 0.7793; var_147 3.8493; var_148 2.6935; var_149 0.4248; var_150 -3.2506; var_151 1.5373; var_152 0.8932; var_153 -0.7843; var_154 -0.7703; var_155 -0.9177; var_156 -0.3457; var_157 2.1957; var_158 13.2617; var_159 0.3949; var_160 1.2735; var_161 -0.1500; var_162 -1.0230; var_163 -0.8552; var_164 -0.0338; var_165 1.8640; var_166 0.3647; var_167 -0.6394; var_168 -5.1291; var_169 4.5725; var_170 0.0942; var_171 60.9456; var_172 -9.2939; var_173 -0.8912; var_174 5.1357; var_175 26.0195; var_176 0.2054; var_177 1.1390; var_178 -1.8180; var_179 -0.1405; var_180 -0.0142; var_181 -2.5560; var_182 -2.8217; var_183 0.1814; var_184 0.5684; var_185 -1.8074; var_186 -8.8098; var_187 0.6318; var_188 -0.8128; var_189 1.4246; var_190 -3.1798; var_191 2.1836; var_192 -2.0021; var_193 -0.4198; var_194 -6.0551; var_195 5.1350; var_196 -12.4416; var_197 -5.1463; var_198 2.8535; var_199 -2.4929; ,var_0 -0.7808; var_1 0.2151; var_2 -0.6738; var_3 0.2285; var_4 -6.1112; var_5 0.4532; var_6 -0.1467; var_7 0.4619; var_8 1.2396; var_9 0.1128; var_10 -6.2056; var_11 -0.0961; var_12 0.9644; var_13 7.5349; var_14 0.6884; var_15 0.7411; var_16 3.3085; var_17 -3.1153; var_18 -1.0087; var_19 0.1007; var_20 0.1896; var_21 -2.3241; var_22 1.3074; var_23 63.2469; var_24 0.5895; var_25 4.0201; var_26 1.8335; var_27 -1.4869; var_28 1.1640; var_29 -0.0862; var_30 1.2950; var_31 -0.0265; var_32 15.2550; var_33 -2.9912; var_34 -1.5386; var_35 -4.1313; var_36 7.1334; var_37 -1.1871; var_38 4.5580; var_39 3.1346; var_40 -0.4747; var_41 -1.4082; var_42 8.5438; var_43 -0.8930; var_44 -0.7725; var_45 -1.5357; var_46 0.3074; var_47 12.9085; var_48 5.3133; var_49 -0.5582; var_50 -1.6680; var_51 -42.4278; var_52 -0.0346; var_53 -0.1230; var_54 -0.0756; var_55 0.0251; var_56 0.4524; var_57 5.6993; var_58 -0.7659; var_59 0.6447; var_60 0.5617; var_61 0.2165; var_62 -74.0363; var_63 6.1912; var_64 0.2492; var_65 -0.3291; var_66 -0.0727; var_67 -1.4334; var_68 -0.9065; var_69 -11.6403; var_70 -1.5388; var_71 -1.6326; var_72 -0.4064; var_73 -0.5228; var_74 -4.4991; var_75 -0.5863; var_76 0.2878; var_77 -20.3696; var_78 -0.3746; var_79 0.3754; var_80 1.0193; var_81 2.0627; var_82 -1.4618; var_83 2.6902; var_84 -0.0367; var_85 2.4880; var_86 -0.7057; var_87 0.7176; var_88 6.3738; var_89 0.7183; var_90 -0.7087; var_91 0.1699; var_92 -1.0413; var_93 2.0998; var_94 -22.5688; var_95 -0.6691; var_96 0.1141; var_97 4.2555; var_98 -3.1704; var_99 7.3058; var_100 -1.0051; var_101 -2.1543; var_102 -8.6614; var_103 1.3864; var_104 0.2827; var_105 -1.7161; var_106 -0.6482; var_107 1.1636; var_108 1.3566; var_109 0.2792; var_110 1.5099; var_111 -6.4410; var_112 4.0036; var_113 0.9331; var_114 -2.5588; var_115 1.4063; var_116 0.2334; var_117 -2.5068; var_118 2.0075; var_119 0.8433; var_120 1.9221; var_121 -0.1976; var_122 8.5778; var_123 0.1460; var_124 1.1097; var_125 -0.6979; var_126 0.6043; var_127 2.9854; var_128 1.0196; var_129 3.7343; var_130 0.4864; var_131 6.7088; var_132 -1.2226; var_133 1.4375; var_134 0.8601; var_135 -1.9281; var_136 -6.2363; var_137 -0.3496; var_138 -1.1678; var_139 0.4207; var_140 1.4056; var_141 0.6663; var_142 -7.8597; var_143 12.6642; var_144 0.3810; var_145 -0.5276; var_146 -1.1930; var_147 1.7916; var_148 -1.0310; var_149 -2.2417; var_150 -3.9620; var_151 0.4645; var_152 -0.5115; var_153 -1.5206; var_154 -1.7920; var_155 -3.6832; var_156 0.5209; var_157 0.6514; var_158 -9.8599; var_159 1.5922; var_160 -0.3536; var_161 -0.5079; var_162 -0.6423; var_163 -0.1959; var_164 -1.1163; var_165 22.8932; var_166 -0.8560; var_167 1.8557; var_168 -0.9110; var_169 0.5081; var_170 1.3226; var_171 72.8192; var_172 -45.5752; var_173 2.7962; var_174 -1.3023; var_175 8.7258; var_176 3.2903; var_177 -0.4986; var_178 1.2983; var_179 -0.8349; var_180 1.6188; var_181 2.5296; var_182 2.4520; var_183 -4.7181; var_184 -1.0908; var_185 0.1126; var_186 -11.0197; var_187 -0.7121; var_188 -0.3315; var_189 1.5789; var_190 1.7422; var_191 1.3953; var_192 -2.3632; var_193 0.4036; var_194 -3.3630; var_195 6.4742; var_196 -3.7777; var_197 1.2617; var_198 -0.5888; var_199 0.2552; ,var_0 -0.1789; var_1 0.4158; var_2 -0.0569; var_3 0.9708; var_4 -5.5786; var_5 -0.6420; var_6 9.0102; var_7 -5.5422; var_8 1.1489; var_9 -0.0377; var_10 5.8692; var_11 0.0776; var_12 1.2865; var_13 4.6441; var_14 -1.6139; var_15 -0.6025; var_16 5.0153; var_17 2.3768; var_18 1.2125; var_19 -0.4036; var_20 -2.7085; var_21 -0.6688; var_22 7.1701; var_23 40.1603; var_24 0.5656; var_25 2.2842; var_26 3.2275; var_27 -3.6270; var_28 0.9834; var_29 0.3581; var_30 -0.6793; var_31 0.2078; var_32 -2.9860; var_33 1.0690; var_34 4.6198; var_35 -2.0783; var_36 4.9688; var_37 0.2456; var_38 -0.1341; var_39 -1.0084; var_40 -5.9725; var_41 -0.9513; var_42 -0.0481; var_43 0.6793; var_44 2.8967; var_45 1.9391; var_46 0.6289; var_47 8.3324; var_48 -3.7633; var_49 1.5756; var_50 -1.0989; var_51 -37.8075; var_52 0.8240; var_53 -0.4336; var_54 -0.2513; var_55 2.9830; var_56 -0.3174; var_57 4.2400; var_58 -0.2019; var_59 -0.4667; var_60 0.0386; var_61 -0.1253; var_62 -122.1367; var_63 12.4437; var_64 -1.3893; var_65 -0.4855; var_66 -5.1341; var_67 0.1814; var_68 0.7252; var_69 7.6037; var_70 0.4830; var_71 2.3619; var_72 -0.1714; var_73 6.8696; var_74 -5.8629; var_75 -1.1466; var_76 -0.0058; var_77 -42.5323; var_78 0.3203; var_79 1.1283; var_80 0.5621; var_81 3.1881; var_82 -1.6672; var_83 0.1041; var_84 -0.3505; var_85 2.9427; var_86 0.2633; var_87 -1.7303; var_88 -8.1868; var_89 1.4905; var_90 0.9153; var_91 0.8257; var_92 1.8296; var_93 -0.2723; var_94 -20.0178; var_95 -0.3572; var_96 -0.1000; var_97 5.0237; var_98 -2.6254; var_99 3.9812; var_100 -4.5485; var_101 1.9163; var_102 -0.6614; var_103 0.6824; var_104 0.6334; var_105 -0.5741; var_106 1.3459; var_107 0.8343; var_108 1.8449; var_109 -1.9712; var_110 0.4561; var_111 1.7912; var_112 -2.8278; var_113 0.9313; var_114 2.6279; var_115 1.2315; var_116 -1.5888; var_117 -16.5221; var_118 1.6495; var_119 1.1584; var_120 7.7747; var_121 0.3622; var_122 -1.5649; var_123 1.6376; var_124 11.0856; var_125 1.6285; var_126 0.3084; var_127 -2.6477; var_128 1.0180; var_129 -3.0732; var_130 0.4626; var_131 1.3001; var_132 -0.2618; var_133 4.8723; var_134 -0.5012; var_135 -3.8122; var_136 -1.9226; var_137 0.2664; var_138 -1.7164; var_139 0.3218; var_140 1.5037; var_141 -0.5617; var_142 3.0048; var_143 -59.6290; var_144 -0.1544; var_145 -1.1724; var_146 1.6121; var_147 2.4754; var_148 2.2940; var_149 1.0672; var_150 2.1956; var_151 -0.2211; var_152 0.8526; var_153 1.7858; var_154 -2.5263; var_155 -6.4011; var_156 0.0859; var_157 -0.8420; var_158 -15.4620; var_159 1.5674; var_160 -0.0930; var_161 0.2383; var_162 1.9251; var_163 1.0139; var_164 -1.2088; var_165 25.3156; var_166 0.6441; var_167 -1.1835; var_168 -2.0100; var_169 4.7349; var_170 -0.1711; var_171 36.7686; var_172 -8.3279; var_173 0.5014; var_174 -1.5759; var_175 16.2825; var_176 -0.4297; var_177 -4.1810; var_178 -1.6955; var_179 0.1959; var_180 0.2099; var_181 4.6593; var_182 -5.5885; var_183 -2.1867; var_184 -1.5100; var_185 0.7022; var_186 -4.0733; var_187 -1.0949; var_188 -0.8244; var_189 1.9659; var_190 -0.8070; var_191 1.4347; var_192 -2.7827; var_193 0.2840; var_194 1.9659; var_195 2.0188; var_196 -10.9168; var_197 -4.4771; var_198 -0.1338; var_199 -0.4654; \n",
       "y: EmptyLabelList\n",
       ",,,,\n",
       "Path: ., model=TabularModel(\n",
       "  (embeds): ModuleList()\n",
       "  (emb_drop): Dropout(p=0.0)\n",
       "  (bn_cont): BatchNorm1d(200, eps=1e-05, momentum=0.1, affine=True, track_running_stats=True)\n",
       "  (layers): Sequential(\n",
       "    (0): Linear(in_features=200, out_features=200, bias=True)\n",
       "    (1): ReLU(inplace)\n",
       "    (2): BatchNorm1d(200, eps=1e-05, momentum=0.1, affine=True, track_running_stats=True)\n",
       "    (3): Linear(in_features=200, out_features=160, bias=True)\n",
       "    (4): ReLU(inplace)\n",
       "    (5): BatchNorm1d(160, eps=1e-05, momentum=0.1, affine=True, track_running_stats=True)\n",
       "    (6): Linear(in_features=160, out_features=50, bias=True)\n",
       "    (7): ReLU(inplace)\n",
       "    (8): BatchNorm1d(50, eps=1e-05, momentum=0.1, affine=True, track_running_stats=True)\n",
       "    (9): Linear(in_features=50, out_features=8, bias=True)\n",
       "    (10): ReLU(inplace)\n",
       "    (11): BatchNorm1d(8, eps=1e-05, momentum=0.1, affine=True, track_running_stats=True)\n",
       "    (12): Linear(in_features=8, out_features=2, bias=True)\n",
       "  )\n",
       "), opt_func=functools.partial(<class 'torch.optim.adam.Adam'>, betas=(0.9, 0.99)), loss_func=FlattenedLoss of CrossEntropyLoss(), metrics=[<function accuracy at 0x7f51aa5d62f0>], true_wd=True, bn_wd=True, wd=0.01, train_bn=True, path=PosixPath('.'), model_dir='models', callback_fns=[functools.partial(<class 'fastai.basic_train.Recorder'>, add_time=True)], callbacks=[], layer_groups=[Sequential(\n",
       "  (0): ModuleList()\n",
       "  (1): Dropout(p=0.0)\n",
       "  (2): BatchNorm1d(200, eps=1e-05, momentum=0.1, affine=True, track_running_stats=True)\n",
       "  (3): Linear(in_features=200, out_features=200, bias=True)\n",
       "  (4): ReLU(inplace)\n",
       "  (5): BatchNorm1d(200, eps=1e-05, momentum=0.1, affine=True, track_running_stats=True)\n",
       "  (6): Linear(in_features=200, out_features=160, bias=True)\n",
       "  (7): BatchNorm1d(160, eps=1e-05, momentum=0.1, affine=True, track_running_stats=True)\n",
       "  (8): Linear(in_features=160, out_features=50, bias=True)\n",
       "  (9): BatchNorm1d(50, eps=1e-05, momentum=0.1, affine=True, track_running_stats=True)\n",
       "  (10): Linear(in_features=50, out_features=8, bias=True)\n",
       "  (11): BatchNorm1d(8, eps=1e-05, momentum=0.1, affine=True, track_running_stats=True)\n",
       "  (12): Linear(in_features=8, out_features=2, bias=True)\n",
       ")], add_time=True)"
      ]
     },
     "execution_count": 202,
     "metadata": {},
     "output_type": "execute_result"
    }
   ],
   "source": [
    "learn.load('../exps/models/exp1')"
   ]
  },
  {
   "cell_type": "code",
   "execution_count": 204,
   "metadata": {
    "collapsed": true
   },
   "outputs": [
    {
     "data": {
      "text/plain": [
       "torch.Size([2, 2])"
      ]
     },
     "execution_count": 204,
     "metadata": {},
     "output_type": "execute_result"
    }
   ],
   "source": [
    "p[0].shape"
   ]
  },
  {
   "cell_type": "code",
   "execution_count": 205,
   "metadata": {},
   "outputs": [
    {
     "data": {
      "text/plain": [
       "array([[3.408107e-03, 9.965919e-01],\n",
       "       [9.999009e-01, 9.910943e-05]], dtype=float32)"
      ]
     },
     "execution_count": 205,
     "metadata": {},
     "output_type": "execute_result"
    }
   ],
   "source": [
    "p = p[0].cpu().numpy();\n",
    "p"
   ]
  },
  {
   "cell_type": "code",
   "execution_count": 206,
   "metadata": {},
   "outputs": [
    {
     "data": {
      "text/plain": [
       "array([1, 0])"
      ]
     },
     "execution_count": 206,
     "metadata": {},
     "output_type": "execute_result"
    }
   ],
   "source": [
    "k = p.argmax(axis=1);\n",
    "k"
   ]
  },
  {
   "cell_type": "code",
   "execution_count": 207,
   "metadata": {},
   "outputs": [
    {
     "data": {
      "text/plain": [
       "array([1, 0])"
      ]
     },
     "execution_count": 207,
     "metadata": {},
     "output_type": "execute_result"
    }
   ],
   "source": [
    "act = learn.data.train_ds.y.items;\n",
    "act"
   ]
  },
  {
   "cell_type": "code",
   "execution_count": 184,
   "metadata": {},
   "outputs": [
    {
     "data": {
      "text/plain": [
       "array([1, 0])"
      ]
     },
     "execution_count": 184,
     "metadata": {},
     "output_type": "execute_result"
    }
   ],
   "source": [
    "act = act.astype(int);\n",
    "act"
   ]
  },
  {
   "cell_type": "code",
   "execution_count": 95,
   "metadata": {},
   "outputs": [
    {
     "data": {
      "text/plain": [
       "((15,), (14,))"
      ]
     },
     "execution_count": 95,
     "metadata": {},
     "output_type": "execute_result"
    }
   ],
   "source": [
    "act.shape,k.shape"
   ]
  },
  {
   "cell_type": "code",
   "execution_count": 87,
   "metadata": {},
   "outputs": [
    {
     "name": "stderr",
     "output_type": "stream",
     "text": [
      "/home/ravi/miniconda3/envs/fastpy3/lib/python3.7/site-packages/ipykernel_launcher.py:1: DeprecationWarning: elementwise comparison failed; this will raise an error in the future.\n",
      "  \"\"\"Entry point for launching an IPython kernel.\n"
     ]
    },
    {
     "ename": "AttributeError",
     "evalue": "'bool' object has no attribute 'mean'",
     "output_type": "error",
     "traceback": [
      "\u001b[0;31m---------------------------------------------------------------------------\u001b[0m",
      "\u001b[0;31mAttributeError\u001b[0m                            Traceback (most recent call last)",
      "\u001b[0;32m<ipython-input-87-73659582ebe0>\u001b[0m in \u001b[0;36m<module>\u001b[0;34m\u001b[0m\n\u001b[0;32m----> 1\u001b[0;31m \u001b[0;34m(\u001b[0m\u001b[0mact\u001b[0m \u001b[0;34m==\u001b[0m \u001b[0mk\u001b[0m\u001b[0;34m)\u001b[0m\u001b[0;34m.\u001b[0m\u001b[0mmean\u001b[0m\u001b[0;34m(\u001b[0m\u001b[0;34m)\u001b[0m\u001b[0;34m\u001b[0m\u001b[0;34m\u001b[0m\u001b[0m\n\u001b[0m",
      "\u001b[0;31mAttributeError\u001b[0m: 'bool' object has no attribute 'mean'"
     ]
    }
   ],
   "source": [
    "(act == k).mean()"
   ]
  },
  {
   "cell_type": "code",
   "execution_count": null,
   "metadata": {},
   "outputs": [],
   "source": [
    "from fastai.callbacks import CSVLogger"
   ]
  },
  {
   "cell_type": "code",
   "execution_count": 3,
   "metadata": {},
   "outputs": [],
   "source": [
    "tn = pd.read_csv('exps/history.csv',index_col='epoch')"
   ]
  },
  {
   "cell_type": "code",
   "execution_count": 4,
   "metadata": {},
   "outputs": [
    {
     "data": {
      "text/html": [
       "<div>\n",
       "<style scoped>\n",
       "    .dataframe tbody tr th:only-of-type {\n",
       "        vertical-align: middle;\n",
       "    }\n",
       "\n",
       "    .dataframe tbody tr th {\n",
       "        vertical-align: top;\n",
       "    }\n",
       "\n",
       "    .dataframe thead th {\n",
       "        text-align: right;\n",
       "    }\n",
       "</style>\n",
       "<table border=\"1\" class=\"dataframe\">\n",
       "  <thead>\n",
       "    <tr style=\"text-align: right;\">\n",
       "      <th></th>\n",
       "      <th>train_loss</th>\n",
       "      <th>valid_loss</th>\n",
       "      <th>accuracy</th>\n",
       "      <th>time</th>\n",
       "    </tr>\n",
       "    <tr>\n",
       "      <th>epoch</th>\n",
       "      <th></th>\n",
       "      <th></th>\n",
       "      <th></th>\n",
       "      <th></th>\n",
       "    </tr>\n",
       "  </thead>\n",
       "  <tbody>\n",
       "    <tr>\n",
       "      <th>0</th>\n",
       "      <td>0.331241</td>\n",
       "      <td>0.335422</td>\n",
       "      <td>0.8976</td>\n",
       "      <td>NaN</td>\n",
       "    </tr>\n",
       "    <tr>\n",
       "      <th>1</th>\n",
       "      <td>0.323125</td>\n",
       "      <td>0.330346</td>\n",
       "      <td>0.8976</td>\n",
       "      <td>NaN</td>\n",
       "    </tr>\n",
       "  </tbody>\n",
       "</table>\n",
       "</div>"
      ],
      "text/plain": [
       "       train_loss  valid_loss  accuracy  time\n",
       "epoch                                        \n",
       "0        0.331241    0.335422    0.8976   NaN\n",
       "1        0.323125    0.330346    0.8976   NaN"
      ]
     },
     "execution_count": 4,
     "metadata": {},
     "output_type": "execute_result"
    }
   ],
   "source": [
    "tn.head(2)"
   ]
  },
  {
   "cell_type": "code",
   "execution_count": 5,
   "metadata": {},
   "outputs": [
    {
     "data": {
      "text/plain": [
       "<matplotlib.axes._subplots.AxesSubplot at 0x7fbd43d31fd0>"
      ]
     },
     "execution_count": 5,
     "metadata": {},
     "output_type": "execute_result"
    },
    {
     "data": {
      "image/png": "[encoded data removed]",
      "text/plain": [
       "<Figure size 432x288 with 1 Axes>"
      ]
     },
     "metadata": {
      "needs_background": "light"
     },
     "output_type": "display_data"
    }
   ],
   "source": [
    "tn.plot(y=['valid_loss'],logy=True)"
   ]
  },
  {
   "cell_type": "code",
   "execution_count": 6,
   "metadata": {},
   "outputs": [
    {
     "data": {
      "text/plain": [
       "<matplotlib.axes._subplots.AxesSubplot at 0x7fbd43c02128>"
      ]
     },
     "execution_count": 6,
     "metadata": {},
     "output_type": "execute_result"
    },
    {
     "data": {
      "image/png": "[encoded data removed]",
      "text/plain": [
       "<Figure size 432x288 with 1 Axes>"
      ]
     },
     "metadata": {
      "needs_background": "light"
     },
     "output_type": "display_data"
    }
   ],
   "source": [
    "tn.plot(y=['train_loss'])"
   ]
  },
  {
   "cell_type": "code",
   "execution_count": 7,
   "metadata": {},
   "outputs": [
    {
     "data": {
      "text/plain": [
       "<matplotlib.axes._subplots.AxesSubplot at 0x7fbd43b87e80>"
      ]
     },
     "execution_count": 7,
     "metadata": {},
     "output_type": "execute_result"
    },
    {
     "data": {
      "image/png": "[encoded data removed]",
      "text/plain": [
       "<Figure size 432x288 with 1 Axes>"
      ]
     },
     "metadata": {
      "needs_background": "light"
     },
     "output_type": "display_data"
    }
   ],
   "source": [
    "tn.plot(y=['accuracy'])"
   ]
  },
  {
   "cell_type": "code",
   "execution_count": 1,
   "metadata": {},
   "outputs": [],
   "source": [
    "#p = learn.get_preds(DatasetType.Valid)"
   ]
  },
  {
   "cell_type": "code",
   "execution_count": null,
   "metadata": {},
   "outputs": [],
   "source": []
  },
  {
   "cell_type": "code",
   "execution_count": null,
   "metadata": {},
   "outputs": [],
   "source": []
  },
  {
   "cell_type": "code",
   "execution_count": null,
   "metadata": {},
   "outputs": [],
   "source": []
  }
 ],
 "metadata": {
  "kernelspec": {
   "display_name": "Python 3",
   "language": "python",
   "name": "python3"
  },
  "language_info": {
   "codemirror_mode": {
    "name": "ipython",
    "version": 3
   },
   "file_extension": ".py",
   "mimetype": "text/x-python",
   "name": "python",
   "nbconvert_exporter": "python",
   "pygments_lexer": "ipython3",
   "version": "3.7.2"
  }
 },
 "nbformat": 4,
 "nbformat_minor": 2
}
